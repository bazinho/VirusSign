{
 "cells": [
  {
   "cell_type": "code",
   "execution_count": 1,
   "metadata": {
    "collapsed": false
   },
   "outputs": [
    {
     "name": "stderr",
     "output_type": "stream",
     "text": [
      "Using TensorFlow backend.\n"
     ]
    }
   ],
   "source": [
    "import sys\n",
    "import numpy\n",
    "import argparse\n",
    "from dataset import Dataset\n",
    "from sklearn.preprocessing import LabelEncoder\n",
    "from sklearn.model_selection import StratifiedKFold\n",
    "from sklearn.metrics import confusion_matrix,accuracy_score\n",
    "from keras.utils import np_utils\n",
    "from keras.models import Sequential\n",
    "from keras.layers import Input,Dense,Dropout\n",
    "from keras.optimizers import SGD\n",
    "import matplotlib.pyplot as plt\n",
    "import matplotlib.cm as colormap\n",
    "\n",
    "import tensorflow\n",
    "from tensorflow.python.ops import control_flow_ops \n",
    "tensorflow.python.control_flow_ops = control_flow_ops"
   ]
  },
  {
   "cell_type": "code",
   "execution_count": 2,
   "metadata": {
    "collapsed": false
   },
   "outputs": [],
   "source": [
    "def plot_acc(history):\n",
    "    figure = plt.gcf()\n",
    "    figure.set_size_inches(24, 9)\n",
    "    ax = plt.subplot()\n",
    "    plt.title('Accuracy')\n",
    "    plt.ylabel('Accuracy')\n",
    "    plt.xlabel('Epoch')\n",
    "    colors = iter(colormap.gist_rainbow(numpy.linspace(0, 1, len(history))))\n",
    "    for i in xrange(len(history)):\n",
    "        color=next(colors)\n",
    "        plt.plot(history[i].history['acc'], label='Train '+str(i), color=color, linestyle = 'solid')\n",
    "        plt.plot(history[i].history['val_acc'], label='Test '+str(i), color=color, linestyle = 'dotted')\n",
    "    x1,x2,y1,y2 = plt.axis()\n",
    "    plt.axis((x1,x2,0.0,1.0))\n",
    "    plt.legend()\n",
    "    box = ax.get_position()\n",
    "    ax.set_position([box.x0, box.y0, box.width * 0.8, box.height])\n",
    "    ax.legend(loc='center left', bbox_to_anchor=(1, 0.5))\n",
    "    plt.grid(True)\n",
    "    plt.show()"
   ]
  },
  {
   "cell_type": "code",
   "execution_count": 3,
   "metadata": {
    "collapsed": true
   },
   "outputs": [],
   "source": [
    "def plot_loss(history):\n",
    "    figure = plt.gcf()\n",
    "    figure.set_size_inches(24, 9)\n",
    "    ax = plt.subplot()\n",
    "    plt.title('Loss')\n",
    "    plt.ylabel('Loss')\n",
    "    plt.xlabel('Epoch')\n",
    "    colors = iter(colormap.gist_rainbow(numpy.linspace(0, 1, len(history))))\n",
    "    for i in xrange(len(history)):\n",
    "        color=next(colors)\n",
    "        plt.plot(history[i].history['loss'], label='Train '+str(i), color=color, linestyle = 'solid')\n",
    "        plt.plot(history[i].history['val_loss'], label='Test '+str(i), color=color, linestyle = 'dotted')\n",
    "    plt.legend()\n",
    "    box = ax.get_position()\n",
    "    ax.set_position([box.x0, box.y0, box.width * 0.8, box.height])\n",
    "    ax.legend(loc='center left', bbox_to_anchor=(1, 0.5))\n",
    "    plt.grid(True)\n",
    "    plt.show()"
   ]
  },
  {
   "cell_type": "code",
   "execution_count": 4,
   "metadata": {
    "collapsed": true
   },
   "outputs": [],
   "source": [
    "dataset = 'Datasets/VGG19-Features.pkl'"
   ]
  },
  {
   "cell_type": "code",
   "execution_count": 5,
   "metadata": {
    "collapsed": false
   },
   "outputs": [],
   "source": [
    "ds = Dataset()\n",
    "X, y, list_fams, no_imgs = ds.load(dataset)"
   ]
  },
  {
   "cell_type": "code",
   "execution_count": 6,
   "metadata": {
    "collapsed": false
   },
   "outputs": [],
   "source": [
    "encoder = LabelEncoder()\n",
    "encoder.fit(y)\n",
    "y_encoded = encoder.transform(y)\n",
    "Y = np_utils.to_categorical(y_encoded)"
   ]
  },
  {
   "cell_type": "code",
   "execution_count": null,
   "metadata": {
    "collapsed": false
   },
   "outputs": [
    {
     "name": "stdout",
     "output_type": "stream",
     "text": [
      "Train on 9112 samples, validate on 1024 samples\n",
      "Epoch 1/10000\n",
      "9112/9112 [==============================] - 2s - loss: 3.0964 - acc: 0.0631 - val_loss: 3.3082 - val_acc: 0.1377\n",
      "Epoch 2/10000\n",
      "9112/9112 [==============================] - 1s - loss: 3.5571 - acc: 0.1284 - val_loss: 3.2940 - val_acc: 0.0342\n",
      "Epoch 3/10000\n",
      "9112/9112 [==============================] - 1s - loss: 3.5131 - acc: 0.0600 - val_loss: 3.0861 - val_acc: 0.1123\n",
      "Epoch 4/10000\n",
      "9112/9112 [==============================] - 1s - loss: 3.2743 - acc: 0.0678 - val_loss: 2.9471 - val_acc: 0.1123\n",
      "Epoch 5/10000\n",
      "9112/9112 [==============================] - 1s - loss: 3.0699 - acc: 0.0795 - val_loss: 2.8917 - val_acc: 0.0850\n",
      "Epoch 6/10000\n",
      "9112/9112 [==============================] - 1s - loss: 2.9727 - acc: 0.0891 - val_loss: 2.8831 - val_acc: 0.1377\n",
      "Epoch 7/10000\n",
      "9112/9112 [==============================] - 1s - loss: 2.9787 - acc: 0.1185 - val_loss: 2.8812 - val_acc: 0.1377\n",
      "Epoch 8/10000\n",
      "9112/9112 [==============================] - 1s - loss: 2.9508 - acc: 0.1280 - val_loss: 2.8594 - val_acc: 0.1377\n",
      "Epoch 9/10000\n",
      "9112/9112 [==============================] - 1s - loss: 2.9117 - acc: 0.1178 - val_loss: 2.8736 - val_acc: 0.1377\n",
      "Epoch 10/10000\n",
      "9112/9112 [==============================] - 1s - loss: 2.9160 - acc: 0.1022 - val_loss: 2.9006 - val_acc: 0.1123\n",
      "Epoch 11/10000\n",
      "9112/9112 [==============================] - 1s - loss: 2.9231 - acc: 0.0941 - val_loss: 2.9043 - val_acc: 0.1123\n",
      "Epoch 12/10000\n",
      "9112/9112 [==============================] - 1s - loss: 2.9237 - acc: 0.0975 - val_loss: 2.8936 - val_acc: 0.1123\n",
      "Epoch 13/10000\n",
      "9112/9112 [==============================] - 1s - loss: 2.9107 - acc: 0.1134 - val_loss: 2.8771 - val_acc: 0.1377\n",
      "Epoch 14/10000\n",
      "9112/9112 [==============================] - 1s - loss: 2.8936 - acc: 0.1192 - val_loss: 2.8615 - val_acc: 0.1377\n",
      "Epoch 15/10000\n",
      "9112/9112 [==============================] - 1s - loss: 2.8820 - acc: 0.1321 - val_loss: 2.8531 - val_acc: 0.1377\n",
      "Epoch 16/10000\n",
      "9112/9112 [==============================] - 1s - loss: 2.8841 - acc: 0.1298 - val_loss: 2.8489 - val_acc: 0.1377\n",
      "Epoch 17/10000\n",
      "9112/9112 [==============================] - 1s - loss: 2.8828 - acc: 0.1292 - val_loss: 2.8465 - val_acc: 0.1377\n",
      "Epoch 18/10000\n",
      "9112/9112 [==============================] - 1s - loss: 2.8849 - acc: 0.1232 - val_loss: 2.8481 - val_acc: 0.1377\n",
      "Epoch 19/10000\n"
     ]
    }
   ],
   "source": [
    "seed = 1\n",
    "numpy.random.seed(seed)\n",
    "\n",
    "# Create stratified k-fold subsets\n",
    "kfold = 10  # no. of folds\n",
    "skf = StratifiedKFold(kfold, shuffle=True,random_state=1)\n",
    "skfind = [None] * kfold  # skfind[i][0] -> train indices, skfind[i][1] -> test indices\n",
    "cnt = 0\n",
    "for index in skf.split(X, y):\n",
    "    skfind[cnt] = index\n",
    "    cnt += 1\n",
    "    \n",
    "history = []\n",
    "conf_mat = numpy.zeros((len(list_fams),len(list_fams))) # Initializing the Confusion Matrix\n",
    "for i in range(kfold):\n",
    "    train_indices = skfind[i][0]\n",
    "    test_indices = skfind[i][1]\n",
    "    X_train = X[train_indices]\n",
    "    Y_train = Y[train_indices]\n",
    "    X_test = X[test_indices]\n",
    "    Y_test = Y[test_indices]\n",
    "    y_test = y[test_indices]\n",
    "    \n",
    "    clf = Sequential()\n",
    "    clf.add(Dense(160, input_shape=(X_train.shape[1],), activation='relu', name='fc1'))\n",
    "    clf.add(Dropout(0.2))\n",
    "    clf.add(Dense(160, activation='relu', name='fc2'))\n",
    "    clf.add(Dropout(0.2))\n",
    "    clf.add(Dense(Y_train.shape[1], activation='softmax', name='predictions'))\n",
    "    clf.compile(optimizer='Adam', loss='categorical_crossentropy', metrics=['accuracy'])\n",
    "    \n",
    "    h = clf.fit(X_train, Y_train, validation_data=(X_test, Y_test), nb_epoch=10000, batch_size=X_train.shape[0], verbose=1)  # Training\n",
    "    history.append(h)\n",
    "    \n",
    "    y_predict = clf.predict_classes(X_test, verbose=0)  # Testing\n",
    "    print(\"[%d] Test acurracy: %.4f\" %(i,accuracy_score(y_test,y_predict)))\n",
    "    cm = confusion_matrix(y_test,y_predict)  # Compute confusion matrix for this fold\n",
    "    conf_mat = conf_mat + cm  # Compute global confusion matrix\n",
    "    \n",
    "# Computing the average accuracy\n",
    "avg_acc = numpy.trace(conf_mat)/sum(no_imgs)\n",
    "print(\"Average acurracy: %.4f\" %(avg_acc))"
   ]
  },
  {
   "cell_type": "code",
   "execution_count": null,
   "metadata": {
    "collapsed": false
   },
   "outputs": [],
   "source": [
    "plot_acc(history)"
   ]
  },
  {
   "cell_type": "code",
   "execution_count": null,
   "metadata": {
    "collapsed": false
   },
   "outputs": [],
   "source": [
    "plot_loss(history)"
   ]
  },
  {
   "cell_type": "code",
   "execution_count": null,
   "metadata": {
    "collapsed": true
   },
   "outputs": [],
   "source": [
    "# Viewing the confusion matrix\n",
    "conf_mat = conf_mat.T  # since rows and cols are interchangeable\n",
    "conf_mat_norm = conf_mat/no_imgs  # Normalizing the confusion matrix"
   ]
  },
  {
   "cell_type": "code",
   "execution_count": null,
   "metadata": {
    "collapsed": false
   },
   "outputs": [],
   "source": [
    "print(\"Plotting the confusion matrix\")\n",
    "conf_mat = numpy.around(conf_mat_norm,decimals=2)  # rounding to display in figure\n",
    "figure = plt.gcf()\n",
    "figure.set_size_inches(24, 18)\n",
    "plt.imshow(conf_mat,interpolation='nearest')\n",
    "for row in xrange(len(list_fams)):\n",
    "    for col in xrange(len(list_fams)):\n",
    "        plt.annotate(str(conf_mat[row][col]),xy=(col,row),ha='center',va='center')\n",
    "plt.xticks(range(len(list_fams)),list_fams,rotation=90,fontsize=10)\n",
    "plt.yticks(range(len(list_fams)),list_fams,fontsize=10)\n",
    "plt.title('Confusion matrix')\n",
    "plt.colorbar()\n",
    "plt.show()"
   ]
  }
 ],
 "metadata": {
  "kernelspec": {
   "display_name": "Python 2",
   "language": "python",
   "name": "python2"
  },
  "language_info": {
   "codemirror_mode": {
    "name": "ipython",
    "version": 2
   },
   "file_extension": ".py",
   "mimetype": "text/x-python",
   "name": "python",
   "nbconvert_exporter": "python",
   "pygments_lexer": "ipython2",
   "version": "2.7.12"
  }
 },
 "nbformat": 4,
 "nbformat_minor": 1
}
