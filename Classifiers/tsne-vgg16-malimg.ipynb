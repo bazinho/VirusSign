{
 "cells": [
  {
   "cell_type": "code",
   "execution_count": null,
   "metadata": {
    "collapsed": false
   },
   "outputs": [],
   "source": [
    "import os\n",
    "import cPickle\n",
    "from dataset import Dataset\n",
    "import numpy as np\n",
    "from numpy.random import RandomState\n",
    "from keras.models import Model\n",
    "from keras.layers import Flatten, Dense, Input\n",
    "from keras.layers import Convolution2D, MaxPooling2D\n",
    "from keras import backend as K\n",
    "from tsne import bh_sne\n",
    "import matplotlib.pyplot as plt\n",
    "\n",
    "import tensorflow as tf\n",
    "tf.python.control_flow_ops = tf"
   ]
  },
  {
   "cell_type": "code",
   "execution_count": null,
   "metadata": {
    "collapsed": true
   },
   "outputs": [],
   "source": [
    "def VGG16(include_top=True):\n",
    "    '''Instantiate the VGG16 architecture,\n",
    "    loading weights pre-trained on ImageNet.\n",
    "    # Arguments\n",
    "        include_top: whether to include the 3 fully-connected\n",
    "            layers at the top of the network.\n",
    "    # Returns\n",
    "        A Keras model instance.\n",
    "    '''\n",
    "   \n",
    "    # Set proper input shape\n",
    "    input_shape = (224, 224, 3)\n",
    "    img_input = Input(shape=input_shape)\n",
    "    \n",
    "    # Block 1\n",
    "    x = Convolution2D(64, 3, 3, activation='relu', border_mode='same', name='block1_conv1')(img_input)\n",
    "    x = Convolution2D(64, 3, 3, activation='relu', border_mode='same', name='block1_conv2')(x)\n",
    "    x = MaxPooling2D((2, 2), strides=(2, 2), name='block1_pool')(x)\n",
    "\n",
    "    # Block 2\n",
    "    x = Convolution2D(128, 3, 3, activation='relu', border_mode='same', name='block2_conv1')(x)\n",
    "    x = Convolution2D(128, 3, 3, activation='relu', border_mode='same', name='block2_conv2')(x)\n",
    "    x = MaxPooling2D((2, 2), strides=(2, 2), name='block2_pool')(x)\n",
    "\n",
    "    # Block 3\n",
    "    x = Convolution2D(256, 3, 3, activation='relu', border_mode='same', name='block3_conv1')(x)\n",
    "    x = Convolution2D(256, 3, 3, activation='relu', border_mode='same', name='block3_conv2')(x)\n",
    "    x = Convolution2D(256, 3, 3, activation='relu', border_mode='same', name='block3_conv3')(x)\n",
    "    x = MaxPooling2D((2, 2), strides=(2, 2), name='block3_pool')(x)\n",
    "\n",
    "    # Block 4\n",
    "    x = Convolution2D(512, 3, 3, activation='relu', border_mode='same', name='block4_conv1')(x)\n",
    "    x = Convolution2D(512, 3, 3, activation='relu', border_mode='same', name='block4_conv2')(x)\n",
    "    x = Convolution2D(512, 3, 3, activation='relu', border_mode='same', name='block4_conv3')(x)\n",
    "    x = MaxPooling2D((2, 2), strides=(2, 2), name='block4_pool')(x)\n",
    "\n",
    "    # Block 5\n",
    "    x = Convolution2D(512, 3, 3, activation='relu', border_mode='same', name='block5_conv1')(x)\n",
    "    x = Convolution2D(512, 3, 3, activation='relu', border_mode='same', name='block5_conv2')(x)\n",
    "    x = Convolution2D(512, 3, 3, activation='relu', border_mode='same', name='block5_conv3')(x)\n",
    "    x = MaxPooling2D((2, 2), strides=(2, 2), name='block5_pool')(x)\n",
    "\n",
    "    x = Flatten(name='flatten')(x)\n",
    "    \n",
    "    if include_top:\n",
    "        # Classification block\n",
    "        x = Dense(4096, activation='relu', name='fc1')(x)\n",
    "        x = Dense(4096, activation='relu', name='fc2')(x)\n",
    "        x = Dense(1000, activation='softmax', name='predictions')(x)\n",
    "\n",
    "    # Create model\n",
    "    model = Model(img_input, x)\n",
    "\n",
    "    # load weights\n",
    "    if include_top:\n",
    "        weights_path = 'vgg16_weights_tf_dim_ordering_tf_kernels.h5'\n",
    "    else:\n",
    "        weights_path = 'vgg16_weights_tf_dim_ordering_tf_kernels_notop.h5'\n",
    "    model.load_weights(weights_path)\n",
    "    return model"
   ]
  },
  {
   "cell_type": "code",
   "execution_count": null,
   "metadata": {
    "collapsed": false
   },
   "outputs": [],
   "source": [
    "def savetsne(X, y, classes, pca_d=None):\n",
    "    print(\"Running t-SNE ...\")\n",
    "    vis_data = bh_sne(np.float64(X), d=2, pca_d=pca_d, perplexity=30., theta=0.5, random_state=RandomState(1))\n",
    "    print(\"Plotting t-SNE ...\")\n",
    "    figure = plt.gcf()\n",
    "    figure.set_size_inches(24, 18)\n",
    "    plt.scatter(vis_data[:, 0], vis_data[:, 1], c=y, cmap=plt.cm.get_cmap(\"Set1\", len(classes)))\n",
    "    plt.clim(-0.5, len(classes)-0.5)\n",
    "    cbar = plt.colorbar(ticks=range(len(classes)))\n",
    "    cbar.ax.set_yticklabels(classes)                     \n",
    "    plt.show()"
   ]
  },
  {
   "cell_type": "code",
   "execution_count": null,
   "metadata": {
    "collapsed": false
   },
   "outputs": [],
   "source": [
    "dataset = 'Datasets/Malimg-224x224.pkl'\n",
    "print(\"Loading dataset from %s ...\" %(dataset))\n",
    "ds = Dataset()\n",
    "X, y, classes, no_imgs = ds.load(dataset)"
   ]
  },
  {
   "cell_type": "code",
   "execution_count": null,
   "metadata": {
    "collapsed": false
   },
   "outputs": [],
   "source": [
    "X.shape"
   ]
  },
  {
   "cell_type": "code",
   "execution_count": null,
   "metadata": {
    "collapsed": false
   },
   "outputs": [],
   "source": [
    "print(\"\\nBuilding t-SNE plot for raw input ...\")\n",
    "savetsne(X, y, classes)"
   ]
  },
  {
   "cell_type": "code",
   "execution_count": null,
   "metadata": {
    "collapsed": false
   },
   "outputs": [],
   "source": [
    "dataset = 'Datasets/VGG16-Features.pkl'\n",
    "if os.path.exists(dataset):\n",
    "    print(\"Loading VGG16 features from %s ...\" %(dataset))\n",
    "    ds = Dataset()\n",
    "    vgg16features, y, classes, no_imgs = ds.load(dataset)\n",
    "else:\n",
    "    print(\"\\nBuilding VGG16 model ...\")\n",
    "    model = VGG16(include_top=False)\n",
    "    input_shape = (224, 224, 3)\n",
    "    w, h = X.shape\n",
    "    Xprocessed = np.empty((w, input_shape[0], input_shape[1], input_shape[2]), dtype=np.float32)\n",
    "    for channel in range(input_shape[2]):\n",
    "        Xprocessed[:, :, :, channel] =  X.reshape(w, input_shape[0], input_shape[1]).astype('float32')/255\n",
    "    vgg16features = model.predict(Xprocessed)\n",
    "    \n",
    "    print(\"\\nSaving VGG16 extracted features in file %s ...\" %(dataset))\n",
    "    vggdataset = (vgg16features, y, classes, no_imgs)\n",
    "    f = open(dataset, 'wb')\n",
    "    cPickle.dump(vggdataset, f)\n",
    "    f.close()"
   ]
  },
  {
   "cell_type": "code",
   "execution_count": null,
   "metadata": {
    "collapsed": false
   },
   "outputs": [],
   "source": [
    "vgg16features.shape"
   ]
  },
  {
   "cell_type": "code",
   "execution_count": null,
   "metadata": {
    "collapsed": false
   },
   "outputs": [],
   "source": [
    "print(\"\\nBuilding t-SNE plot for VGG16 features ...\")\n",
    "savetsne(vgg16features, y, classes)"
   ]
  }
 ],
 "metadata": {
  "kernelspec": {
   "display_name": "Python 3",
   "language": "python",
   "name": "python3"
  },
  "language_info": {
   "codemirror_mode": {
    "name": "ipython",
    "version": 3
   },
   "file_extension": ".py",
   "mimetype": "text/x-python",
   "name": "python",
   "nbconvert_exporter": "python",
   "pygments_lexer": "ipython3",
   "version": "3.5.2"
  }
 },
 "nbformat": 4,
 "nbformat_minor": 1
}
