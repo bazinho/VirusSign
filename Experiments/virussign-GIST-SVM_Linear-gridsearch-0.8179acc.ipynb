{
 "cells": [
  {
   "cell_type": "code",
   "execution_count": 1,
   "metadata": {
    "collapsed": true
   },
   "outputs": [],
   "source": [
    "import os\n",
    "import os.path\n",
    "import glob\n",
    "import numpy as np\n",
    "import Image,leargist\n",
    "import matplotlib.pyplot as plt\n",
    "from sklearn.model_selection import StratifiedKFold\n",
    "from sklearn.metrics import confusion_matrix,accuracy_score\n",
    "from sklearn import svm\n",
    "\n",
    "from sklearn.model_selection import StratifiedShuffleSplit\n",
    "from sklearn.model_selection import GridSearchCV\n",
    "import sklearn_evaluation.plot as skplot\n",
    "from sklearn.model_selection import learning_curve\n",
    "\n",
    "import matplotlib.pyplot as plt\n",
    "import matplotlib.cm as colormap\n",
    "plt.rcParams['image.cmap'] = 'Paired'\n",
    "\n",
    "import numpy as np\n",
    "np.random.seed(1)"
   ]
  },
  {
   "cell_type": "code",
   "execution_count": 2,
   "metadata": {
    "collapsed": true
   },
   "outputs": [],
   "source": [
    "imagedir = \"Datasets/ByFamilyImagesWidth\""
   ]
  },
  {
   "cell_type": "code",
   "execution_count": 3,
   "metadata": {},
   "outputs": [
    {
     "name": "stdout",
     "output_type": "stream",
     "text": [
      "Label: 0\tFamily:         allaple\tNumber of images: 362\n",
      "Label: 1\tFamily:           alman\tNumber of images: 325\n",
      "Label: 2\tFamily:          autoit\tNumber of images: 261\n",
      "Label: 3\tFamily:            daws\tNumber of images: 466\n",
      "Label: 4\tFamily:            delf\tNumber of images: 359\n",
      "Label: 5\tFamily:         gamarue\tNumber of images: 259\n",
      "Label: 6\tFamily:          ibryte\tNumber of images: 347\n",
      "Label: 7\tFamily:          loring\tNumber of images: 285\n",
      "Label: 8\tFamily:          mydoom\tNumber of images: 578\n",
      "Label: 9\tFamily:          qukart\tNumber of images: 253\n",
      "Label:10\tFamily:          ramnit\tNumber of images: 506\n",
      "Label:11\tFamily:          sality\tNumber of images: 1401\n",
      "Label:12\tFamily:          simbot\tNumber of images: 1148\n",
      "Label:13\tFamily:       softpulse\tNumber of images: 912\n",
      "Label:14\tFamily:          viking\tNumber of images: 183\n",
      "Label:15\tFamily:         virlock\tNumber of images: 373\n",
      "Label:16\tFamily:          vobfus\tNumber of images: 405\n",
      "Label:17\tFamily:          wapomi\tNumber of images: 345\n",
      "Label:18\tFamily:            zbot\tNumber of images: 863\n",
      "Label:19\tFamily:          zegost\tNumber of images: 505\n",
      "Processing images ...\n",
      "Images processed: 10136\n"
     ]
    }
   ],
   "source": [
    "cur_dir = os.getcwd()\n",
    "os.chdir(imagedir)  # the parent folder with sub-folders\n",
    "\n",
    "# Get number of samples per family\n",
    "list_fams = sorted(os.listdir(os.getcwd()), key=str.lower)  # vector of strings with family names\n",
    "no_imgs = []  # No. of samples per family\n",
    "for i in range(len(list_fams)):\n",
    "    os.chdir(list_fams[i])\n",
    "    len1 = len(glob.glob('*.png'))  # assuming the images are stored as 'png'\n",
    "    no_imgs.append(len1)\n",
    "    os.chdir('..')\n",
    "num_samples = np.sum(no_imgs)  # total number of all samples\n",
    "\n",
    "# Compute the labels\n",
    "y = np.zeros(num_samples)\n",
    "pos = 0\n",
    "label = 0\n",
    "for i in no_imgs:\n",
    "    print (\"Label:%2d\\tFamily: %15s\\tNumber of images: %d\" % (label, list_fams[label], i))\n",
    "    for j in range(i):\n",
    "        y[pos] = label\n",
    "        pos += 1\n",
    "    label += 1\n",
    "num_classes = label\n",
    "\n",
    "# Compute the features\n",
    "X = np.zeros((num_samples, 320))\n",
    "cnt = 0\n",
    "list_paths = [] # List of image paths\n",
    "print(\"Processing images ...\")\n",
    "for i in range(len(list_fams)):\n",
    "    for img_file in glob.glob(list_fams[i]+'/*.png'):\n",
    "        #print(\"[%d] Processing image: %s\" % (cnt, img_file))\n",
    "        im = Image.open(img_file)\n",
    "        im1 = im.resize((64,64),Image.ANTIALIAS); # for faster computation\n",
    "        des = leargist.color_gist(im1)\n",
    "        X[cnt] = des[0:320]\n",
    "        cnt += 1\n",
    "print(\"Images processed: %d\" %(cnt))\n",
    "\n",
    "os.chdir(cur_dir)"
   ]
  },
  {
   "cell_type": "code",
   "execution_count": 4,
   "metadata": {},
   "outputs": [
    {
     "data": {
      "text/plain": [
       "(10136, 320)"
      ]
     },
     "execution_count": 4,
     "metadata": {},
     "output_type": "execute_result"
    }
   ],
   "source": [
    "X.shape"
   ]
  },
  {
   "cell_type": "code",
   "execution_count": 5,
   "metadata": {},
   "outputs": [
    {
     "name": "stdout",
     "output_type": "stream",
     "text": [
      "Fitting 5 folds for each of 13 candidates, totalling 65 fits\n",
      "[CV] C=0.01 ..........................................................\n",
      "[CV] C=0.01 ..........................................................\n",
      "[CV] C=0.01 ..........................................................\n",
      "[CV] C=0.01 ..........................................................\n",
      "[CV] C=0.01 ..........................................................\n",
      "[CV] C=0.1 ...........................................................\n",
      "[CV] C=0.1 ...........................................................\n",
      "[CV] C=0.1 ...........................................................\n",
      "[CV] C=0.1 ...........................................................\n",
      "[CV] C=0.1 ...........................................................\n",
      "[CV] C=1.0 ...........................................................\n",
      "[CV] C=1.0 ...........................................................\n",
      "[CV] C=1.0 ...........................................................\n",
      "[CV] C=1.0 ...........................................................\n",
      "[CV] C=1.0 ...........................................................\n",
      "[CV] C=10.0 ..........................................................\n",
      "[CV] C=10.0 ..........................................................\n",
      "[CV] C=10.0 ..........................................................\n",
      "[CV] C=10.0 ..........................................................\n",
      "[CV] C=10.0 ..........................................................\n",
      "[CV] ........................... C=0.01, score=0.571006, total=   4.6s\n",
      "[CV] C=100.0 .........................................................\n"
     ]
    },
    {
     "name": "stderr",
     "output_type": "stream",
     "text": [
      "[Parallel(n_jobs=20)]: Done   1 tasks      | elapsed:    5.1s\n"
     ]
    },
    {
     "name": "stdout",
     "output_type": "stream",
     "text": [
      "[CV] ........................... C=0.01, score=0.566568, total=   5.2s\n",
      "[CV] C=100.0 .........................................................\n",
      "[CV] ........................... C=0.01, score=0.573964, total=   6.1s\n",
      "[CV] C=100.0 .........................................................\n",
      "[CV] ........................... C=0.01, score=0.567554, total=   6.2s\n",
      "[CV] C=100.0 .........................................................\n",
      "[CV] ........................... C=0.01, score=0.578402, total=   6.8s\n",
      "[CV] C=100.0 .........................................................\n",
      "[CV] ............................ C=0.1, score=0.707594, total=   7.3s\n",
      "[CV] C=1000.0 ........................................................\n",
      "[CV] ............................ C=0.1, score=0.689349, total=   7.6s\n",
      "[CV] C=1000.0 ........................................................\n",
      "[CV] ............................ C=0.1, score=0.711045, total=   7.8s\n",
      "[CV] C=1000.0 ........................................................\n",
      "[CV] ............................ C=0.1, score=0.708580, total=   9.3s\n",
      "[CV] C=1000.0 ........................................................\n",
      "[CV] ............................ C=0.1, score=0.704635, total=  11.1s\n",
      "[CV] C=1000.0 ........................................................\n"
     ]
    },
    {
     "name": "stderr",
     "output_type": "stream",
     "text": [
      "[Parallel(n_jobs=20)]: Done  10 tasks      | elapsed:   12.2s\n"
     ]
    },
    {
     "name": "stdout",
     "output_type": "stream",
     "text": [
      "[CV] ............................ C=1.0, score=0.774162, total=  24.9s\n",
      "[CV] C=10000.0 .......................................................\n",
      "[CV] ............................ C=1.0, score=0.784517, total=  32.4s\n",
      "[CV] C=10000.0 .......................................................\n",
      "[CV] ............................ C=1.0, score=0.782544, total=  34.4s\n",
      "[CV] C=10000.0 .......................................................\n",
      "[CV] ............................ C=1.0, score=0.765286, total=  34.8s\n",
      "[CV] C=10000.0 .......................................................\n",
      "[CV] ............................ C=1.0, score=0.777120, total=  35.1s\n",
      "[CV] C=10000.0 .......................................................\n",
      "[CV] ........................... C=10.0, score=0.818540, total= 2.1min\n",
      "[CV] C=100000.0 ......................................................\n",
      "[CV] ........................... C=10.0, score=0.810158, total= 2.2min\n",
      "[CV] C=100000.0 ......................................................\n",
      "[CV] .......................... C=100.0, score=0.823964, total= 2.5min\n",
      "[CV] C=100000.0 ......................................................\n",
      "[CV] ........................... C=10.0, score=0.815089, total= 2.8min\n",
      "[CV] C=100000.0 ......................................................\n",
      "[CV] ........................... C=10.0, score=0.817061, total= 2.8min\n",
      "[CV] C=100000.0 ......................................................\n",
      "[CV] ........................... C=10.0, score=0.811637, total= 2.8min\n",
      "[CV] C=1000000.0 .....................................................\n"
     ]
    },
    {
     "name": "stderr",
     "output_type": "stream",
     "text": [
      "[Parallel(n_jobs=20)]: Done  21 tasks      | elapsed:  2.9min\n"
     ]
    },
    {
     "name": "stdout",
     "output_type": "stream",
     "text": [
      "[CV] ......................... C=1000.0, score=0.738166, total= 3.0min\n",
      "[CV] C=1000000.0 .....................................................\n",
      "[CV] ......................... C=1000.0, score=0.723866, total= 3.0min\n",
      "[CV] C=1000000.0 .....................................................\n",
      "[CV] .......................... C=100.0, score=0.821499, total= 3.1min\n",
      "[CV] C=1000000.0 .....................................................\n",
      "[CV] .......................... C=100.0, score=0.816568, total= 3.1min\n",
      "[CV] C=1000000.0 .....................................................\n",
      "[CV] .......................... C=100.0, score=0.813609, total= 3.2min\n",
      "[CV] C=10000000.0 ....................................................\n",
      "[CV] .......................... C=100.0, score=0.813609, total= 3.2min\n",
      "[CV] C=10000000.0 ....................................................\n",
      "[CV] ......................... C=1000.0, score=0.790927, total= 3.1min\n",
      "[CV] C=10000000.0 ....................................................\n",
      "[CV] ........................ C=10000.0, score=0.774655, total= 2.9min\n",
      "[CV] C=10000000.0 ....................................................\n",
      "[CV] ......................... C=1000.0, score=0.791420, total= 3.6min\n",
      "[CV] C=10000000.0 ....................................................\n",
      "[CV] ......................... C=1000.0, score=0.808679, total= 3.6min\n",
      "[CV] C=100000000.0 ...................................................\n",
      "[CV] ........................ C=10000.0, score=0.769231, total= 3.6min\n",
      "[CV] C=100000000.0 ...................................................\n",
      "[CV] ........................ C=10000.0, score=0.731755, total= 3.6min\n",
      "[CV] C=100000000.0 ...................................................\n"
     ]
    },
    {
     "name": "stderr",
     "output_type": "stream",
     "text": [
      "[Parallel(n_jobs=20)]: Done  33 out of  65 | elapsed:  4.2min remaining:  4.1min\n"
     ]
    },
    {
     "name": "stdout",
     "output_type": "stream",
     "text": [
      "[CV] ........................ C=10000.0, score=0.760355, total= 3.6min\n",
      "[CV] C=100000000.0 ...................................................\n",
      "[CV] ........................ C=10000.0, score=0.775148, total= 3.8min\n",
      "[CV] C=100000000.0 ...................................................\n",
      "[CV] ....................... C=100000.0, score=0.777613, total= 3.1min\n",
      "[CV] C=1000000000.0 ..................................................\n",
      "[CV] ....................... C=100000.0, score=0.800296, total= 3.1min\n",
      "[CV] C=1000000000.0 ..................................................\n",
      "[CV] ....................... C=100000.0, score=0.789941, total= 2.9min\n",
      "[CV] C=1000000000.0 ..................................................\n",
      "[CV] ...................... C=1000000.0, score=0.792899, total= 2.9min\n",
      "[CV] C=1000000000.0 ..................................................\n",
      "[CV] ...................... C=1000000.0, score=0.800296, total= 3.0min\n",
      "[CV] C=1000000000.0 ..................................................\n"
     ]
    },
    {
     "name": "stderr",
     "output_type": "stream",
     "text": [
      "[Parallel(n_jobs=20)]: Done  40 out of  65 | elapsed:  6.2min remaining:  3.9min\n"
     ]
    },
    {
     "name": "stdout",
     "output_type": "stream",
     "text": [
      "[CV] ....................... C=100000.0, score=0.796351, total= 3.3min\n",
      "[CV] C=10000000000.0 .................................................\n",
      "[CV] ....................... C=100000.0, score=0.795365, total= 3.4min\n",
      "[CV] C=10000000000.0 .................................................\n",
      "[CV] ..................... C=10000000.0, score=0.777613, total= 3.0min\n",
      "[CV] C=10000000000.0 .................................................\n",
      "[CV] ...................... C=1000000.0, score=0.776134, total= 3.5min\n",
      "[CV] C=10000000000.0 .................................................\n",
      "[CV] ...................... C=1000000.0, score=0.770217, total= 3.4min\n",
      "[CV] C=10000000000.0 .................................................\n",
      "[CV] ...................... C=1000000.0, score=0.743590, total= 3.4min\n",
      "[CV] ..................... C=10000000.0, score=0.777613, total= 3.3min\n"
     ]
    },
    {
     "name": "stderr",
     "output_type": "stream",
     "text": [
      "[Parallel(n_jobs=20)]: Done  47 out of  65 | elapsed:  6.7min remaining:  2.6min\n"
     ]
    },
    {
     "name": "stdout",
     "output_type": "stream",
     "text": [
      "[CV] ..................... C=10000000.0, score=0.817061, total= 3.4min\n",
      "[CV] ..................... C=10000000.0, score=0.785010, total= 3.4min\n",
      "[CV] .................... C=100000000.0, score=0.774655, total= 3.2min\n",
      "[CV] ..................... C=10000000.0, score=0.809665, total= 3.4min\n",
      "[CV] .................... C=100000000.0, score=0.794872, total= 3.2min\n",
      "[CV] .................... C=100000000.0, score=0.777613, total= 3.3min\n",
      "[CV] .................... C=100000000.0, score=0.702663, total= 3.3min\n"
     ]
    },
    {
     "name": "stderr",
     "output_type": "stream",
     "text": [
      "[Parallel(n_jobs=20)]: Done  54 out of  65 | elapsed:  7.5min remaining:  1.5min\n"
     ]
    },
    {
     "name": "stdout",
     "output_type": "stream",
     "text": [
      "[CV] .................... C=100000000.0, score=0.780079, total= 3.2min\n",
      "[CV] ................... C=1000000000.0, score=0.794872, total= 2.8min\n",
      "[CV] ................... C=1000000000.0, score=0.774655, total= 2.9min\n",
      "[CV] ................... C=1000000000.0, score=0.758876, total= 2.7min\n",
      "[CV] ................... C=1000000000.0, score=0.786489, total= 2.5min\n",
      "[CV] .................. C=10000000000.0, score=0.800296, total= 2.3min\n",
      "[CV] .................. C=10000000000.0, score=0.769231, total= 2.3min\n"
     ]
    },
    {
     "name": "stderr",
     "output_type": "stream",
     "text": [
      "[Parallel(n_jobs=20)]: Done  61 out of  65 | elapsed:  8.5min remaining:   33.4s\n"
     ]
    },
    {
     "name": "stdout",
     "output_type": "stream",
     "text": [
      "[CV] ................... C=1000000000.0, score=0.786982, total= 2.4min\n",
      "[CV] .................. C=10000000000.0, score=0.781065, total= 2.0min\n",
      "[CV] .................. C=10000000000.0, score=0.748521, total= 2.4min\n",
      "[CV] .................. C=10000000000.0, score=0.732249, total= 2.5min\n"
     ]
    },
    {
     "name": "stderr",
     "output_type": "stream",
     "text": [
      "[Parallel(n_jobs=20)]: Done  65 out of  65 | elapsed:  8.9min finished\n"
     ]
    },
    {
     "data": {
      "text/plain": [
       "GridSearchCV(cv=StratifiedShuffleSplit(n_splits=5, random_state=1, test_size=0.2,\n",
       "            train_size=None),\n",
       "       error_score='raise',\n",
       "       estimator=LinearSVC(C=1.0, class_weight=None, dual=True, fit_intercept=True,\n",
       "     intercept_scaling=1, loss='squared_hinge', max_iter=1000,\n",
       "     multi_class='ovr', penalty='l2', random_state=None, tol=0.0001,\n",
       "     verbose=0),\n",
       "       fit_params={}, iid=True, n_jobs=20,\n",
       "       param_grid={'C': array([  1.00000e-02,   1.00000e-01,   1.00000e+00,   1.00000e+01,\n",
       "         1.00000e+02,   1.00000e+03,   1.00000e+04,   1.00000e+05,\n",
       "         1.00000e+06,   1.00000e+07,   1.00000e+08,   1.00000e+09,\n",
       "         1.00000e+10])},\n",
       "       pre_dispatch='2*n_jobs', refit=True, return_train_score=True,\n",
       "       scoring=None, verbose=10)"
      ]
     },
     "execution_count": 5,
     "metadata": {},
     "output_type": "execute_result"
    }
   ],
   "source": [
    "# Training top_model\n",
    "C_range = np.logspace(-2, 10, 13)\n",
    "param_grid = dict(C=C_range)\n",
    "cv = StratifiedShuffleSplit(n_splits=5, test_size=0.2, random_state=1)\n",
    "\n",
    "top_model = GridSearchCV(svm.LinearSVC(), param_grid=param_grid, cv=cv, verbose=10, n_jobs=20)\n",
    "top_model.fit(X,y)  # Training "
   ]
  },
  {
   "cell_type": "code",
   "execution_count": 6,
   "metadata": {},
   "outputs": [
    {
     "name": "stdout",
     "output_type": "stream",
     "text": [
      "Best parameters: {'C': 100.0} - score: 0.8179\n"
     ]
    }
   ],
   "source": [
    "print(\"Best parameters: %s - score: %0.4f\" % (top_model.best_params_, top_model.best_score_))"
   ]
  },
  {
   "cell_type": "code",
   "execution_count": 7,
   "metadata": {},
   "outputs": [
    {
     "data": {
      "text/plain": [
       "{'mean_fit_time': array([   5.754814  ,    8.59235106,   32.29269776,  153.10900264,\n",
       "         180.34947238,  195.40900416,  209.67398744,  190.26338024,\n",
       "         194.55319381,  198.71025543,  195.53718572,  159.86970196,\n",
       "         138.49841723]),\n",
       " 'mean_score_time': array([ 0.02979479,  0.02142801,  0.02181163,  0.0555624 ,  0.01079497,\n",
       "         0.01433563,  0.01237955,  0.01759443,  0.01062179,  0.01247239,\n",
       "         0.01679425,  0.01076002,  0.00728626]),\n",
       " 'mean_test_score': array([ 0.57149901,  0.70424063,  0.77672584,  0.81449704,  0.8178501 ,\n",
       "         0.77061144,  0.7622288 ,  0.79191321,  0.77662722,  0.7933925 ,\n",
       "         0.76597633,  0.78037475,  0.76627219]),\n",
       " 'mean_train_score': array([ 0.57520967,  0.70915146,  0.79097188,  0.8527627 ,  0.88182042,\n",
       "         0.83029107,  0.82192896,  0.85949679,  0.84570794,  0.8627035 ,\n",
       "         0.82639369,  0.85064134,  0.82831771]),\n",
       " 'param_C': masked_array(data = [0.01 0.10000000000000001 1.0 10.0 100.0 1000.0 10000.0 100000.0 1000000.0\n",
       "  10000000.0 100000000.0 1000000000.0 10000000000.0],\n",
       "              mask = [False False False False False False False False False False False False\n",
       "  False],\n",
       "        fill_value = ?),\n",
       " 'params': ({'C': 0.01},\n",
       "  {'C': 0.10000000000000001},\n",
       "  {'C': 1.0},\n",
       "  {'C': 10.0},\n",
       "  {'C': 100.0},\n",
       "  {'C': 1000.0},\n",
       "  {'C': 10000.0},\n",
       "  {'C': 100000.0},\n",
       "  {'C': 1000000.0},\n",
       "  {'C': 10000000.0},\n",
       "  {'C': 100000000.0},\n",
       "  {'C': 1000000000.0},\n",
       "  {'C': 10000000000.0}),\n",
       " 'rank_test_score': array([13, 12,  6,  2,  1,  8, 11,  4,  7,  3, 10,  5,  9], dtype=int32),\n",
       " 'split0_test_score': array([ 0.57100592,  0.70759369,  0.78254438,  0.81854043,  0.8239645 ,\n",
       "         0.73816568,  0.77465483,  0.77761341,  0.77613412,  0.81706114,\n",
       "         0.77465483,  0.77465483,  0.76923077]),\n",
       " 'split0_train_score': array([ 0.575111  ,  0.70905279,  0.78946719,  0.85027134,  0.8801184 ,\n",
       "         0.77725703,  0.82659102,  0.82054761,  0.85138135,  0.87173162,\n",
       "         0.83164776,  0.83164776,  0.83966453]),\n",
       " 'split1_test_score': array([ 0.56656805,  0.70857988,  0.77416174,  0.81163708,  0.81360947,\n",
       "         0.72386588,  0.76035503,  0.80029586,  0.79289941,  0.78500986,\n",
       "         0.79487179,  0.79487179,  0.80029586]),\n",
       " 'split1_train_score': array([ 0.57387765,  0.71028614,  0.79082388,  0.85434139,  0.88406512,\n",
       "         0.77602368,  0.81314751,  0.88110508,  0.86371485,  0.86630488,\n",
       "         0.87123828,  0.87123828,  0.87629502]),\n",
       " 'split2_test_score': array([ 0.5739645 ,  0.71104536,  0.77712032,  0.81508876,  0.81656805,\n",
       "         0.8086785 ,  0.77514793,  0.78994083,  0.80029586,  0.77761341,\n",
       "         0.70266272,  0.75887574,  0.74852071]),\n",
       " 'split2_train_score': array([ 0.57535767,  0.70905279,  0.79415392,  0.85310804,  0.88110508,\n",
       "         0.87814504,  0.84422792,  0.8653182 ,  0.8723483 ,  0.84953133,\n",
       "         0.73914652,  0.82856438,  0.81327084]),\n",
       " 'split3_test_score': array([ 0.56755424,  0.68934911,  0.765286  ,  0.81015779,  0.81360947,\n",
       "         0.79142012,  0.76923077,  0.79536489,  0.77021696,  0.77761341,\n",
       "         0.77761341,  0.78648915,  0.73224852]),\n",
       " 'split3_train_score': array([ 0.57696103,  0.71114948,  0.79070054,  0.85249137,  0.88406512,\n",
       "         0.87123828,  0.8399112 ,  0.86482486,  0.8476813 ,  0.84755797,\n",
       "         0.84755797,  0.87382832,  0.77429699]),\n",
       " 'split4_test_score': array([ 0.57840237,  0.70463511,  0.78451677,  0.81706114,  0.82149901,\n",
       "         0.79092702,  0.73175542,  0.79635108,  0.74358974,  0.80966469,\n",
       "         0.7800789 ,  0.78698225,  0.78106509]),\n",
       " 'split4_train_score': array([ 0.574741  ,  0.70621608,  0.78971386,  0.85360138,  0.8797484 ,\n",
       "         0.84879132,  0.78576714,  0.86568821,  0.79341391,  0.87839171,\n",
       "         0.8423779 ,  0.84792797,  0.83806117]),\n",
       " 'std_fit_time': array([  0.82388298,   1.42578495,   3.83332422,  19.23681586,\n",
       "         15.86338361,  16.6086492 ,  17.38580476,  10.48272963,\n",
       "         15.52405367,   8.96929661,   3.18392904,  11.67441291,  10.83437116]),\n",
       " 'std_score_time': array([ 0.02036865,  0.01075384,  0.00621524,  0.03475804,  0.00076216,\n",
       "         0.00643422,  0.00240037,  0.00616965,  0.00066854,  0.00274457,\n",
       "         0.0055653 ,  0.00284276,  0.00074033]),\n",
       " 'std_test_score': array([ 0.00433252,  0.00772385,  0.00681402,  0.00317119,  0.00420262,\n",
       "         0.0332647 ,  0.01613986,  0.00787721,  0.01978786,  0.01669261,\n",
       "         0.03241352,  0.01253901,  0.02390782]),\n",
       " 'std_train_score': array([ 0.00100924,  0.00166826,  0.00167736,  0.00138531,  0.00188569,\n",
       "         0.0448698 ,  0.02110512,  0.02041846,  0.02758516,  0.01219418,\n",
       "         0.04550634,  0.01906505,  0.03367537])}"
      ]
     },
     "execution_count": 7,
     "metadata": {},
     "output_type": "execute_result"
    }
   ],
   "source": [
    "top_model.cv_results_"
   ]
  },
  {
   "cell_type": "code",
   "execution_count": 8,
   "metadata": {},
   "outputs": [
    {
     "name": "stderr",
     "output_type": "stream",
     "text": [
      "/usr/local/lib/python2.7/dist-packages/sklearn/model_selection/_search.py:667: DeprecationWarning: The grid_scores_ attribute was deprecated in version 0.18 in favor of the more elaborate cv_results_ attribute. The grid_scores_ attribute will not be available from 0.20\n",
      "  DeprecationWarning)\n"
     ]
    },
    {
     "data": {
      "text/plain": [
       "[mean: 0.57150, std: 0.00433, params: {'C': 0.01},\n",
       " mean: 0.70424, std: 0.00772, params: {'C': 0.10000000000000001},\n",
       " mean: 0.77673, std: 0.00681, params: {'C': 1.0},\n",
       " mean: 0.81450, std: 0.00317, params: {'C': 10.0},\n",
       " mean: 0.81785, std: 0.00420, params: {'C': 100.0},\n",
       " mean: 0.77061, std: 0.03326, params: {'C': 1000.0},\n",
       " mean: 0.76223, std: 0.01614, params: {'C': 10000.0},\n",
       " mean: 0.79191, std: 0.00788, params: {'C': 100000.0},\n",
       " mean: 0.77663, std: 0.01979, params: {'C': 1000000.0},\n",
       " mean: 0.79339, std: 0.01669, params: {'C': 10000000.0},\n",
       " mean: 0.76598, std: 0.03241, params: {'C': 100000000.0},\n",
       " mean: 0.78037, std: 0.01254, params: {'C': 1000000000.0},\n",
       " mean: 0.76627, std: 0.02391, params: {'C': 10000000000.0}]"
      ]
     },
     "execution_count": 8,
     "metadata": {},
     "output_type": "execute_result"
    }
   ],
   "source": [
    "top_model.grid_scores_"
   ]
  },
  {
   "cell_type": "code",
   "execution_count": 9,
   "metadata": {
    "collapsed": true
   },
   "outputs": [],
   "source": [
    "cv = StratifiedShuffleSplit(n_splits=5, test_size=0.2, random_state=1)\n",
    "svm_model = svm.LinearSVC(C=top_model.best_params_['C'])\n",
    "train_sizes = np.linspace(.1, 1.0, 10)\n",
    "train_sizes, train_scores, test_scores = learning_curve(svm_model, X, y, cv=cv, n_jobs=20, train_sizes=train_sizes)"
   ]
  },
  {
   "cell_type": "code",
   "execution_count": 10,
   "metadata": {},
   "outputs": [
    {
     "data": {
      "image/png": "[encoded data removed]",
      "text/plain": [
       "<matplotlib.figure.Figure at 0x7f8687bc28d0>"
      ]
     },
     "metadata": {},
     "output_type": "display_data"
    }
   ],
   "source": [
    "figure = plt.gcf()\n",
    "figure.set_size_inches(24, 9)\n",
    "skplot.learning_curve(train_scores, test_scores, train_sizes)\n",
    "plt.show()"
   ]
  }
 ],
 "metadata": {
  "kernelspec": {
   "display_name": "Python 2",
   "language": "python",
   "name": "python2"
  },
  "language_info": {
   "codemirror_mode": {
    "name": "ipython",
    "version": 2
   },
   "file_extension": ".py",
   "mimetype": "text/x-python",
   "name": "python",
   "nbconvert_exporter": "python",
   "pygments_lexer": "ipython2",
   "version": "2.7.12"
  }
 },
 "nbformat": 4,
 "nbformat_minor": 1
}
