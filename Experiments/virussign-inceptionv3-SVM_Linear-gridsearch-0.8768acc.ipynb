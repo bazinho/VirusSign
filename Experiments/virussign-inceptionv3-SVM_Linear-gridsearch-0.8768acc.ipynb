{
 "cells": [
  {
   "cell_type": "code",
   "execution_count": 1,
   "metadata": {},
   "outputs": [
    {
     "name": "stderr",
     "output_type": "stream",
     "text": [
      "Using TensorFlow backend.\n"
     ]
    }
   ],
   "source": [
    "import os\n",
    "import os.path\n",
    "import glob\n",
    "from sklearn.preprocessing import LabelEncoder\n",
    "from sklearn.model_selection import StratifiedKFold                                                                                                                       \n",
    "from sklearn.metrics import confusion_matrix,accuracy_score\n",
    "from sklearn.model_selection import StratifiedShuffleSplit\n",
    "from sklearn.model_selection import GridSearchCV\n",
    "import sklearn_evaluation.plot as skplot\n",
    "from sklearn.model_selection import learning_curve\n",
    "from sklearn import svm\n",
    "\n",
    "import matplotlib.pyplot as plt\n",
    "import matplotlib.cm as colormap\n",
    "plt.rcParams['image.cmap'] = 'Paired'\n",
    "\n",
    "import numpy as np\n",
    "np.random.seed(1)\n",
    "\n",
    "from keras.utils import np_utils\n",
    "from keras.preprocessing import image\n",
    "from keras.applications.inception_v3 import InceptionV3,preprocess_input\n",
    "\n",
    "# Disable GPU\n",
    "os.environ['CUDA_VISIBLE_DEVICES'] = '-1'"
   ]
  },
  {
   "cell_type": "code",
   "execution_count": 2,
   "metadata": {
    "collapsed": true
   },
   "outputs": [],
   "source": [
    "imagedir = \"Datasets/ByFamilyImagesWidth\""
   ]
  },
  {
   "cell_type": "code",
   "execution_count": 3,
   "metadata": {},
   "outputs": [
    {
     "name": "stdout",
     "output_type": "stream",
     "text": [
      "Label: 0\tFamily:         allaple\tNumber of images: 362\n",
      "Label: 1\tFamily:           alman\tNumber of images: 325\n",
      "Label: 2\tFamily:          autoit\tNumber of images: 261\n",
      "Label: 3\tFamily:            daws\tNumber of images: 466\n",
      "Label: 4\tFamily:            delf\tNumber of images: 359\n",
      "Label: 5\tFamily:         gamarue\tNumber of images: 259\n",
      "Label: 6\tFamily:          ibryte\tNumber of images: 347\n",
      "Label: 7\tFamily:          loring\tNumber of images: 285\n",
      "Label: 8\tFamily:          mydoom\tNumber of images: 578\n",
      "Label: 9\tFamily:          qukart\tNumber of images: 253\n",
      "Label:10\tFamily:          ramnit\tNumber of images: 506\n",
      "Label:11\tFamily:          sality\tNumber of images: 1401\n",
      "Label:12\tFamily:          simbot\tNumber of images: 1148\n",
      "Label:13\tFamily:       softpulse\tNumber of images: 912\n",
      "Label:14\tFamily:          viking\tNumber of images: 183\n",
      "Label:15\tFamily:         virlock\tNumber of images: 373\n",
      "Label:16\tFamily:          vobfus\tNumber of images: 405\n",
      "Label:17\tFamily:          wapomi\tNumber of images: 345\n",
      "Label:18\tFamily:            zbot\tNumber of images: 863\n",
      "Label:19\tFamily:          zegost\tNumber of images: 505\n",
      "Processing images ...\n",
      "Images processed: 10136\n"
     ]
    }
   ],
   "source": [
    "cur_dir = os.getcwd()\n",
    "os.chdir(imagedir)  # the parent folder with sub-folders\n",
    "\n",
    "# Get number of samples per family\n",
    "list_fams = sorted(os.listdir(os.getcwd()), key=str.lower)  # vector of strings with family names\n",
    "no_imgs = []  # No. of samples per family\n",
    "for i in range(len(list_fams)):\n",
    "    os.chdir(list_fams[i])\n",
    "    len1 = len(glob.glob('*.png'))  # assuming the images are stored as 'png'\n",
    "    no_imgs.append(len1)\n",
    "    os.chdir('..')\n",
    "num_samples = np.sum(no_imgs)  # total number of all samples\n",
    "\n",
    "# Compute the labels\n",
    "y = np.zeros(num_samples)\n",
    "pos = 0\n",
    "label = 0\n",
    "for i in no_imgs:\n",
    "    print (\"Label:%2d\\tFamily: %15s\\tNumber of images: %d\" % (label, list_fams[label], i))\n",
    "    for j in range(i):\n",
    "        y[pos] = label\n",
    "        pos += 1\n",
    "    label += 1\n",
    "num_classes = label\n",
    "\n",
    "# Compute the features\n",
    "width, height,channels = (224,224,3)\n",
    "X = np.zeros((num_samples, width, height, channels))\n",
    "cnt = 0\n",
    "list_paths = [] # List of image paths\n",
    "print(\"Processing images ...\")\n",
    "for i in range(len(list_fams)):\n",
    "    for img_file in glob.glob(list_fams[i]+'/*.png'):\n",
    "        #print(\"[%d] Processing image: %s\" % (cnt, img_file))\n",
    "        list_paths.append(os.path.join(os.getcwd(),img_file))\n",
    "        img = image.load_img(img_file, target_size=(224, 224))\n",
    "        x = image.img_to_array(img)\n",
    "        x = np.expand_dims(x, axis=0)\n",
    "        x = preprocess_input(x)\n",
    "        X[cnt] = x\n",
    "        cnt += 1\n",
    "print(\"Images processed: %d\" %(cnt))\n",
    "\n",
    "os.chdir(cur_dir)"
   ]
  },
  {
   "cell_type": "code",
   "execution_count": 4,
   "metadata": {},
   "outputs": [
    {
     "data": {
      "text/plain": [
       "(10136, 224, 224, 3)"
      ]
     },
     "execution_count": 4,
     "metadata": {},
     "output_type": "execute_result"
    }
   ],
   "source": [
    "X.shape"
   ]
  },
  {
   "cell_type": "code",
   "execution_count": 5,
   "metadata": {
    "collapsed": true
   },
   "outputs": [],
   "source": [
    "# Encoding classes (y) into integers (y_encoded) and then generating one-hot-encoding (Y)\n",
    "encoder = LabelEncoder()\n",
    "encoder.fit(y)\n",
    "y_encoded = encoder.transform(y)\n",
    "Y = np_utils.to_categorical(y_encoded)"
   ]
  },
  {
   "cell_type": "code",
   "execution_count": 6,
   "metadata": {
    "collapsed": true
   },
   "outputs": [],
   "source": [
    "# Creating base_model (InceptionV3 notop)\n",
    "image_shape = (224, 224, 3)                                                                                                                                                                                                                                                                                            \n",
    "base_model = InceptionV3(weights='imagenet', input_shape=image_shape, include_top=False)"
   ]
  },
  {
   "cell_type": "code",
   "execution_count": 7,
   "metadata": {},
   "outputs": [
    {
     "name": "stdout",
     "output_type": "stream",
     "text": [
      "Loading InceptionV3 extracted features from virussign-inceptionv3features.npy ...\n"
     ]
    }
   ],
   "source": [
    "filename = 'virussign-inceptionv3features.npy'\n",
    "if os.path.exists(filename):\n",
    "    print(\"Loading InceptionV3 extracted features from %s ...\" %(filename))\n",
    "    inceptionv3features = np.load(filename)\n",
    "else:\n",
    "    print(\"Extracting features from InceptionV3 layers ...\")\n",
    "    inceptionv3features = base_model.predict(X)\n",
    "    print(\"Saving InceptionV3 extracted features into %s ...\" %(filename))\n",
    "    np.save(filename, inceptionv3features)"
   ]
  },
  {
   "cell_type": "code",
   "execution_count": 8,
   "metadata": {},
   "outputs": [
    {
     "data": {
      "text/plain": [
       "(10136, 5, 5, 2048)"
      ]
     },
     "execution_count": 8,
     "metadata": {},
     "output_type": "execute_result"
    }
   ],
   "source": [
    "inceptionv3features.shape"
   ]
  },
  {
   "cell_type": "code",
   "execution_count": 9,
   "metadata": {
    "collapsed": true
   },
   "outputs": [],
   "source": [
    "inceptionv3features = np.reshape(inceptionv3features,(inceptionv3features.shape[0],-1))"
   ]
  },
  {
   "cell_type": "code",
   "execution_count": 10,
   "metadata": {},
   "outputs": [
    {
     "data": {
      "text/plain": [
       "(10136, 51200)"
      ]
     },
     "execution_count": 10,
     "metadata": {},
     "output_type": "execute_result"
    }
   ],
   "source": [
    "inceptionv3features.shape"
   ]
  },
  {
   "cell_type": "code",
   "execution_count": 11,
   "metadata": {},
   "outputs": [
    {
     "name": "stdout",
     "output_type": "stream",
     "text": [
      "Fitting 5 folds for each of 13 candidates, totalling 65 fits\n",
      "[CV] C=0.01 ..........................................................\n",
      "[CV] C=0.01 ..........................................................\n",
      "[CV] C=0.01 ..........................................................\n",
      "[CV] C=0.01 ..........................................................\n",
      "[CV] C=0.01 ..........................................................\n",
      "[CV] C=0.1 ...........................................................\n",
      "[CV] C=0.1 ...........................................................\n",
      "[CV] C=0.1 ...........................................................\n",
      "[CV] C=0.1 ...........................................................\n",
      "[CV] C=0.1 ...........................................................\n",
      "[CV] ........................... C=0.01, score=0.873767, total=39.2min\n",
      "[CV] ........................... C=0.01, score=0.874753, total=39.4min\n",
      "[CV] C=1.0 ...........................................................\n",
      "[CV] C=1.0 ...........................................................\n",
      "[CV] ............................ C=0.1, score=0.876726, total=39.9min\n",
      "[CV] C=1.0 ...........................................................\n",
      "[CV] ............................ C=0.1, score=0.881164, total=40.0min\n",
      "[CV] C=1.0 ...........................................................\n",
      "[CV] ........................... C=0.01, score=0.876726, total=40.4min\n"
     ]
    },
    {
     "name": "stderr",
     "output_type": "stream",
     "text": [
      "[Parallel(n_jobs=10)]: Done   5 tasks      | elapsed: 40.7min\n"
     ]
    },
    {
     "name": "stdout",
     "output_type": "stream",
     "text": [
      "[CV] C=1.0 ...........................................................\n",
      "[CV] ........................... C=0.01, score=0.881657, total=40.4min\n",
      "[CV] C=10.0 ..........................................................\n",
      "[CV] ............................ C=0.1, score=0.874260, total=40.7min\n",
      "[CV] C=10.0 ..........................................................\n",
      "[CV] ........................... C=0.01, score=0.877219, total=41.8min\n",
      "[CV] C=10.0 ..........................................................\n",
      "[CV] ............................ C=0.1, score=0.873274, total=42.4min\n",
      "[CV] C=10.0 ..........................................................\n",
      "[CV] ............................ C=0.1, score=0.876726, total=43.9min\n",
      "[CV] C=10.0 ..........................................................\n",
      "[CV] ............................ C=1.0, score=0.881657, total=33.3min\n",
      "[CV] C=100.0 .........................................................\n",
      "[CV] ............................ C=1.0, score=0.873274, total=33.9min\n",
      "[CV] C=100.0 .........................................................\n"
     ]
    },
    {
     "name": "stderr",
     "output_type": "stream",
     "text": [
      "[Parallel(n_jobs=10)]: Done  12 tasks      | elapsed: 74.6min\n"
     ]
    },
    {
     "name": "stdout",
     "output_type": "stream",
     "text": [
      "[CV] ........................... C=10.0, score=0.881657, total=33.9min\n",
      "[CV] C=100.0 .........................................................\n",
      "[CV] ............................ C=1.0, score=0.876233, total=36.6min\n",
      "[CV] C=100.0 .........................................................\n",
      "[CV] ............................ C=1.0, score=0.876726, total=37.3min\n",
      "[CV] C=100.0 .........................................................\n",
      "[CV] ........................... C=10.0, score=0.873274, total=33.6min\n",
      "[CV] C=1000.0 ........................................................\n",
      "[CV] ............................ C=1.0, score=0.872781, total=37.3min\n",
      "[CV] C=1000.0 ........................................................\n",
      "[CV] ........................... C=10.0, score=0.877712, total=36.7min\n",
      "[CV] C=1000.0 ........................................................\n",
      "[CV] ........................... C=10.0, score=0.875740, total=37.6min\n",
      "[CV] C=1000.0 ........................................................\n",
      "[CV] ........................... C=10.0, score=0.873274, total=40.3min\n",
      "[CV] C=1000.0 ........................................................\n",
      "[CV] .......................... C=100.0, score=0.873274, total=33.1min\n"
     ]
    },
    {
     "name": "stderr",
     "output_type": "stream",
     "text": [
      "[Parallel(n_jobs=10)]: Done  21 tasks      | elapsed: 109.6min\n"
     ]
    },
    {
     "name": "stdout",
     "output_type": "stream",
     "text": [
      "[CV] C=10000.0 .......................................................\n",
      "[CV] .......................... C=100.0, score=0.881657, total=33.8min\n",
      "[CV] C=10000.0 .......................................................\n",
      "[CV] .......................... C=100.0, score=0.876233, total=36.4min\n",
      "[CV] C=10000.0 .......................................................\n",
      "[CV] .......................... C=100.0, score=0.877219, total=36.0min\n",
      "[CV] C=10000.0 .......................................................\n",
      "[CV] ......................... C=1000.0, score=0.881164, total=33.9min\n",
      "[CV] C=10000.0 .......................................................\n",
      "[CV] ......................... C=1000.0, score=0.876233, total=36.1min\n",
      "[CV] C=100000.0 ......................................................\n",
      "[CV] .......................... C=100.0, score=0.872781, total=36.9min\n",
      "[CV] C=100000.0 ......................................................\n",
      "[CV] ......................... C=1000.0, score=0.873274, total=36.2min\n",
      "[CV] C=100000.0 ......................................................\n",
      "[CV] ......................... C=1000.0, score=0.877712, total=37.9min\n",
      "[CV] C=100000.0 ......................................................\n",
      "[CV] ......................... C=1000.0, score=0.872781, total=37.9min\n"
     ]
    },
    {
     "name": "stderr",
     "output_type": "stream",
     "text": [
      "[Parallel(n_jobs=10)]: Done  30 tasks      | elapsed: 123.0min\n"
     ]
    },
    {
     "name": "stdout",
     "output_type": "stream",
     "text": [
      "[CV] C=100000.0 ......................................................\n",
      "[CV] ........................ C=10000.0, score=0.881657, total=33.8min\n",
      "[CV] C=1000000.0 .....................................................\n",
      "[CV] ........................ C=10000.0, score=0.873274, total=34.5min\n",
      "[CV] C=1000000.0 .....................................................\n",
      "[CV] ........................ C=10000.0, score=0.876233, total=35.6min\n",
      "[CV] C=1000000.0 .....................................................\n",
      "[CV] ........................ C=10000.0, score=0.876726, total=36.3min\n",
      "[CV] C=1000000.0 .....................................................\n",
      "[CV] ....................... C=100000.0, score=0.876726, total=35.2min\n",
      "[CV] C=1000000.0 .....................................................\n",
      "[CV] ....................... C=100000.0, score=0.873274, total=33.7min\n",
      "[CV] C=10000000.0 ....................................................\n",
      "[CV] ........................ C=10000.0, score=0.872781, total=38.6min\n",
      "[CV] C=10000000.0 ....................................................\n",
      "[CV] ....................... C=100000.0, score=0.877712, total=37.7min\n",
      "[CV] C=10000000.0 ....................................................\n",
      "[CV] ....................... C=100000.0, score=0.881657, total=37.3min\n",
      "[CV] C=10000000.0 ....................................................\n",
      "[CV] ....................... C=100000.0, score=0.873767, total=38.6min\n",
      "[CV] C=10000000.0 ....................................................\n",
      "[CV] ...................... C=1000000.0, score=0.881657, total=33.3min\n"
     ]
    },
    {
     "name": "stderr",
     "output_type": "stream",
     "text": [
      "[Parallel(n_jobs=10)]: Done  41 tasks      | elapsed: 178.7min\n"
     ]
    },
    {
     "name": "stdout",
     "output_type": "stream",
     "text": [
      "[CV] C=100000000.0 ...................................................\n",
      "[CV] ...................... C=1000000.0, score=0.873274, total=33.5min\n",
      "[CV] C=100000000.0 ...................................................\n",
      "[CV] ...................... C=1000000.0, score=0.876726, total=36.5min\n",
      "[CV] C=100000000.0 ...................................................\n",
      "[CV] ...................... C=1000000.0, score=0.877712, total=36.2min\n",
      "[CV] C=100000000.0 ...................................................\n",
      "[CV] ..................... C=10000000.0, score=0.881164, total=32.2min\n",
      "[CV] C=100000000.0 ...................................................\n",
      "[CV] ...................... C=1000000.0, score=0.872781, total=37.0min\n",
      "[CV] C=1000000000.0 ..................................................\n",
      "[CV] ..................... C=10000000.0, score=0.876233, total=36.2min\n",
      "[CV] C=1000000000.0 ..................................................\n",
      "[CV] ..................... C=10000000.0, score=0.876726, total=36.2min\n",
      "[CV] C=1000000000.0 ..................................................\n",
      "[CV] ..................... C=10000000.0, score=0.873274, total=36.4min\n",
      "[CV] C=1000000000.0 ..................................................\n",
      "[CV] ..................... C=10000000.0, score=0.872781, total=37.8min\n",
      "[CV] C=1000000000.0 ..................................................\n",
      "[CV] .................... C=100000000.0, score=0.876233, total=35.8min\n",
      "[CV] C=10000000000.0 .................................................\n",
      "[CV] .................... C=100000000.0, score=0.873767, total=33.5min\n",
      "[CV] C=10000000000.0 .................................................\n",
      "[CV] .................... C=100000000.0, score=0.881657, total=34.5min\n"
     ]
    },
    {
     "name": "stderr",
     "output_type": "stream",
     "text": [
      "[Parallel(n_jobs=10)]: Done  53 out of  65 | elapsed: 215.7min remaining: 48.8min\n"
     ]
    },
    {
     "name": "stdout",
     "output_type": "stream",
     "text": [
      "[CV] C=10000000000.0 .................................................\n",
      "[CV] .................... C=100000000.0, score=0.877219, total=36.5min\n",
      "[CV] C=10000000000.0 .................................................\n",
      "[CV] .................... C=100000000.0, score=0.873274, total=36.5min\n",
      "[CV] C=10000000000.0 .................................................\n",
      "[CV] ................... C=1000000000.0, score=0.881657, total=33.9min\n",
      "[CV] ................... C=1000000000.0, score=0.876233, total=36.4min\n",
      "[CV] ................... C=1000000000.0, score=0.877219, total=36.6min\n",
      "[CV] ................... C=1000000000.0, score=0.873767, total=36.0min\n",
      "[CV] ................... C=1000000000.0, score=0.873274, total=36.4min\n"
     ]
    },
    {
     "name": "stderr",
     "output_type": "stream",
     "text": [
      "[Parallel(n_jobs=10)]: Done  60 out of  65 | elapsed: 236.1min remaining: 19.7min\n"
     ]
    },
    {
     "name": "stdout",
     "output_type": "stream",
     "text": [
      "[CV] .................. C=10000000000.0, score=0.881164, total=30.4min\n",
      "[CV] .................. C=10000000000.0, score=0.873274, total=31.2min\n",
      "[CV] .................. C=10000000000.0, score=0.876233, total=33.7min\n",
      "[CV] .................. C=10000000000.0, score=0.877219, total=33.9min\n",
      "[CV] .................. C=10000000000.0, score=0.872781, total=34.0min\n"
     ]
    },
    {
     "name": "stderr",
     "output_type": "stream",
     "text": [
      "[Parallel(n_jobs=10)]: Done  65 out of  65 | elapsed: 254.9min finished\n"
     ]
    },
    {
     "data": {
      "text/plain": [
       "GridSearchCV(cv=StratifiedShuffleSplit(n_splits=5, random_state=1, test_size=0.2,\n",
       "            train_size=None),\n",
       "       error_score='raise',\n",
       "       estimator=LinearSVC(C=1.0, class_weight=None, dual=True, fit_intercept=True,\n",
       "     intercept_scaling=1, loss='squared_hinge', max_iter=1000,\n",
       "     multi_class='ovr', penalty='l2', random_state=None, tol=0.0001,\n",
       "     verbose=0),\n",
       "       fit_params={}, iid=True, n_jobs=10,\n",
       "       param_grid={'C': array([  1.00000e-02,   1.00000e-01,   1.00000e+00,   1.00000e+01,\n",
       "         1.00000e+02,   1.00000e+03,   1.00000e+04,   1.00000e+05,\n",
       "         1.00000e+06,   1.00000e+07,   1.00000e+08,   1.00000e+09,\n",
       "         1.00000e+10])},\n",
       "       pre_dispatch='2*n_jobs', refit=True, return_train_score=True,\n",
       "       scoring=None, verbose=10)"
      ]
     },
     "execution_count": 11,
     "metadata": {},
     "output_type": "execute_result"
    }
   ],
   "source": [
    "# Training top_model\n",
    "C_range = np.logspace(-2, 10, 13)\n",
    "param_grid = dict(C=C_range)\n",
    "cv = StratifiedShuffleSplit(n_splits=5, test_size=0.2, random_state=1)\n",
    "\n",
    "top_model = GridSearchCV(svm.LinearSVC(), param_grid=param_grid, cv=cv, verbose=10, n_jobs=10)\n",
    "top_model.fit(inceptionv3features,y)  # Training "
   ]
  },
  {
   "cell_type": "code",
   "execution_count": 12,
   "metadata": {},
   "outputs": [
    {
     "name": "stdout",
     "output_type": "stream",
     "text": [
      "Best parameters: {'C': 0.01} - score: 0.8768\n"
     ]
    }
   ],
   "source": [
    "print(\"Best parameters: %s - score: %0.4f\" % (top_model.best_params_, top_model.best_score_))"
   ]
  },
  {
   "cell_type": "code",
   "execution_count": 13,
   "metadata": {},
   "outputs": [
    {
     "data": {
      "text/plain": [
       "{'mean_fit_time': array([ 2414.80664325,  2480.84646282,  2139.96016045,  2184.718187  ,\n",
       "         2112.21353359,  2183.34421511,  2145.14757423,  2189.29244266,\n",
       "         2117.65925879,  2145.18912945,  2121.27148552,  2150.75295405,\n",
       "         1957.10213223]),\n",
       " 'mean_score_time': array([ 1.44148817,  1.60435262,  0.82742419,  0.86916161,  0.76365838,\n",
       "         0.80340924,  0.76372876,  0.81964779,  0.76172867,  0.79611874,\n",
       "         0.75742383,  0.73231916,  0.64558196]),\n",
       " 'mean_test_score': array([ 0.87682446,  0.87642998,  0.87613412,  0.87633136,  0.87623274,\n",
       "         0.87623274,  0.87613412,  0.87662722,  0.87642998,  0.8760355 ,\n",
       "         0.87642998,  0.87642998,  0.87613412]),\n",
       " 'mean_train_score': array([ 0.99982733,  0.99982733,  0.99982733,  0.99982733,  0.99982733,\n",
       "         0.99982733,  0.99982733,  0.99982733,  0.99982733,  0.99982733,\n",
       "         0.99982733,  0.99982733,  0.99982733]),\n",
       " 'param_C': masked_array(data = [0.01 0.10000000000000001 1.0 10.0 100.0 1000.0 10000.0 100000.0 1000000.0\n",
       "  10000000.0 100000000.0 1000000000.0 10000000000.0],\n",
       "              mask = [False False False False False False False False False False False False\n",
       "  False],\n",
       "        fill_value = ?),\n",
       " 'params': ({'C': 0.01},\n",
       "  {'C': 0.10000000000000001},\n",
       "  {'C': 1.0},\n",
       "  {'C': 10.0},\n",
       "  {'C': 100.0},\n",
       "  {'C': 1000.0},\n",
       "  {'C': 10000.0},\n",
       "  {'C': 100000.0},\n",
       "  {'C': 1000000.0},\n",
       "  {'C': 10000000.0},\n",
       "  {'C': 100000000.0},\n",
       "  {'C': 1000000000.0},\n",
       "  {'C': 10000000000.0}),\n",
       " 'rank_test_score': array([ 1,  3, 10,  7,  8,  8, 10,  2,  3, 13,  3,  3, 10], dtype=int32),\n",
       " 'split0_test_score': array([ 0.87721893,  0.87672584,  0.87623274,  0.87573964,  0.87623274,\n",
       "         0.87623274,  0.87623274,  0.87672584,  0.87672584,  0.87623274,\n",
       "         0.87623274,  0.87623274,  0.87623274]),\n",
       " 'split0_train_score': array([ 0.99975333,  0.99975333,  0.99975333,  0.99975333,  0.99975333,\n",
       "         0.99975333,  0.99975333,  0.99975333,  0.99975333,  0.99975333,\n",
       "         0.99975333,  0.99975333,  0.99975333]),\n",
       " 'split1_test_score': array([ 0.87672584,  0.87672584,  0.87672584,  0.87771203,  0.87721893,\n",
       "         0.87771203,  0.87672584,  0.87771203,  0.87771203,  0.87672584,\n",
       "         0.87721893,  0.87721893,  0.87721893]),\n",
       " 'split1_train_score': array([ 0.99975333,  0.99975333,  0.99975333,  0.99975333,  0.99975333,\n",
       "         0.99975333,  0.99975333,  0.99975333,  0.99975333,  0.99975333,\n",
       "         0.99975333,  0.99975333,  0.99975333]),\n",
       " 'split2_test_score': array([ 0.8816568 ,  0.88116371,  0.8816568 ,  0.8816568 ,  0.8816568 ,\n",
       "         0.88116371,  0.8816568 ,  0.8816568 ,  0.8816568 ,  0.88116371,\n",
       "         0.8816568 ,  0.8816568 ,  0.88116371]),\n",
       " 'split2_train_score': array([ 0.99987667,  0.99987667,  0.99987667,  0.99987667,  0.99987667,\n",
       "         0.99987667,  0.99987667,  0.99987667,  0.99987667,  0.99987667,\n",
       "         0.99987667,  0.99987667,  0.99987667]),\n",
       " 'split3_test_score': array([ 0.87475345,  0.87426036,  0.87327416,  0.87327416,  0.87327416,\n",
       "         0.87327416,  0.87327416,  0.87327416,  0.87327416,  0.87327416,\n",
       "         0.87376726,  0.87376726,  0.87327416]),\n",
       " 'split3_train_score': array([ 1.,  1.,  1.,  1.,  1.,  1.,  1.,  1.,  1.,  1.,  1.,  1.,  1.]),\n",
       " 'split4_test_score': array([ 0.87376726,  0.87327416,  0.87278107,  0.87327416,  0.87278107,\n",
       "         0.87278107,  0.87278107,  0.87376726,  0.87278107,  0.87278107,\n",
       "         0.87327416,  0.87327416,  0.87278107]),\n",
       " 'split4_train_score': array([ 0.99975333,  0.99975333,  0.99975333,  0.99975333,  0.99975333,\n",
       "         0.99975333,  0.99975333,  0.99975333,  0.99975333,  0.99975333,\n",
       "         0.99975333,  0.99975333,  0.99975333]),\n",
       " 'std_fit_time': array([  54.40896483,   92.78936949,  104.35926976,  147.62666402,\n",
       "          90.28801391,   88.89212233,   98.5861769 ,  108.49670801,\n",
       "          95.46880684,  111.53411766,   71.02075281,   60.09364819,\n",
       "          91.92781358]),\n",
       " 'std_score_time': array([ 1.01391374,  1.19407007,  0.15630553,  0.07452593,  0.06703942,\n",
       "         0.04372365,  0.04620336,  0.18004674,  0.01690493,  0.05389831,\n",
       "         0.04834509,  0.03571897,  0.0285819 ]),\n",
       " 'std_test_score': array([ 0.00272589,  0.00272946,  0.00317119,  0.00314037,  0.00319563,\n",
       "         0.00307148,  0.00317119,  0.00303004,  0.00323495,  0.00300101,\n",
       "         0.00300101,  0.00300101,  0.00303004]),\n",
       " 'std_train_score': array([  9.86679822e-05,   9.86679822e-05,   9.86679822e-05,\n",
       "          9.86679822e-05,   9.86679822e-05,   9.86679822e-05,\n",
       "          9.86679822e-05,   9.86679822e-05,   9.86679822e-05,\n",
       "          9.86679822e-05,   9.86679822e-05,   9.86679822e-05,\n",
       "          9.86679822e-05])}"
      ]
     },
     "execution_count": 13,
     "metadata": {},
     "output_type": "execute_result"
    }
   ],
   "source": [
    "top_model.cv_results_"
   ]
  },
  {
   "cell_type": "code",
   "execution_count": 14,
   "metadata": {},
   "outputs": [
    {
     "name": "stderr",
     "output_type": "stream",
     "text": [
      "/usr/local/lib/python2.7/dist-packages/sklearn/model_selection/_search.py:667: DeprecationWarning: The grid_scores_ attribute was deprecated in version 0.18 in favor of the more elaborate cv_results_ attribute. The grid_scores_ attribute will not be available from 0.20\n",
      "  DeprecationWarning)\n"
     ]
    },
    {
     "data": {
      "text/plain": [
       "[mean: 0.87682, std: 0.00273, params: {'C': 0.01},\n",
       " mean: 0.87643, std: 0.00273, params: {'C': 0.10000000000000001},\n",
       " mean: 0.87613, std: 0.00317, params: {'C': 1.0},\n",
       " mean: 0.87633, std: 0.00314, params: {'C': 10.0},\n",
       " mean: 0.87623, std: 0.00320, params: {'C': 100.0},\n",
       " mean: 0.87623, std: 0.00307, params: {'C': 1000.0},\n",
       " mean: 0.87613, std: 0.00317, params: {'C': 10000.0},\n",
       " mean: 0.87663, std: 0.00303, params: {'C': 100000.0},\n",
       " mean: 0.87643, std: 0.00323, params: {'C': 1000000.0},\n",
       " mean: 0.87604, std: 0.00300, params: {'C': 10000000.0},\n",
       " mean: 0.87643, std: 0.00300, params: {'C': 100000000.0},\n",
       " mean: 0.87643, std: 0.00300, params: {'C': 1000000000.0},\n",
       " mean: 0.87613, std: 0.00303, params: {'C': 10000000000.0}]"
      ]
     },
     "execution_count": 14,
     "metadata": {},
     "output_type": "execute_result"
    }
   ],
   "source": [
    "top_model.grid_scores_"
   ]
  },
  {
   "cell_type": "code",
   "execution_count": 15,
   "metadata": {
    "collapsed": true
   },
   "outputs": [],
   "source": [
    "cv = StratifiedShuffleSplit(n_splits=5, test_size=0.2, random_state=1)\n",
    "svm_model = svm.LinearSVC(C=top_model.best_params_['C'])\n",
    "train_sizes = np.linspace(.1, 1.0, 10)\n",
    "train_sizes, train_scores, test_scores = learning_curve(svm_model, inceptionv3features, y, cv=cv, n_jobs=10, train_sizes=train_sizes)"
   ]
  },
  {
   "cell_type": "code",
   "execution_count": 16,
   "metadata": {},
   "outputs": [
    {
     "data": {
      "image/png": "[encoded data removed]",
      "text/plain": [
       "<matplotlib.figure.Figure at 0x7f017bb92950>"
      ]
     },
     "metadata": {},
     "output_type": "display_data"
    }
   ],
   "source": [
    "figure = plt.gcf()\n",
    "figure.set_size_inches(24, 9)\n",
    "skplot.learning_curve(train_scores, test_scores, train_sizes)\n",
    "plt.show()"
   ]
  }
 ],
 "metadata": {
  "kernelspec": {
   "display_name": "Python 2",
   "language": "python",
   "name": "python2"
  },
  "language_info": {
   "codemirror_mode": {
    "name": "ipython",
    "version": 2
   },
   "file_extension": ".py",
   "mimetype": "text/x-python",
   "name": "python",
   "nbconvert_exporter": "python",
   "pygments_lexer": "ipython2",
   "version": "2.7.12"
  }
 },
 "nbformat": 4,
 "nbformat_minor": 2
}
