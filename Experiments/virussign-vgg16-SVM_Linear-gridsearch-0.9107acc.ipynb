{
 "cells": [
  {
   "cell_type": "code",
   "execution_count": 1,
   "metadata": {},
   "outputs": [
    {
     "name": "stderr",
     "output_type": "stream",
     "text": [
      "Using TensorFlow backend.\n"
     ]
    }
   ],
   "source": [
    "import os\n",
    "import os.path\n",
    "import glob\n",
    "from sklearn.preprocessing import LabelEncoder\n",
    "from sklearn.model_selection import StratifiedKFold                                                                                                                       \n",
    "from sklearn.metrics import confusion_matrix,accuracy_score\n",
    "from sklearn.model_selection import StratifiedShuffleSplit\n",
    "from sklearn.model_selection import GridSearchCV\n",
    "import sklearn_evaluation.plot as skplot\n",
    "from sklearn.model_selection import learning_curve\n",
    "from sklearn import svm\n",
    "\n",
    "import matplotlib.pyplot as plt\n",
    "import matplotlib.cm as colormap\n",
    "plt.rcParams['image.cmap'] = 'Paired'\n",
    "\n",
    "import numpy as np\n",
    "np.random.seed(1)\n",
    "\n",
    "from keras.preprocessing.image import img_to_array\n",
    "from keras.utils import np_utils\n",
    "from keras.preprocessing import image\n",
    "from keras.applications.vgg16 import VGG16\n",
    "from keras.applications.imagenet_utils import preprocess_input"
   ]
  },
  {
   "cell_type": "code",
   "execution_count": 2,
   "metadata": {
    "collapsed": true
   },
   "outputs": [],
   "source": [
    "imagedir = \"Datasets/ByFamilyImagesWidth\""
   ]
  },
  {
   "cell_type": "code",
   "execution_count": 3,
   "metadata": {},
   "outputs": [
    {
     "name": "stdout",
     "output_type": "stream",
     "text": [
      "Label: 0\tFamily:         allaple\tNumber of images: 362\n",
      "Label: 1\tFamily:           alman\tNumber of images: 325\n",
      "Label: 2\tFamily:          autoit\tNumber of images: 261\n",
      "Label: 3\tFamily:            daws\tNumber of images: 466\n",
      "Label: 4\tFamily:            delf\tNumber of images: 359\n",
      "Label: 5\tFamily:         gamarue\tNumber of images: 259\n",
      "Label: 6\tFamily:          ibryte\tNumber of images: 347\n",
      "Label: 7\tFamily:          loring\tNumber of images: 285\n",
      "Label: 8\tFamily:          mydoom\tNumber of images: 578\n",
      "Label: 9\tFamily:          qukart\tNumber of images: 253\n",
      "Label:10\tFamily:          ramnit\tNumber of images: 506\n",
      "Label:11\tFamily:          sality\tNumber of images: 1401\n",
      "Label:12\tFamily:          simbot\tNumber of images: 1148\n",
      "Label:13\tFamily:       softpulse\tNumber of images: 912\n",
      "Label:14\tFamily:          viking\tNumber of images: 183\n",
      "Label:15\tFamily:         virlock\tNumber of images: 373\n",
      "Label:16\tFamily:          vobfus\tNumber of images: 405\n",
      "Label:17\tFamily:          wapomi\tNumber of images: 345\n",
      "Label:18\tFamily:            zbot\tNumber of images: 863\n",
      "Label:19\tFamily:          zegost\tNumber of images: 505\n",
      "Processing images ...\n",
      "Images processed: 10136\n"
     ]
    }
   ],
   "source": [
    "cur_dir = os.getcwd()\n",
    "os.chdir(imagedir)  # the parent folder with sub-folders\n",
    "\n",
    "# Get number of samples per family\n",
    "list_fams = sorted(os.listdir(os.getcwd()), key=str.lower)  # vector of strings with family names\n",
    "no_imgs = []  # No. of samples per family\n",
    "for i in range(len(list_fams)):\n",
    "    os.chdir(list_fams[i])\n",
    "    len1 = len(glob.glob('*.png'))  # assuming the images are stored as 'png'\n",
    "    no_imgs.append(len1)\n",
    "    os.chdir('..')\n",
    "num_samples = np.sum(no_imgs)  # total number of all samples\n",
    "\n",
    "# Compute the labels\n",
    "y = np.zeros(num_samples)\n",
    "pos = 0\n",
    "label = 0\n",
    "for i in no_imgs:\n",
    "    print (\"Label:%2d\\tFamily: %15s\\tNumber of images: %d\" % (label, list_fams[label], i))\n",
    "    for j in range(i):\n",
    "        y[pos] = label\n",
    "        pos += 1\n",
    "    label += 1\n",
    "num_classes = label\n",
    "\n",
    "# Compute the features\n",
    "width, height,channels = (224,224,3)\n",
    "X = np.zeros((num_samples, width, height, channels))\n",
    "cnt = 0\n",
    "list_paths = [] # List of image paths\n",
    "print(\"Processing images ...\")\n",
    "for i in range(len(list_fams)):\n",
    "    for img_file in glob.glob(list_fams[i]+'/*.png'):\n",
    "        #print(\"[%d] Processing image: %s\" % (cnt, img_file))\n",
    "        list_paths.append(os.path.join(os.getcwd(),img_file))\n",
    "        img = image.load_img(img_file, target_size=(224, 224))\n",
    "        x = image.img_to_array(img)\n",
    "        x = np.expand_dims(x, axis=0)\n",
    "        x = preprocess_input(x)\n",
    "        X[cnt] = x\n",
    "        cnt += 1\n",
    "print(\"Images processed: %d\" %(cnt))\n",
    "\n",
    "os.chdir(cur_dir)"
   ]
  },
  {
   "cell_type": "code",
   "execution_count": 4,
   "metadata": {},
   "outputs": [
    {
     "data": {
      "text/plain": [
       "(10136, 224, 224, 3)"
      ]
     },
     "execution_count": 4,
     "metadata": {},
     "output_type": "execute_result"
    }
   ],
   "source": [
    "X.shape"
   ]
  },
  {
   "cell_type": "code",
   "execution_count": 5,
   "metadata": {
    "collapsed": true
   },
   "outputs": [],
   "source": [
    "# Encoding classes (y) into integers (y_encoded) and then generating one-hot-encoding (Y)\n",
    "encoder = LabelEncoder()\n",
    "encoder.fit(y)\n",
    "y_encoded = encoder.transform(y)\n",
    "Y = np_utils.to_categorical(y_encoded)"
   ]
  },
  {
   "cell_type": "code",
   "execution_count": 6,
   "metadata": {
    "collapsed": true
   },
   "outputs": [],
   "source": [
    "# Creating base_model (VGG16 notop)\n",
    "image_shape = (224, 224, 3)                                                                                                                                                                                                                                                                                            \n",
    "base_model = VGG16(weights='imagenet', input_shape=image_shape, include_top=False)"
   ]
  },
  {
   "cell_type": "code",
   "execution_count": 7,
   "metadata": {},
   "outputs": [
    {
     "name": "stdout",
     "output_type": "stream",
     "text": [
      "Loading VGG16 extracted features from virussign-vgg16features.npy ...\n"
     ]
    }
   ],
   "source": [
    "filename = 'virussign-vgg16features.npy'\n",
    "if os.path.exists(filename):\n",
    "    print(\"Loading VGG16 extracted features from %s ...\" %(filename))\n",
    "    vgg16features = np.load(filename)\n",
    "else:\n",
    "    print(\"Extracting features from VGG16 layers ...\")\n",
    "    vgg16features = base_model.predict(X)\n",
    "    print(\"Saving VGG16 extracted features into %s ...\" %(filename))\n",
    "    np.save(filename, vgg16features)"
   ]
  },
  {
   "cell_type": "code",
   "execution_count": 8,
   "metadata": {},
   "outputs": [
    {
     "data": {
      "text/plain": [
       "(10136, 7, 7, 512)"
      ]
     },
     "execution_count": 8,
     "metadata": {},
     "output_type": "execute_result"
    }
   ],
   "source": [
    "vgg16features.shape"
   ]
  },
  {
   "cell_type": "code",
   "execution_count": 9,
   "metadata": {
    "collapsed": true
   },
   "outputs": [],
   "source": [
    "vgg16features = np.reshape(vgg16features,(vgg16features.shape[0],-1))"
   ]
  },
  {
   "cell_type": "code",
   "execution_count": 10,
   "metadata": {},
   "outputs": [
    {
     "data": {
      "text/plain": [
       "(10136, 25088)"
      ]
     },
     "execution_count": 10,
     "metadata": {},
     "output_type": "execute_result"
    }
   ],
   "source": [
    "vgg16features.shape"
   ]
  },
  {
   "cell_type": "code",
   "execution_count": 11,
   "metadata": {},
   "outputs": [
    {
     "name": "stdout",
     "output_type": "stream",
     "text": [
      "Fitting 5 folds for each of 13 candidates, totalling 65 fits\n",
      "[CV] C=0.01 ..........................................................\n",
      "[CV] C=0.01 ..........................................................\n",
      "[CV] C=0.01 ..........................................................\n",
      "[CV] C=0.01 ..........................................................\n",
      "[CV] C=0.01 ..........................................................\n",
      "[CV] C=0.1 ...........................................................\n",
      "[CV] C=0.1 ...........................................................\n",
      "[CV] C=0.1 ...........................................................\n",
      "[CV] C=0.1 ...........................................................\n",
      "[CV] C=0.1 ...........................................................\n",
      "[CV] C=1.0 ...........................................................\n",
      "[CV] C=1.0 ...........................................................\n",
      "[CV] C=1.0 ...........................................................\n",
      "[CV] C=1.0 ...........................................................\n",
      "[CV] C=1.0 ...........................................................\n",
      "[CV] C=10.0 ..........................................................\n",
      "[CV] C=10.0 ..........................................................\n",
      "[CV] C=10.0 ..........................................................\n",
      "[CV] C=10.0 ..........................................................\n",
      "[CV] C=10.0 ..........................................................\n",
      "[CV] C=100.0 .........................................................\n",
      "[CV] C=100.0 .........................................................\n",
      "[CV] C=100.0 .........................................................\n",
      "[CV] C=100.0 .........................................................\n",
      "[CV] ........................... C=0.01, score=0.904832, total= 8.0min\n",
      "[CV] C=100.0 .........................................................\n",
      "[CV] ........................... C=0.01, score=0.915680, total= 8.2min\n"
     ]
    },
    {
     "name": "stderr",
     "output_type": "stream",
     "text": [
      "[Parallel(n_jobs=-1)]: Done   2 tasks      | elapsed:  8.3min\n"
     ]
    },
    {
     "name": "stdout",
     "output_type": "stream",
     "text": [
      "[CV] C=1000.0 ........................................................\n",
      "[CV] ........................... C=0.01, score=0.916667, total= 8.4min\n",
      "[CV] C=1000.0 ........................................................\n",
      "[CV] ........................... C=0.01, score=0.908284, total= 8.4min\n",
      "[CV] C=1000.0 ........................................................\n",
      "[CV] ............................ C=0.1, score=0.904832, total= 8.2min\n",
      "[CV] ........................... C=0.01, score=0.905819, total= 8.4min\n",
      "[CV] ............................ C=0.1, score=0.908284, total= 8.3min\n",
      "[CV] C=1000.0 ........................................................\n",
      "[CV] ............................ C=0.1, score=0.917160, total= 8.4min\n",
      "[CV] ............................ C=1.0, score=0.905325, total= 7.9min\n",
      "[CV] C=1000.0 ........................................................\n",
      "[CV] ............................ C=0.1, score=0.906312, total= 8.3min\n",
      "[CV] C=10000.0 .......................................................\n",
      "[CV] C=10000.0 .......................................................\n",
      "[CV] C=10000.0 .......................................................\n",
      "[CV] C=10000.0 .......................................................\n",
      "[CV] ........................... C=10.0, score=0.904832, total= 8.3min\n",
      "[CV] C=10000.0 .......................................................\n",
      "[CV] ............................ C=1.0, score=0.905819, total= 8.6min\n",
      "[CV] ........................... C=10.0, score=0.905819, total= 8.4min\n",
      "[CV] C=100000.0 ......................................................\n"
     ]
    },
    {
     "name": "stderr",
     "output_type": "stream",
     "text": [
      "[Parallel(n_jobs=-1)]: Done  13 tasks      | elapsed:  9.5min\n"
     ]
    },
    {
     "name": "stdout",
     "output_type": "stream",
     "text": [
      "[CV] C=100000.0 ......................................................\n",
      "[CV] ........................... C=10.0, score=0.908284, total= 8.6min\n",
      "[CV] C=100000.0 ......................................................\n",
      "[CV] ............................ C=1.0, score=0.916667, total= 9.0min\n",
      "[CV] ........................... C=10.0, score=0.917160, total= 8.7min\n",
      "[CV] C=100000.0 ......................................................\n",
      "[CV] ............................ C=1.0, score=0.907791, total= 8.9min\n",
      "[CV] ............................ C=0.1, score=0.916667, total= 9.2min\n",
      "[CV] C=100000.0 ......................................................\n",
      "[CV] ............................ C=1.0, score=0.916174, total= 9.0min\n",
      "[CV] ........................... C=10.0, score=0.916174, total= 8.9min\n",
      "[CV] C=1000000.0 .....................................................\n",
      "[CV] .......................... C=100.0, score=0.904832, total= 8.5min\n",
      "[CV] C=1000000.0 .....................................................\n",
      "[CV] C=1000000.0 .....................................................\n",
      "[CV] C=1000000.0 .....................................................\n",
      "[CV] C=1000000.0 .....................................................\n",
      "[CV] .......................... C=100.0, score=0.917653, total= 9.2min\n",
      "[CV] C=10000000.0 ....................................................\n",
      "[CV] .......................... C=100.0, score=0.908284, total= 9.7min\n",
      "[CV] C=10000000.0 ....................................................\n",
      "[CV] .......................... C=100.0, score=0.916174, total=10.6min\n",
      "[CV] C=10000000.0 ....................................................\n",
      "[CV] .......................... C=100.0, score=0.905819, total= 7.4min\n"
     ]
    },
    {
     "name": "stderr",
     "output_type": "stream",
     "text": [
      "[Parallel(n_jobs=-1)]: Done  25 out of  65 | elapsed: 15.8min remaining: 25.2min\n"
     ]
    },
    {
     "name": "stdout",
     "output_type": "stream",
     "text": [
      "[CV] C=10000000.0 ....................................................\n",
      "[CV] ....................... C=100000.0, score=0.904832, total= 6.9min\n",
      "[CV] C=10000000.0 ....................................................\n",
      "[CV] ......................... C=1000.0, score=0.904832, total= 8.2min\n",
      "[CV] C=100000000.0 ...................................................\n",
      "[CV] ......................... C=1000.0, score=0.916667, total= 8.5min\n",
      "[CV] C=100000000.0 ...................................................\n",
      "[CV] ......................... C=1000.0, score=0.905819, total= 8.0min\n",
      "[CV] C=100000000.0 ...................................................\n",
      "[CV] ........................ C=10000.0, score=0.908284, total= 7.9min\n",
      "[CV] C=100000000.0 ...................................................\n",
      "[CV] ........................ C=10000.0, score=0.904832, total= 8.3min\n",
      "[CV] ......................... C=1000.0, score=0.917160, total= 8.9min\n",
      "[CV] C=100000000.0 ...................................................\n"
     ]
    },
    {
     "name": "stderr",
     "output_type": "stream",
     "text": [
      "[Parallel(n_jobs=-1)]: Done  32 out of  65 | elapsed: 17.4min remaining: 17.9min\n"
     ]
    },
    {
     "name": "stdout",
     "output_type": "stream",
     "text": [
      "[CV] ......................... C=1000.0, score=0.908284, total= 8.7min\n",
      "[CV] C=1000000000.0 ..................................................\n",
      "[CV] C=1000000000.0 ..................................................\n",
      "[CV] ...................... C=1000000.0, score=0.904832, total= 7.8min\n",
      "[CV] ........................ C=10000.0, score=0.905819, total= 8.4min\n",
      "[CV] ....................... C=100000.0, score=0.907791, total= 8.1min\n",
      "[CV] C=1000000000.0 ..................................................\n",
      "[CV] ........................ C=10000.0, score=0.915680, total= 8.9min\n",
      "[CV] C=1000000000.0 ..................................................\n",
      "[CV] ....................... C=100000.0, score=0.916667, total= 8.5min\n",
      "[CV] C=1000000000.0 ..................................................\n",
      "[CV] C=10000000000.0 .................................................\n",
      "[CV] ....................... C=100000.0, score=0.916667, total= 8.5min\n",
      "[CV] C=10000000000.0 .................................................\n"
     ]
    },
    {
     "name": "stderr",
     "output_type": "stream",
     "text": [
      "[Parallel(n_jobs=-1)]: Done  39 out of  65 | elapsed: 18.3min remaining: 12.2min\n"
     ]
    },
    {
     "name": "stdout",
     "output_type": "stream",
     "text": [
      "[CV] ....................... C=100000.0, score=0.905819, total= 8.4min\n",
      "[CV] C=10000000000.0 .................................................\n",
      "[CV] C=10000000000.0 .................................................\n",
      "[CV] ...................... C=1000000.0, score=0.905819, total= 8.4min\n",
      "[CV] C=10000000000.0 .................................................\n",
      "[CV] ........................ C=10000.0, score=0.916667, total= 9.9min\n",
      "[CV] ...................... C=1000000.0, score=0.916667, total= 9.0min\n",
      "[CV] ...................... C=1000000.0, score=0.916667, total= 9.2min\n",
      "[CV] ...................... C=1000000.0, score=0.907791, total= 9.3min\n",
      "[CV] ..................... C=10000000.0, score=0.916667, total= 8.7min\n"
     ]
    },
    {
     "name": "stderr",
     "output_type": "stream",
     "text": [
      "[Parallel(n_jobs=-1)]: Done  46 out of  65 | elapsed: 19.5min remaining:  8.1min\n"
     ]
    },
    {
     "name": "stdout",
     "output_type": "stream",
     "text": [
      "[CV] ..................... C=10000000.0, score=0.916667, total= 9.0min\n",
      "[CV] ..................... C=10000000.0, score=0.907791, total= 8.7min\n",
      "[CV] ..................... C=10000000.0, score=0.904832, total= 6.8min\n",
      "[CV] .................... C=100000000.0, score=0.905819, total= 6.6min\n",
      "[CV] ..................... C=10000000.0, score=0.905819, total= 7.2min\n",
      "[CV] .................... C=100000000.0, score=0.908284, total= 7.0min\n",
      "[CV] .................... C=100000000.0, score=0.904832, total= 7.0min\n"
     ]
    },
    {
     "name": "stderr",
     "output_type": "stream",
     "text": [
      "[Parallel(n_jobs=-1)]: Done  53 out of  65 | elapsed: 24.4min remaining:  5.5min\n"
     ]
    },
    {
     "name": "stdout",
     "output_type": "stream",
     "text": [
      "[CV] .................... C=100000000.0, score=0.917160, total= 7.3min\n",
      "[CV] ................... C=1000000000.0, score=0.917160, total= 7.0min\n",
      "[CV] .................... C=100000000.0, score=0.916667, total= 7.3min\n",
      "[CV] ................... C=1000000000.0, score=0.904832, total= 6.6min\n",
      "[CV] ................... C=1000000000.0, score=0.916667, total= 7.2min\n",
      "[CV] .................. C=10000000000.0, score=0.917160, total= 6.6min\n",
      "[CV] ................... C=1000000000.0, score=0.905819, total= 6.7min\n"
     ]
    },
    {
     "name": "stderr",
     "output_type": "stream",
     "text": [
      "[Parallel(n_jobs=-1)]: Done  60 out of  65 | elapsed: 24.9min remaining:  2.1min\n"
     ]
    },
    {
     "name": "stdout",
     "output_type": "stream",
     "text": [
      "[CV] .................. C=10000000000.0, score=0.904832, total= 6.4min\n",
      "[CV] ................... C=1000000000.0, score=0.908284, total= 6.8min\n",
      "[CV] .................. C=10000000000.0, score=0.908284, total= 6.6min\n",
      "[CV] .................. C=10000000000.0, score=0.916667, total= 6.7min\n",
      "[CV] .................. C=10000000000.0, score=0.905819, total= 6.5min\n"
     ]
    },
    {
     "name": "stderr",
     "output_type": "stream",
     "text": [
      "[Parallel(n_jobs=-1)]: Done  65 out of  65 | elapsed: 25.2min finished\n"
     ]
    },
    {
     "data": {
      "text/plain": [
       "GridSearchCV(cv=StratifiedShuffleSplit(n_splits=5, random_state=1, test_size=0.2,\n",
       "            train_size=None),\n",
       "       error_score='raise',\n",
       "       estimator=LinearSVC(C=1.0, class_weight=None, dual=True, fit_intercept=True,\n",
       "     intercept_scaling=1, loss='squared_hinge', max_iter=1000,\n",
       "     multi_class='ovr', penalty='l2', random_state=None, tol=0.0001,\n",
       "     verbose=0),\n",
       "       fit_params={}, iid=True, n_jobs=-1,\n",
       "       param_grid={'C': array([  1.00000e-02,   1.00000e-01,   1.00000e+00,   1.00000e+01,\n",
       "         1.00000e+02,   1.00000e+03,   1.00000e+04,   1.00000e+05,\n",
       "         1.00000e+06,   1.00000e+07,   1.00000e+08,   1.00000e+09,\n",
       "         1.00000e+10])},\n",
       "       pre_dispatch='2*n_jobs', refit=True, return_train_score=True,\n",
       "       scoring=None, verbose=10)"
      ]
     },
     "execution_count": 11,
     "metadata": {},
     "output_type": "execute_result"
    }
   ],
   "source": [
    "# Training top_model\n",
    "C_range = np.logspace(-2, 10, 13)\n",
    "param_grid = dict(C=C_range)\n",
    "cv = StratifiedShuffleSplit(n_splits=5, test_size=0.2, random_state=1)\n",
    "\n",
    "top_model = GridSearchCV(svm.LinearSVC(), param_grid=param_grid, cv=cv, verbose=10, n_jobs=-1)\n",
    "top_model.fit(vgg16features,y)  # Training "
   ]
  },
  {
   "cell_type": "code",
   "execution_count": 12,
   "metadata": {},
   "outputs": [
    {
     "name": "stdout",
     "output_type": "stream",
     "text": [
      "Best parameters: {'C': 0.10000000000000001} - score: 0.9107\n"
     ]
    }
   ],
   "source": [
    "print(\"Best parameters: %s - score: %0.4f\" % (top_model.best_params_, top_model.best_score_))"
   ]
  },
  {
   "cell_type": "code",
   "execution_count": 13,
   "metadata": {},
   "outputs": [
    {
     "data": {
      "text/plain": [
       "{'mean_fit_time': array([ 494.06182375,  506.04773598,  518.74120936,  512.08784647,\n",
       "         542.0106544 ,  506.48807325,  517.3702652 ,  482.07610054,\n",
       "         520.5691658 ,  484.41771321,  422.08578124,  409.99819865,\n",
       "         391.36325245]),\n",
       " 'mean_score_time': array([ 1.49517741,  1.83780365,  2.85223355,  3.09923396,  3.12735481,\n",
       "         2.44933   ,  2.47785845,  2.83862824,  2.96552787,  1.42108054,\n",
       "         0.67667298,  0.63221636,  0.6263164 ]),\n",
       " 'mean_test_score': array([ 0.91025641,  0.91065089,  0.91035503,  0.91045365,  0.91055227,\n",
       "         0.91055227,  0.91025641,  0.91035503,  0.91035503,  0.91035503,\n",
       "         0.91055227,  0.91055227,  0.91055227]),\n",
       " 'mean_train_score': array([ 0.99982733,  0.99982733,  0.99963   ,  0.99982733,  0.99982733,\n",
       "         0.99982733,  0.99963   ,  0.99982733,  0.99982733,  0.99982733,\n",
       "         0.99982733,  0.99982733,  0.99982733]),\n",
       " 'param_C': masked_array(data = [0.01 0.10000000000000001 1.0 10.0 100.0 1000.0 10000.0 100000.0 1000000.0\n",
       "  10000000.0 100000000.0 1000000000.0 10000000000.0],\n",
       "              mask = [False False False False False False False False False False False False\n",
       "  False],\n",
       "        fill_value = ?),\n",
       " 'params': ({'C': 0.01},\n",
       "  {'C': 0.10000000000000001},\n",
       "  {'C': 1.0},\n",
       "  {'C': 10.0},\n",
       "  {'C': 100.0},\n",
       "  {'C': 1000.0},\n",
       "  {'C': 10000.0},\n",
       "  {'C': 100000.0},\n",
       "  {'C': 1000000.0},\n",
       "  {'C': 10000000.0},\n",
       "  {'C': 100000000.0},\n",
       "  {'C': 1000000000.0},\n",
       "  {'C': 10000000000.0}),\n",
       " 'rank_test_score': array([12,  1,  8,  7,  2,  2, 12,  8,  8,  8,  2,  2,  2], dtype=int32),\n",
       " 'split0_test_score': array([ 0.91568047,  0.91715976,  0.91666667,  0.91617357,  0.91617357,\n",
       "         0.91715976,  0.91666667,  0.91666667,  0.91666667,  0.91666667,\n",
       "         0.91715976,  0.91715976,  0.91715976]),\n",
       " 'split0_train_score': array([ 0.99975333,  0.99975333,  0.99975333,  0.99975333,  0.99975333,\n",
       "         0.99975333,  0.99975333,  0.99975333,  0.99975333,  0.99975333,\n",
       "         0.99975333,  0.99975333,  0.99975333]),\n",
       " 'split1_test_score': array([ 0.91666667,  0.91666667,  0.91617357,  0.91715976,  0.91765286,\n",
       "         0.91666667,  0.91568047,  0.91666667,  0.91666667,  0.91666667,\n",
       "         0.91666667,  0.91666667,  0.91666667]),\n",
       " 'split1_train_score': array([ 0.99975333,  0.99975333,  0.99876665,  0.99975333,  0.99975333,\n",
       "         0.99975333,  0.99876665,  0.99975333,  0.99975333,  0.99975333,\n",
       "         0.99975333,  0.99975333,  0.99975333]),\n",
       " 'split2_test_score': array([ 0.90828402,  0.90828402,  0.90779093,  0.90828402,  0.90828402,\n",
       "         0.90828402,  0.90828402,  0.90779093,  0.90779093,  0.90779093,\n",
       "         0.90828402,  0.90828402,  0.90828402]),\n",
       " 'split2_train_score': array([ 0.99987667,  0.99987667,  0.99987667,  0.99987667,  0.99987667,\n",
       "         0.99987667,  0.99987667,  0.99987667,  0.99987667,  0.99987667,\n",
       "         0.99987667,  0.99987667,  0.99987667]),\n",
       " 'split3_test_score': array([ 0.90483235,  0.90483235,  0.90532544,  0.90483235,  0.90483235,\n",
       "         0.90483235,  0.90483235,  0.90483235,  0.90483235,  0.90483235,\n",
       "         0.90483235,  0.90483235,  0.90483235]),\n",
       " 'split3_train_score': array([ 1.,  1.,  1.,  1.,  1.,  1.,  1.,  1.,  1.,  1.,  1.,  1.,  1.]),\n",
       " 'split4_test_score': array([ 0.90581854,  0.90631164,  0.90581854,  0.90581854,  0.90581854,\n",
       "         0.90581854,  0.90581854,  0.90581854,  0.90581854,  0.90581854,\n",
       "         0.90581854,  0.90581854,  0.90581854]),\n",
       " 'split4_train_score': array([ 0.99975333,  0.99975333,  0.99975333,  0.99975333,  0.99975333,\n",
       "         0.99975333,  0.99975333,  0.99975333,  0.99975333,  0.99975333,\n",
       "         0.99975333,  0.99975333,  0.99975333]),\n",
       " 'std_fit_time': array([ 10.6534112 ,  22.55808681,  23.91155297,  13.1749762 ,\n",
       "         64.38022602,  21.21494818,  41.27014644,  34.97707111,\n",
       "         33.90657628,  54.78583733,  16.25151443,  13.96438768,   6.28137255]),\n",
       " 'std_score_time': array([ 0.34293976,  0.86702164,  0.36022385,  0.21686288,  1.13581819,\n",
       "         2.13338705,  0.62711077,  0.95380659,  0.78152304,  0.7950435 ,\n",
       "         0.13269663,  0.14191254,  0.23907917]),\n",
       " 'std_test_score': array([ 0.00497026,  0.00523147,  0.00502281,  0.00520538,  0.00533457,\n",
       "         0.0053163 ,  0.00497026,  0.00524076,  0.00524076,  0.00524076,\n",
       "         0.0053163 ,  0.0053163 ,  0.0053163 ]),\n",
       " 'std_train_score': array([  9.86679822e-05,   9.86679822e-05,   4.41256631e-04,\n",
       "          9.86679822e-05,   9.86679822e-05,   9.86679822e-05,\n",
       "          4.41256631e-04,   9.86679822e-05,   9.86679822e-05,\n",
       "          9.86679822e-05,   9.86679822e-05,   9.86679822e-05,\n",
       "          9.86679822e-05])}"
      ]
     },
     "execution_count": 13,
     "metadata": {},
     "output_type": "execute_result"
    }
   ],
   "source": [
    "top_model.cv_results_"
   ]
  },
  {
   "cell_type": "code",
   "execution_count": 14,
   "metadata": {},
   "outputs": [
    {
     "name": "stderr",
     "output_type": "stream",
     "text": [
      "/usr/local/lib/python2.7/dist-packages/sklearn/model_selection/_search.py:667: DeprecationWarning: The grid_scores_ attribute was deprecated in version 0.18 in favor of the more elaborate cv_results_ attribute. The grid_scores_ attribute will not be available from 0.20\n",
      "  DeprecationWarning)\n"
     ]
    },
    {
     "data": {
      "text/plain": [
       "[mean: 0.91026, std: 0.00497, params: {'C': 0.01},\n",
       " mean: 0.91065, std: 0.00523, params: {'C': 0.10000000000000001},\n",
       " mean: 0.91036, std: 0.00502, params: {'C': 1.0},\n",
       " mean: 0.91045, std: 0.00521, params: {'C': 10.0},\n",
       " mean: 0.91055, std: 0.00533, params: {'C': 100.0},\n",
       " mean: 0.91055, std: 0.00532, params: {'C': 1000.0},\n",
       " mean: 0.91026, std: 0.00497, params: {'C': 10000.0},\n",
       " mean: 0.91036, std: 0.00524, params: {'C': 100000.0},\n",
       " mean: 0.91036, std: 0.00524, params: {'C': 1000000.0},\n",
       " mean: 0.91036, std: 0.00524, params: {'C': 10000000.0},\n",
       " mean: 0.91055, std: 0.00532, params: {'C': 100000000.0},\n",
       " mean: 0.91055, std: 0.00532, params: {'C': 1000000000.0},\n",
       " mean: 0.91055, std: 0.00532, params: {'C': 10000000000.0}]"
      ]
     },
     "execution_count": 14,
     "metadata": {},
     "output_type": "execute_result"
    }
   ],
   "source": [
    "top_model.grid_scores_"
   ]
  },
  {
   "cell_type": "code",
   "execution_count": 15,
   "metadata": {
    "collapsed": true
   },
   "outputs": [],
   "source": [
    "cv = StratifiedShuffleSplit(n_splits=5, test_size=0.2, random_state=1)\n",
    "svm_model = svm.LinearSVC(C=top_model.best_params_['C'])\n",
    "train_sizes = np.linspace(.1, 1.0, 10)\n",
    "train_sizes, train_scores, test_scores = learning_curve(svm_model, vgg16features, y, cv=cv, n_jobs=-1, train_sizes=train_sizes)"
   ]
  },
  {
   "cell_type": "code",
   "execution_count": 16,
   "metadata": {},
   "outputs": [
    {
     "data": {
      "image/png": "[encoded data removed]",
      "text/plain": [
       "<matplotlib.figure.Figure at 0x7efbc9ece590>"
      ]
     },
     "metadata": {},
     "output_type": "display_data"
    }
   ],
   "source": [
    "figure = plt.gcf()\n",
    "figure.set_size_inches(24, 9)\n",
    "skplot.learning_curve(train_scores, test_scores, train_sizes)\n",
    "plt.show()"
   ]
  }
 ],
 "metadata": {
  "kernelspec": {
   "display_name": "Python 2",
   "language": "python",
   "name": "python2"
  },
  "language_info": {
   "codemirror_mode": {
    "name": "ipython",
    "version": 2
   },
   "file_extension": ".py",
   "mimetype": "text/x-python",
   "name": "python",
   "nbconvert_exporter": "python",
   "pygments_lexer": "ipython2",
   "version": "2.7.12"
  }
 },
 "nbformat": 4,
 "nbformat_minor": 2
}
