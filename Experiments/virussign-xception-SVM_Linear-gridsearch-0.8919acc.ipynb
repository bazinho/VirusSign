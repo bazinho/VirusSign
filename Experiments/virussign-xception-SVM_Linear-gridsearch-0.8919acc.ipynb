{
 "cells": [
  {
   "cell_type": "code",
   "execution_count": 1,
   "metadata": {},
   "outputs": [
    {
     "name": "stderr",
     "output_type": "stream",
     "text": [
      "Using TensorFlow backend.\n"
     ]
    }
   ],
   "source": [
    "import os\n",
    "import os.path\n",
    "import glob\n",
    "from sklearn.preprocessing import LabelEncoder\n",
    "from sklearn.model_selection import StratifiedKFold                                                                                                                       \n",
    "from sklearn.metrics import confusion_matrix,accuracy_score\n",
    "from sklearn.model_selection import StratifiedShuffleSplit\n",
    "from sklearn.model_selection import GridSearchCV\n",
    "import sklearn_evaluation.plot as skplot\n",
    "from sklearn.model_selection import learning_curve\n",
    "from sklearn import svm\n",
    "\n",
    "import matplotlib.pyplot as plt\n",
    "import matplotlib.cm as colormap\n",
    "plt.rcParams['image.cmap'] = 'Paired'\n",
    "\n",
    "import numpy as np\n",
    "np.random.seed(1)\n",
    "\n",
    "from keras.utils import np_utils\n",
    "from keras.preprocessing import image\n",
    "from keras.applications.xception import Xception,preprocess_input\n",
    "\n",
    "# Disable GPU\n",
    "os.environ['CUDA_VISIBLE_DEVICES'] = '-1'"
   ]
  },
  {
   "cell_type": "code",
   "execution_count": 2,
   "metadata": {
    "collapsed": true
   },
   "outputs": [],
   "source": [
    "imagedir = \"Datasets/ByFamilyImagesWidth\""
   ]
  },
  {
   "cell_type": "code",
   "execution_count": 3,
   "metadata": {},
   "outputs": [
    {
     "name": "stdout",
     "output_type": "stream",
     "text": [
      "Label: 0\tFamily:         allaple\tNumber of images: 362\n",
      "Label: 1\tFamily:           alman\tNumber of images: 325\n",
      "Label: 2\tFamily:          autoit\tNumber of images: 261\n",
      "Label: 3\tFamily:            daws\tNumber of images: 466\n",
      "Label: 4\tFamily:            delf\tNumber of images: 359\n",
      "Label: 5\tFamily:         gamarue\tNumber of images: 259\n",
      "Label: 6\tFamily:          ibryte\tNumber of images: 347\n",
      "Label: 7\tFamily:          loring\tNumber of images: 285\n",
      "Label: 8\tFamily:          mydoom\tNumber of images: 578\n",
      "Label: 9\tFamily:          qukart\tNumber of images: 253\n",
      "Label:10\tFamily:          ramnit\tNumber of images: 506\n",
      "Label:11\tFamily:          sality\tNumber of images: 1401\n",
      "Label:12\tFamily:          simbot\tNumber of images: 1148\n",
      "Label:13\tFamily:       softpulse\tNumber of images: 912\n",
      "Label:14\tFamily:          viking\tNumber of images: 183\n",
      "Label:15\tFamily:         virlock\tNumber of images: 373\n",
      "Label:16\tFamily:          vobfus\tNumber of images: 405\n",
      "Label:17\tFamily:          wapomi\tNumber of images: 345\n",
      "Label:18\tFamily:            zbot\tNumber of images: 863\n",
      "Label:19\tFamily:          zegost\tNumber of images: 505\n",
      "Processing images ...\n",
      "Images processed: 10136\n"
     ]
    }
   ],
   "source": [
    "cur_dir = os.getcwd()\n",
    "os.chdir(imagedir)  # the parent folder with sub-folders\n",
    "\n",
    "# Get number of samples per family\n",
    "list_fams = sorted(os.listdir(os.getcwd()), key=str.lower)  # vector of strings with family names\n",
    "no_imgs = []  # No. of samples per family\n",
    "for i in range(len(list_fams)):\n",
    "    os.chdir(list_fams[i])\n",
    "    len1 = len(glob.glob('*.png'))  # assuming the images are stored as 'png'\n",
    "    no_imgs.append(len1)\n",
    "    os.chdir('..')\n",
    "num_samples = np.sum(no_imgs)  # total number of all samples\n",
    "\n",
    "# Compute the labels\n",
    "y = np.zeros(num_samples)\n",
    "pos = 0\n",
    "label = 0\n",
    "for i in no_imgs:\n",
    "    print (\"Label:%2d\\tFamily: %15s\\tNumber of images: %d\" % (label, list_fams[label], i))\n",
    "    for j in range(i):\n",
    "        y[pos] = label\n",
    "        pos += 1\n",
    "    label += 1\n",
    "num_classes = label\n",
    "\n",
    "# Compute the features\n",
    "width, height,channels = (224,224,3)\n",
    "X = np.zeros((num_samples, width, height, channels))\n",
    "cnt = 0\n",
    "list_paths = [] # List of image paths\n",
    "print(\"Processing images ...\")\n",
    "for i in range(len(list_fams)):\n",
    "    for img_file in glob.glob(list_fams[i]+'/*.png'):\n",
    "        #print(\"[%d] Processing image: %s\" % (cnt, img_file))\n",
    "        list_paths.append(os.path.join(os.getcwd(),img_file))\n",
    "        img = image.load_img(img_file, target_size=(224, 224))\n",
    "        x = image.img_to_array(img)\n",
    "        x = np.expand_dims(x, axis=0)\n",
    "        x = preprocess_input(x)\n",
    "        X[cnt] = x\n",
    "        cnt += 1\n",
    "print(\"Images processed: %d\" %(cnt))\n",
    "\n",
    "os.chdir(cur_dir)"
   ]
  },
  {
   "cell_type": "code",
   "execution_count": 4,
   "metadata": {},
   "outputs": [
    {
     "data": {
      "text/plain": [
       "(10136, 224, 224, 3)"
      ]
     },
     "execution_count": 4,
     "metadata": {},
     "output_type": "execute_result"
    }
   ],
   "source": [
    "X.shape"
   ]
  },
  {
   "cell_type": "code",
   "execution_count": 5,
   "metadata": {
    "collapsed": true
   },
   "outputs": [],
   "source": [
    "# Encoding classes (y) into integers (y_encoded) and then generating one-hot-encoding (Y)\n",
    "encoder = LabelEncoder()\n",
    "encoder.fit(y)\n",
    "y_encoded = encoder.transform(y)\n",
    "Y = np_utils.to_categorical(y_encoded)"
   ]
  },
  {
   "cell_type": "code",
   "execution_count": 6,
   "metadata": {
    "collapsed": true
   },
   "outputs": [],
   "source": [
    "# Creating base_model (Xception notop)\n",
    "image_shape = (224, 224, 3)                                                                                                                                                                                                                                                                                            \n",
    "base_model = Xception(weights='imagenet', input_shape=image_shape, include_top=False)"
   ]
  },
  {
   "cell_type": "code",
   "execution_count": 7,
   "metadata": {},
   "outputs": [
    {
     "name": "stdout",
     "output_type": "stream",
     "text": [
      "Loading Xception extracted features from virussign-xceptionfeatures.npy ...\n"
     ]
    }
   ],
   "source": [
    "filename = 'virussign-xceptionfeatures.npy'\n",
    "if os.path.exists(filename):\n",
    "    print(\"Loading Xception extracted features from %s ...\" %(filename))\n",
    "    xceptionfeatures = np.load(filename)\n",
    "else:\n",
    "    print(\"Extracting features from Xception layers ...\")\n",
    "    xceptionfeatures = base_model.predict(X)\n",
    "    print(\"Saving Xception extracted features into %s ...\" %(filename))\n",
    "    np.save(filename, xceptionfeatures)"
   ]
  },
  {
   "cell_type": "code",
   "execution_count": 8,
   "metadata": {},
   "outputs": [
    {
     "data": {
      "text/plain": [
       "(10136, 7, 7, 2048)"
      ]
     },
     "execution_count": 8,
     "metadata": {},
     "output_type": "execute_result"
    }
   ],
   "source": [
    "xceptionfeatures.shape"
   ]
  },
  {
   "cell_type": "code",
   "execution_count": 9,
   "metadata": {
    "collapsed": true
   },
   "outputs": [],
   "source": [
    "xceptionfeatures = np.reshape(xceptionfeatures,(xceptionfeatures.shape[0],-1))"
   ]
  },
  {
   "cell_type": "code",
   "execution_count": 10,
   "metadata": {},
   "outputs": [
    {
     "data": {
      "text/plain": [
       "(10136, 100352)"
      ]
     },
     "execution_count": 10,
     "metadata": {},
     "output_type": "execute_result"
    }
   ],
   "source": [
    "xceptionfeatures.shape"
   ]
  },
  {
   "cell_type": "code",
   "execution_count": 11,
   "metadata": {},
   "outputs": [
    {
     "name": "stdout",
     "output_type": "stream",
     "text": [
      "Fitting 5 folds for each of 13 candidates, totalling 65 fits\n",
      "[CV] C=0.01 ..........................................................\n",
      "[CV] C=0.01 ..........................................................\n",
      "[CV] C=0.01 ..........................................................\n",
      "[CV] C=0.01 ..........................................................\n",
      "[CV] C=0.01 ..........................................................\n",
      "[CV] ........................... C=0.01, score=0.902367, total=72.8min\n",
      "[CV] C=0.1 ...........................................................\n",
      "[CV] ........................... C=0.01, score=0.888560, total=72.9min\n",
      "[CV] C=0.1 ...........................................................\n",
      "[CV] ........................... C=0.01, score=0.892505, total=75.7min\n",
      "[CV] C=0.1 ...........................................................\n"
     ]
    },
    {
     "name": "stderr",
     "output_type": "stream",
     "text": [
      "[Parallel(n_jobs=5)]: Done   3 tasks      | elapsed: 76.5min\n"
     ]
    },
    {
     "name": "stdout",
     "output_type": "stream",
     "text": [
      "[CV] ........................... C=0.01, score=0.886095, total=74.2min\n",
      "[CV] C=0.1 ...........................................................\n",
      "[CV] ........................... C=0.01, score=0.890039, total=78.8min\n",
      "[CV] C=0.1 ...........................................................\n",
      "[CV] ............................ C=0.1, score=0.892505, total=72.6min\n",
      "[CV] C=1.0 ...........................................................\n",
      "[CV] ............................ C=0.1, score=0.888560, total=83.2min\n",
      "[CV] C=1.0 ...........................................................\n",
      "[CV] ............................ C=0.1, score=0.901381, total=89.0min\n"
     ]
    },
    {
     "name": "stderr",
     "output_type": "stream",
     "text": [
      "[Parallel(n_jobs=5)]: Done   8 tasks      | elapsed: 166.3min\n"
     ]
    },
    {
     "name": "stdout",
     "output_type": "stream",
     "text": [
      "[CV] C=1.0 ...........................................................\n",
      "[CV] ............................ C=0.1, score=0.889546, total=88.7min\n",
      "[CV] C=1.0 ...........................................................\n",
      "[CV] ............................ C=0.1, score=0.886095, total=88.6min\n",
      "[CV] C=1.0 ...........................................................\n",
      "[CV] ............................ C=1.0, score=0.888067, total=62.6min\n",
      "[CV] C=10.0 ..........................................................\n",
      "[CV] ............................ C=1.0, score=0.892012, total=73.7min\n",
      "[CV] C=10.0 ..........................................................\n",
      "[CV] ............................ C=1.0, score=0.900888, total=79.7min\n",
      "[CV] C=10.0 ..........................................................\n",
      "[CV] ............................ C=1.0, score=0.889546, total=73.3min\n",
      "[CV] C=10.0 ..........................................................\n",
      "[CV] ............................ C=1.0, score=0.886588, total=83.6min\n"
     ]
    },
    {
     "name": "stderr",
     "output_type": "stream",
     "text": [
      "[Parallel(n_jobs=5)]: Done  15 tasks      | elapsed: 259.1min\n"
     ]
    },
    {
     "name": "stdout",
     "output_type": "stream",
     "text": [
      "[CV] C=10.0 ..........................................................\n",
      "[CV] ........................... C=10.0, score=0.901381, total=63.4min\n",
      "[CV] C=100.0 .........................................................\n",
      "[CV] ........................... C=10.0, score=0.890533, total=68.0min\n",
      "[CV] C=100.0 .........................................................\n",
      "[CV] ........................... C=10.0, score=0.889546, total=72.0min\n",
      "[CV] C=100.0 .........................................................\n",
      "[CV] ........................... C=10.0, score=0.888067, total=72.7min\n",
      "[CV] C=100.0 .........................................................\n",
      "[CV] ........................... C=10.0, score=0.886588, total=75.1min\n",
      "[CV] C=100.0 .........................................................\n",
      "[CV] .......................... C=100.0, score=0.901381, total=77.7min\n",
      "[CV] C=1000.0 ........................................................\n",
      "[CV] .......................... C=100.0, score=0.889546, total=64.8min\n"
     ]
    },
    {
     "name": "stderr",
     "output_type": "stream",
     "text": [
      "[Parallel(n_jobs=5)]: Done  22 tasks      | elapsed: 385.2min\n"
     ]
    },
    {
     "name": "stdout",
     "output_type": "stream",
     "text": [
      "[CV] C=1000.0 ........................................................\n",
      "[CV] .......................... C=100.0, score=0.892012, total=78.5min\n",
      "[CV] C=1000.0 ........................................................\n",
      "[CV] .......................... C=100.0, score=0.888067, total=75.5min\n",
      "[CV] C=1000.0 ........................................................\n",
      "[CV] .......................... C=100.0, score=0.886095, total=75.7min\n",
      "[CV] C=1000.0 ........................................................\n",
      "[CV] ......................... C=1000.0, score=0.888067, total=63.9min\n",
      "[CV] C=10000.0 .......................................................\n",
      "[CV] ......................... C=1000.0, score=0.901381, total=74.7min\n",
      "[CV] C=10000.0 .......................................................\n",
      "[CV] ......................... C=1000.0, score=0.892012, total=69.9min\n",
      "[CV] C=10000.0 .......................................................\n",
      "[CV] ......................... C=1000.0, score=0.889546, total=74.0min\n",
      "[CV] C=10000.0 .......................................................\n",
      "[CV] ......................... C=1000.0, score=0.885108, total=75.9min\n",
      "[CV] C=10000.0 .......................................................\n",
      "[CV] ........................ C=10000.0, score=0.901874, total=68.1min\n"
     ]
    },
    {
     "name": "stderr",
     "output_type": "stream",
     "text": [
      "[Parallel(n_jobs=5)]: Done  31 tasks      | elapsed: 522.1min\n"
     ]
    },
    {
     "name": "stdout",
     "output_type": "stream",
     "text": [
      "[CV] C=100000.0 ......................................................\n",
      "[CV] ........................ C=10000.0, score=0.891519, total=70.6min\n",
      "[CV] C=100000.0 ......................................................\n",
      "[CV] ........................ C=10000.0, score=0.887574, total=70.6min\n",
      "[CV] C=100000.0 ......................................................\n",
      "[CV] ........................ C=10000.0, score=0.889546, total=72.5min\n",
      "[CV] C=100000.0 ......................................................\n",
      "[CV] ........................ C=10000.0, score=0.886588, total=78.2min\n",
      "[CV] C=100000.0 ......................................................\n",
      "[CV] ....................... C=100000.0, score=0.901874, total=64.3min\n",
      "[CV] C=1000000.0 .....................................................\n",
      "[CV] ....................... C=100000.0, score=0.887574, total=64.7min\n",
      "[CV] C=1000000.0 .....................................................\n",
      "[CV] ....................... C=100000.0, score=0.891519, total=76.6min\n",
      "[CV] C=1000000.0 .....................................................\n",
      "[CV] ....................... C=100000.0, score=0.889546, total=74.6min\n",
      "[CV] C=1000000.0 .....................................................\n",
      "[CV] ...................... C=1000000.0, score=0.900394, total=66.5min\n"
     ]
    },
    {
     "name": "stderr",
     "output_type": "stream",
     "text": [
      "[Parallel(n_jobs=5)]: Done  40 tasks      | elapsed: 659.5min\n"
     ]
    },
    {
     "name": "stdout",
     "output_type": "stream",
     "text": [
      "[CV] C=1000000.0 .....................................................\n",
      "[CV] ...................... C=1000000.0, score=0.892012, total=67.0min\n",
      "[CV] ....................... C=100000.0, score=0.886095, total=76.5min\n",
      "[CV] C=10000000.0 ....................................................\n",
      "[CV] C=10000000.0 ....................................................\n",
      "[CV] ...................... C=1000000.0, score=0.887574, total=73.1min\n",
      "[CV] C=10000000.0 ....................................................\n",
      "[CV] ...................... C=1000000.0, score=0.889546, total=75.1min\n",
      "[CV] C=10000000.0 ....................................................\n",
      "[CV] ...................... C=1000000.0, score=0.886095, total=73.6min\n",
      "[CV] C=10000000.0 ....................................................\n",
      "[CV] ..................... C=10000000.0, score=0.901874, total=70.6min\n",
      "[CV] C=100000000.0 ...................................................\n",
      "[CV] ..................... C=10000000.0, score=0.892012, total=74.6min\n",
      "[CV] C=100000000.0 ...................................................\n",
      "[CV] ..................... C=10000000.0, score=0.887574, total=70.9min\n",
      "[CV] C=100000000.0 ...................................................\n",
      "[CV] ..................... C=10000000.0, score=0.889053, total=74.2min\n",
      "[CV] C=100000000.0 ...................................................\n",
      "[CV] ..................... C=10000000.0, score=0.886588, total=65.6min\n",
      "[CV] C=100000000.0 ...................................................\n",
      "[CV] .................... C=100000000.0, score=0.891519, total=66.4min\n"
     ]
    },
    {
     "name": "stderr",
     "output_type": "stream",
     "text": [
      "[Parallel(n_jobs=5)]: Done  51 tasks      | elapsed: 811.2min\n"
     ]
    },
    {
     "name": "stdout",
     "output_type": "stream",
     "text": [
      "[CV] C=1000000000.0 ..................................................\n",
      "[CV] .................... C=100000000.0, score=0.901381, total=74.5min\n",
      "[CV] C=1000000000.0 ..................................................\n",
      "[CV] .................... C=100000000.0, score=0.887081, total=70.1min\n",
      "[CV] C=1000000000.0 ..................................................\n",
      "[CV] .................... C=100000000.0, score=0.889546, total=73.8min\n",
      "[CV] C=1000000000.0 ..................................................\n",
      "[CV] .................... C=100000000.0, score=0.886095, total=67.2min\n",
      "[CV] C=1000000000.0 ..................................................\n",
      "[CV] ................... C=1000000000.0, score=0.901381, total=71.0min\n",
      "[CV] C=10000000000.0 .................................................\n",
      "[CV] ................... C=1000000000.0, score=0.891519, total=69.0min\n",
      "[CV] C=10000000000.0 .................................................\n",
      "[CV] ................... C=1000000000.0, score=0.887574, total=66.1min\n",
      "[CV] C=10000000000.0 .................................................\n",
      "[CV] ................... C=1000000000.0, score=0.889053, total=68.1min\n",
      "[CV] C=10000000000.0 .................................................\n",
      "[CV] ................... C=1000000000.0, score=0.886588, total=74.4min\n",
      "[CV] C=10000000000.0 .................................................\n",
      "[CV] .................. C=10000000000.0, score=0.901874, total=67.5min\n",
      "[CV] .................. C=10000000000.0, score=0.891519, total=72.0min\n",
      "[CV] .................. C=10000000000.0, score=0.887574, total=67.9min\n"
     ]
    },
    {
     "name": "stderr",
     "output_type": "stream",
     "text": [
      "[Parallel(n_jobs=5)]: Done  63 out of  65 | elapsed: 973.6min remaining: 30.9min\n"
     ]
    },
    {
     "name": "stdout",
     "output_type": "stream",
     "text": [
      "[CV] .................. C=10000000000.0, score=0.889546, total=72.3min\n",
      "[CV] .................. C=10000000000.0, score=0.886588, total=62.4min\n"
     ]
    },
    {
     "name": "stderr",
     "output_type": "stream",
     "text": [
      "[Parallel(n_jobs=5)]: Done  65 out of  65 | elapsed: 1010.9min finished\n"
     ]
    },
    {
     "data": {
      "text/plain": [
       "GridSearchCV(cv=StratifiedShuffleSplit(n_splits=5, random_state=1, test_size=0.2,\n",
       "            train_size=None),\n",
       "       error_score='raise',\n",
       "       estimator=LinearSVC(C=1.0, class_weight=None, dual=True, fit_intercept=True,\n",
       "     intercept_scaling=1, loss='squared_hinge', max_iter=1000,\n",
       "     multi_class='ovr', penalty='l2', random_state=None, tol=0.0001,\n",
       "     verbose=0),\n",
       "       fit_params={}, iid=True, n_jobs=5,\n",
       "       param_grid={'C': array([  1.00000e-02,   1.00000e-01,   1.00000e+00,   1.00000e+01,\n",
       "         1.00000e+02,   1.00000e+03,   1.00000e+04,   1.00000e+05,\n",
       "         1.00000e+06,   1.00000e+07,   1.00000e+08,   1.00000e+09,\n",
       "         1.00000e+10])},\n",
       "       pre_dispatch='2*n_jobs', refit=True, return_train_score=True,\n",
       "       scoring=None, verbose=10)"
      ]
     },
     "execution_count": 11,
     "metadata": {},
     "output_type": "execute_result"
    }
   ],
   "source": [
    "# Training top_model\n",
    "C_range = np.logspace(-2, 10, 13)\n",
    "param_grid = dict(C=C_range)\n",
    "cv = StratifiedShuffleSplit(n_splits=5, test_size=0.2, random_state=1)\n",
    "\n",
    "top_model = GridSearchCV(svm.LinearSVC(), param_grid=param_grid, cv=cv, verbose=10, n_jobs=5)\n",
    "top_model.fit(xceptionfeatures,y)  # Training "
   ]
  },
  {
   "cell_type": "code",
   "execution_count": 12,
   "metadata": {},
   "outputs": [
    {
     "name": "stdout",
     "output_type": "stream",
     "text": [
      "Best parameters: {'C': 0.01} - score: 0.8919\n"
     ]
    }
   ],
   "source": [
    "print(\"Best parameters: %s - score: %0.4f\" % (top_model.best_params_, top_model.best_score_))"
   ]
  },
  {
   "cell_type": "code",
   "execution_count": 13,
   "metadata": {},
   "outputs": [
    {
     "data": {
      "text/plain": [
       "{'mean_fit_time': array([ 4475.7054184 ,  5060.16187077,  4465.93352904,  4185.01216636,\n",
       "         4454.80551262,  4296.12886019,  4312.48904004,  4230.88167644,\n",
       "         4248.5116878 ,  4257.04509463,  4208.36221619,  4170.17527223,\n",
       "         4085.45459757]),\n",
       " 'mean_score_time': array([ 16.60924501,   5.65215478,   9.04180818,  28.79546223,\n",
       "         11.56039801,   5.20499263,   6.81089149,  48.45364838,\n",
       "         13.83460317,  12.0486145 ,  15.36353683,  13.47379141,  19.75260482]),\n",
       " 'mean_test_score': array([ 0.89191321,  0.89161736,  0.89142012,  0.89122288,  0.89142012,\n",
       "         0.89122288,  0.89142012,  0.8913215 ,  0.89112426,  0.89142012,\n",
       "         0.89112426,  0.89122288,  0.89142012]),\n",
       " 'mean_train_score': array([ 0.99982733,  0.99982733,  0.99982733,  0.99982733,  0.99982733,\n",
       "         0.99982733,  0.99982733,  0.99982733,  0.99982733,  0.99982733,\n",
       "         0.99982733,  0.99982733,  0.99982733]),\n",
       " 'param_C': masked_array(data = [0.01 0.10000000000000001 1.0 10.0 100.0 1000.0 10000.0 100000.0 1000000.0\n",
       "  10000000.0 100000000.0 1000000000.0 10000000000.0],\n",
       "              mask = [False False False False False False False False False False False False\n",
       "  False],\n",
       "        fill_value = ?),\n",
       " 'params': ({'C': 0.01},\n",
       "  {'C': 0.10000000000000001},\n",
       "  {'C': 1.0},\n",
       "  {'C': 10.0},\n",
       "  {'C': 100.0},\n",
       "  {'C': 1000.0},\n",
       "  {'C': 10000.0},\n",
       "  {'C': 100000.0},\n",
       "  {'C': 1000000.0},\n",
       "  {'C': 10000000.0},\n",
       "  {'C': 100000000.0},\n",
       "  {'C': 1000000000.0},\n",
       "  {'C': 10000000000.0}),\n",
       " 'rank_test_score': array([ 1,  2,  3,  9,  3,  9,  3,  8, 12,  3, 12,  9,  3], dtype=int32),\n",
       " 'split0_test_score': array([ 0.90236686,  0.90138067,  0.90088757,  0.90138067,  0.90138067,\n",
       "         0.90138067,  0.90187377,  0.90187377,  0.90039448,  0.90187377,\n",
       "         0.90138067,  0.90138067,  0.90187377]),\n",
       " 'split0_train_score': array([ 0.99975333,  0.99975333,  0.99975333,  0.99975333,  0.99975333,\n",
       "         0.99975333,  0.99975333,  0.99975333,  0.99975333,  0.99975333,\n",
       "         0.99975333,  0.99975333,  0.99975333]),\n",
       " 'split1_test_score': array([ 0.89250493,  0.89250493,  0.89201183,  0.89053254,  0.89201183,\n",
       "         0.89201183,  0.89151874,  0.89151874,  0.89201183,  0.89201183,\n",
       "         0.89151874,  0.89151874,  0.89151874]),\n",
       " 'split1_train_score': array([ 0.99975333,  0.99975333,  0.99975333,  0.99975333,  0.99975333,\n",
       "         0.99975333,  0.99975333,  0.99975333,  0.99975333,  0.99975333,\n",
       "         0.99975333,  0.99975333,  0.99975333]),\n",
       " 'split2_test_score': array([ 0.88856016,  0.88856016,  0.88806706,  0.88806706,  0.88806706,\n",
       "         0.88806706,  0.88757396,  0.88757396,  0.88757396,  0.88757396,\n",
       "         0.88708087,  0.88757396,  0.88757396]),\n",
       " 'split2_train_score': array([ 0.99987667,  0.99987667,  0.99987667,  0.99987667,  0.99987667,\n",
       "         0.99987667,  0.99987667,  0.99987667,  0.99987667,  0.99987667,\n",
       "         0.99987667,  0.99987667,  0.99987667]),\n",
       " 'split3_test_score': array([ 0.89003945,  0.88954635,  0.88954635,  0.88954635,  0.88954635,\n",
       "         0.88954635,  0.88954635,  0.88954635,  0.88954635,  0.88905325,\n",
       "         0.88954635,  0.88905325,  0.88954635]),\n",
       " 'split3_train_score': array([ 1.,  1.,  1.,  1.,  1.,  1.,  1.,  1.,  1.,  1.,  1.,  1.,  1.]),\n",
       " 'split4_test_score': array([ 0.88609467,  0.88609467,  0.88658777,  0.88658777,  0.88609467,\n",
       "         0.88510848,  0.88658777,  0.88609467,  0.88609467,  0.88658777,\n",
       "         0.88609467,  0.88658777,  0.88658777]),\n",
       " 'split4_train_score': array([ 0.99975333,  0.99975333,  0.99975333,  0.99975333,  0.99975333,\n",
       "         0.99975333,  0.99975333,  0.99975333,  0.99975333,  0.99975333,\n",
       "         0.99975333,  0.99975333,  0.99975333]),\n",
       " 'std_fit_time': array([ 134.73756538,  375.9229078 ,  422.59376506,  239.37743204,\n",
       "         291.83413429,  261.36513628,  197.74741059,  315.59478971,\n",
       "         214.77513072,  191.20539147,  194.66904149,  175.81862746,\n",
       "         218.31127323]),\n",
       " 'std_score_time': array([  5.53694952,   2.97564026,   7.49810935,  16.23483794,\n",
       "          5.11427298,   2.11805212,   7.41377139,  46.6697659 ,\n",
       "          3.43963732,   4.14836863,   9.62129342,   6.41506607,  25.46883234]),\n",
       " 'std_test_score': array([ 0.00562563,  0.00529614,  0.00506139,  0.00525188,  0.00534186,\n",
       "         0.00554904,  0.00549443,  0.00558398,  0.00504214,  0.00553851,\n",
       "         0.00546782,  0.00534368,  0.00549443]),\n",
       " 'std_train_score': array([  9.86679822e-05,   9.86679822e-05,   9.86679822e-05,\n",
       "          9.86679822e-05,   9.86679822e-05,   9.86679822e-05,\n",
       "          9.86679822e-05,   9.86679822e-05,   9.86679822e-05,\n",
       "          9.86679822e-05,   9.86679822e-05,   9.86679822e-05,\n",
       "          9.86679822e-05])}"
      ]
     },
     "execution_count": 13,
     "metadata": {},
     "output_type": "execute_result"
    }
   ],
   "source": [
    "top_model.cv_results_"
   ]
  },
  {
   "cell_type": "code",
   "execution_count": 14,
   "metadata": {},
   "outputs": [
    {
     "name": "stderr",
     "output_type": "stream",
     "text": [
      "/usr/local/lib/python2.7/dist-packages/sklearn/model_selection/_search.py:667: DeprecationWarning: The grid_scores_ attribute was deprecated in version 0.18 in favor of the more elaborate cv_results_ attribute. The grid_scores_ attribute will not be available from 0.20\n",
      "  DeprecationWarning)\n"
     ]
    },
    {
     "data": {
      "text/plain": [
       "[mean: 0.89191, std: 0.00563, params: {'C': 0.01},\n",
       " mean: 0.89162, std: 0.00530, params: {'C': 0.10000000000000001},\n",
       " mean: 0.89142, std: 0.00506, params: {'C': 1.0},\n",
       " mean: 0.89122, std: 0.00525, params: {'C': 10.0},\n",
       " mean: 0.89142, std: 0.00534, params: {'C': 100.0},\n",
       " mean: 0.89122, std: 0.00555, params: {'C': 1000.0},\n",
       " mean: 0.89142, std: 0.00549, params: {'C': 10000.0},\n",
       " mean: 0.89132, std: 0.00558, params: {'C': 100000.0},\n",
       " mean: 0.89112, std: 0.00504, params: {'C': 1000000.0},\n",
       " mean: 0.89142, std: 0.00554, params: {'C': 10000000.0},\n",
       " mean: 0.89112, std: 0.00547, params: {'C': 100000000.0},\n",
       " mean: 0.89122, std: 0.00534, params: {'C': 1000000000.0},\n",
       " mean: 0.89142, std: 0.00549, params: {'C': 10000000000.0}]"
      ]
     },
     "execution_count": 14,
     "metadata": {},
     "output_type": "execute_result"
    }
   ],
   "source": [
    "top_model.grid_scores_"
   ]
  },
  {
   "cell_type": "code",
   "execution_count": 15,
   "metadata": {
    "collapsed": true
   },
   "outputs": [],
   "source": [
    "cv = StratifiedShuffleSplit(n_splits=5, test_size=0.2, random_state=1)\n",
    "svm_model = svm.LinearSVC(C=top_model.best_params_['C'])\n",
    "train_sizes = np.linspace(.1, 1.0, 10)\n",
    "train_sizes, train_scores, test_scores = learning_curve(svm_model, xceptionfeatures, y, cv=cv, n_jobs=5, train_sizes=train_sizes)"
   ]
  },
  {
   "cell_type": "code",
   "execution_count": 16,
   "metadata": {},
   "outputs": [
    {
     "data": {
      "image/png": "[encoded data removed]",
      "text/plain": [
       "<matplotlib.figure.Figure at 0x7f831b106a90>"
      ]
     },
     "metadata": {},
     "output_type": "display_data"
    }
   ],
   "source": [
    "figure = plt.gcf()\n",
    "figure.set_size_inches(24, 9)\n",
    "skplot.learning_curve(train_scores, test_scores, train_sizes)\n",
    "plt.show()"
   ]
  }
 ],
 "metadata": {
  "kernelspec": {
   "display_name": "Python 2",
   "language": "python",
   "name": "python2"
  },
  "language_info": {
   "codemirror_mode": {
    "name": "ipython",
    "version": 2
   },
   "file_extension": ".py",
   "mimetype": "text/x-python",
   "name": "python",
   "nbconvert_exporter": "python",
   "pygments_lexer": "ipython2",
   "version": "2.7.12"
  }
 },
 "nbformat": 4,
 "nbformat_minor": 2
}
