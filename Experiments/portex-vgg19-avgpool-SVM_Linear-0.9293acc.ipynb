{
 "cells": [
  {
   "cell_type": "code",
   "execution_count": 1,
   "metadata": {},
   "outputs": [
    {
     "name": "stderr",
     "output_type": "stream",
     "text": [
      "/usr/local/lib/python3.5/dist-packages/h5py/__init__.py:36: FutureWarning: Conversion of the second argument of issubdtype from `float` to `np.floating` is deprecated. In future, it will be treated as `np.float64 == np.dtype(float).type`.\n",
      "  from ._conv import register_converters as _register_converters\n",
      "Using TensorFlow backend.\n"
     ]
    }
   ],
   "source": [
    "import os\n",
    "import os.path\n",
    "import glob\n",
    "from sklearn.preprocessing import LabelEncoder\n",
    "from sklearn.model_selection import StratifiedKFold                                                                                                                       \n",
    "from sklearn.metrics import confusion_matrix,accuracy_score\n",
    "from sklearn import svm\n",
    "from sklearn.model_selection import GridSearchCV\n",
    "import sklearn_evaluation.plot as skplot\n",
    "from sklearn.model_selection import learning_curve\n",
    "\n",
    "import matplotlib.pyplot as plt\n",
    "\n",
    "import numpy as np\n",
    "np.random.seed(1)\n",
    "\n",
    "from keras.preprocessing.image import img_to_array\n",
    "from keras.utils import np_utils\n",
    "from keras.preprocessing import image\n",
    "from keras.applications.vgg19 import VGG19\n",
    "from keras.applications.imagenet_utils import preprocess_input\n",
    "\n",
    "os.environ['CUDA_VISIBLE_DEVICES'] = '0'"
   ]
  },
  {
   "cell_type": "code",
   "execution_count": 2,
   "metadata": {
    "collapsed": true
   },
   "outputs": [],
   "source": [
    "imagedir = \"Datasets/ByFamilyPortex\""
   ]
  },
  {
   "cell_type": "code",
   "execution_count": 3,
   "metadata": {},
   "outputs": [
    {
     "name": "stdout",
     "output_type": "stream",
     "text": [
      "Label: 0\tFamily:         allaple\tNumber of images: 362\n",
      "Label: 1\tFamily:           alman\tNumber of images: 325\n",
      "Label: 2\tFamily:          autoit\tNumber of images: 261\n",
      "Label: 3\tFamily:            daws\tNumber of images: 466\n",
      "Label: 4\tFamily:            delf\tNumber of images: 359\n",
      "Label: 5\tFamily:         gamarue\tNumber of images: 259\n",
      "Label: 6\tFamily:          ibryte\tNumber of images: 347\n",
      "Label: 7\tFamily:          loring\tNumber of images: 285\n",
      "Label: 8\tFamily:          mydoom\tNumber of images: 578\n",
      "Label: 9\tFamily:          qukart\tNumber of images: 253\n",
      "Label:10\tFamily:          ramnit\tNumber of images: 506\n",
      "Label:11\tFamily:          sality\tNumber of images: 1401\n",
      "Label:12\tFamily:          simbot\tNumber of images: 1148\n",
      "Label:13\tFamily:       softpulse\tNumber of images: 912\n",
      "Label:14\tFamily:          viking\tNumber of images: 183\n",
      "Label:15\tFamily:         virlock\tNumber of images: 373\n",
      "Label:16\tFamily:          vobfus\tNumber of images: 405\n",
      "Label:17\tFamily:          wapomi\tNumber of images: 345\n",
      "Label:18\tFamily:            zbot\tNumber of images: 863\n",
      "Label:19\tFamily:          zegost\tNumber of images: 505\n",
      "Processing images ...\n",
      "Images processed: 10136\n"
     ]
    }
   ],
   "source": [
    "cur_dir = os.getcwd()\n",
    "os.chdir(imagedir)  # the parent folder with sub-folders\n",
    "\n",
    "# Get number of samples per family\n",
    "list_fams = sorted(os.listdir(os.getcwd()), key=str.lower)  # vector of strings with family names\n",
    "no_imgs = []  # No. of samples per family\n",
    "for i in range(len(list_fams)):\n",
    "    os.chdir(list_fams[i])\n",
    "    len1 = len(glob.glob('*.png'))  # assuming the images are stored as 'png'\n",
    "    no_imgs.append(len1)\n",
    "    os.chdir('..')\n",
    "num_samples = np.sum(no_imgs)  # total number of all samples\n",
    "\n",
    "# Compute the labels\n",
    "y = np.zeros(num_samples)\n",
    "pos = 0\n",
    "label = 0\n",
    "for i in no_imgs:\n",
    "    print (\"Label:%2d\\tFamily: %15s\\tNumber of images: %d\" % (label, list_fams[label], i))\n",
    "    for j in range(i):\n",
    "        y[pos] = label\n",
    "        pos += 1\n",
    "    label += 1\n",
    "num_classes = label\n",
    "\n",
    "# Compute the features\n",
    "width, height,channels = (224,224,3)\n",
    "X = np.zeros((num_samples, width, height, channels))\n",
    "cnt = 0\n",
    "list_paths = [] # List of image paths\n",
    "print(\"Processing images ...\")\n",
    "for i in range(len(list_fams)):\n",
    "    for img_file in glob.glob(list_fams[i]+'/*.png'):\n",
    "        #print(\"[%d] Processing image: %s\" % (cnt, img_file))\n",
    "        list_paths.append(os.path.join(os.getcwd(),img_file))\n",
    "        img = image.load_img(img_file, target_size=(224, 224))\n",
    "        x = image.img_to_array(img)\n",
    "        x = np.expand_dims(x, axis=0)\n",
    "        x = preprocess_input(x)\n",
    "        X[cnt] = x\n",
    "        cnt += 1\n",
    "print(\"Images processed: %d\" %(cnt))\n",
    "\n",
    "os.chdir(cur_dir)"
   ]
  },
  {
   "cell_type": "code",
   "execution_count": 4,
   "metadata": {},
   "outputs": [
    {
     "data": {
      "text/plain": [
       "(10136, 224, 224, 3)"
      ]
     },
     "execution_count": 4,
     "metadata": {},
     "output_type": "execute_result"
    }
   ],
   "source": [
    "X.shape"
   ]
  },
  {
   "cell_type": "code",
   "execution_count": 5,
   "metadata": {
    "collapsed": true
   },
   "outputs": [],
   "source": [
    "# Creating base_model\n",
    "image_shape = (224, 224, 3)                                                                                                                                                                                                                                                                                            \n",
    "base_model = VGG19(weights='imagenet', input_shape=image_shape, include_top=False, pooling='avg')"
   ]
  },
  {
   "cell_type": "code",
   "execution_count": 6,
   "metadata": {},
   "outputs": [
    {
     "name": "stdout",
     "output_type": "stream",
     "text": [
      "Extracting bottleneck features from convolutional layers ...\n"
     ]
    }
   ],
   "source": [
    "print(\"Extracting bottleneck features from convolutional layers ...\")\n",
    "bnfeatures = base_model.predict(X)"
   ]
  },
  {
   "cell_type": "code",
   "execution_count": 7,
   "metadata": {},
   "outputs": [
    {
     "data": {
      "text/plain": [
       "(10136, 512)"
      ]
     },
     "execution_count": 7,
     "metadata": {},
     "output_type": "execute_result"
    }
   ],
   "source": [
    "bnfeatures.shape"
   ]
  },
  {
   "cell_type": "code",
   "execution_count": 8,
   "metadata": {
    "collapsed": true
   },
   "outputs": [],
   "source": [
    "bnfeatures = np.reshape(bnfeatures,(bnfeatures.shape[0],-1))"
   ]
  },
  {
   "cell_type": "code",
   "execution_count": 9,
   "metadata": {},
   "outputs": [
    {
     "data": {
      "text/plain": [
       "(10136, 512)"
      ]
     },
     "execution_count": 9,
     "metadata": {},
     "output_type": "execute_result"
    }
   ],
   "source": [
    "bnfeatures.shape"
   ]
  },
  {
   "cell_type": "code",
   "execution_count": null,
   "metadata": {
    "collapsed": true
   },
   "outputs": [],
   "source": [
    "# Create stratified k-fold subsets                                                                                                                                        \n",
    "kfold = 10  # no. of folds                                                                 \n",
    "skf = StratifiedKFold(kfold, shuffle=True,random_state=1)"
   ]
  },
  {
   "cell_type": "code",
   "execution_count": null,
   "metadata": {},
   "outputs": [
    {
     "name": "stdout",
     "output_type": "stream",
     "text": [
      "Fitting 10 folds for each of 13 candidates, totalling 130 fits\n",
      "[CV] C=0.01 ..........................................................\n",
      "[CV] C=0.01 ..........................................................\n",
      "[CV] C=0.01 ..........................................................\n",
      "[CV] C=0.01 ..........................................................\n",
      "[CV] C=0.01 ..........................................................\n",
      "[CV] C=0.01 ..........................................................\n",
      "[CV] C=0.01 ..........................................................\n",
      "[CV] C=0.01 ..........................................................\n",
      "[CV] C=0.01 ..........................................................\n",
      "[CV] C=0.01 ..........................................................\n",
      "[CV] C=0.1 ...........................................................\n",
      "[CV] C=0.1 ...........................................................\n",
      "[CV] C=0.1 ...........................................................\n",
      "[CV] C=0.1 ...........................................................\n",
      "[CV] C=0.1 ...........................................................\n",
      "[CV] C=0.1 ...........................................................\n",
      "[CV] C=0.1 ...........................................................\n",
      "[CV] C=0.1 ...........................................................\n",
      "[CV] C=0.1 ...........................................................\n",
      "[CV] C=0.1 ...........................................................\n",
      "[CV] C=1.0 ...........................................................\n",
      "[CV] C=1.0 ...........................................................\n",
      "[CV] C=1.0 ...........................................................\n",
      "[CV] C=1.0 ...........................................................\n",
      "[CV] ........................... C=0.01, score=0.933464, total= 1.8min\n",
      "[CV] C=1.0 ...........................................................\n",
      "[CV] ........................... C=0.01, score=0.906496, total= 1.9min\n",
      "[CV] C=1.0 ...........................................................\n"
     ]
    },
    {
     "name": "stderr",
     "output_type": "stream",
     "text": [
      "[Parallel(n_jobs=-1)]: Done   2 tasks      | elapsed:  1.9min\n"
     ]
    },
    {
     "name": "stdout",
     "output_type": "stream",
     "text": [
      "[CV] ........................... C=0.01, score=0.924510, total= 1.9min\n",
      "[CV] C=1.0 ...........................................................\n",
      "[CV] ........................... C=0.01, score=0.930417, total= 1.9min\n",
      "[CV] C=1.0 ...........................................................\n",
      "[CV] ........................... C=0.01, score=0.938492, total= 1.9min\n",
      "[CV] C=1.0 ...........................................................\n",
      "[CV] ........................... C=0.01, score=0.945491, total= 1.9min\n",
      "[CV] C=1.0 ...........................................................\n",
      "[CV] ........................... C=0.01, score=0.920870, total= 1.9min\n",
      "[CV] C=10.0 ..........................................................\n",
      "[CV] ........................... C=0.01, score=0.943898, total= 1.9min\n",
      "[CV] C=10.0 ..........................................................\n",
      "[CV] ........................... C=0.01, score=0.916016, total= 2.0min\n",
      "[CV] C=10.0 ..........................................................\n",
      "[CV] ........................... C=0.01, score=0.933267, total= 2.0min\n",
      "[CV] C=10.0 ..........................................................\n",
      "[CV] ............................ C=0.1, score=0.916501, total= 2.0min\n",
      "[CV] C=10.0 ..........................................................\n",
      "[CV] ............................ C=0.1, score=0.922549, total= 2.1min\n",
      "[CV] C=10.0 ..........................................................\n",
      "[CV] ............................ C=1.0, score=0.904297, total= 2.1min\n",
      "[CV] C=10.0 ..........................................................\n"
     ]
    },
    {
     "name": "stderr",
     "output_type": "stream",
     "text": [
      "[Parallel(n_jobs=-1)]: Done  13 tasks      | elapsed:  2.2min\n"
     ]
    },
    {
     "name": "stdout",
     "output_type": "stream",
     "text": [
      "[CV] ............................ C=0.1, score=0.932087, total= 2.1min\n",
      "[CV] C=10.0 ..........................................................\n",
      "[CV] ............................ C=1.0, score=0.877953, total= 2.1min\n",
      "[CV] C=10.0 ..........................................................\n",
      "[CV] ............................ C=0.1, score=0.911133, total= 2.1min\n",
      "[CV] ............................ C=1.0, score=0.909804, total= 2.1min\n",
      "[CV] ............................ C=0.1, score=0.906496, total= 2.1min\n",
      "[CV] C=10.0 ..........................................................\n",
      "[CV] C=100.0 .........................................................\n",
      "[CV] C=100.0 .........................................................\n",
      "[CV] ............................ C=0.1, score=0.928571, total= 2.1min\n",
      "[CV] C=100.0 .........................................................\n",
      "[CV] ............................ C=0.1, score=0.928571, total= 2.2min\n",
      "[CV] C=100.0 .........................................................\n",
      "[CV] ............................ C=1.0, score=0.933464, total= 2.2min\n",
      "[CV] C=100.0 .........................................................\n",
      "[CV] ............................ C=0.1, score=0.897132, total= 2.2min\n",
      "[CV] C=100.0 .........................................................\n",
      "[CV] ............................ C=0.1, score=0.934589, total= 2.2min\n",
      "[CV] C=100.0 .........................................................\n",
      "[CV] ............................ C=0.1, score=0.928287, total= 2.2min\n",
      "[CV] C=100.0 .........................................................\n"
     ]
    },
    {
     "name": "stderr",
     "output_type": "stream",
     "text": [
      "[Parallel(n_jobs=-1)]: Done  24 tasks      | elapsed:  2.3min\n"
     ]
    },
    {
     "name": "stdout",
     "output_type": "stream",
     "text": [
      "[CV] ............................ C=1.0, score=0.924213, total= 2.0min\n",
      "[CV] C=100.0 .........................................................\n",
      "[CV] ........................... C=10.0, score=0.911133, total= 2.1min\n",
      "[CV] C=100.0 .........................................................\n",
      "[CV] ............................ C=1.0, score=0.926660, total= 2.2min\n",
      "[CV] C=1000.0 ........................................................\n",
      "[CV] ............................ C=1.0, score=0.914513, total= 2.2min\n",
      "[CV] C=1000.0 ........................................................\n",
      "[CV] ............................ C=1.0, score=0.909001, total= 2.2min\n",
      "[CV] C=1000.0 ........................................................\n",
      "[CV] ............................ C=1.0, score=0.926587, total= 2.2min\n",
      "[CV] C=1000.0 ........................................................\n",
      "[CV] ........................... C=10.0, score=0.934442, total= 2.2min\n",
      "[CV] C=1000.0 ........................................................\n",
      "[CV] ........................... C=10.0, score=0.907843, total= 2.2min\n",
      "[CV] C=1000.0 ........................................................\n",
      "[CV] ............................ C=1.0, score=0.926295, total= 2.2min\n",
      "[CV] C=1000.0 ........................................................\n",
      "[CV] ........................... C=10.0, score=0.929134, total= 2.1min\n",
      "[CV] ........................... C=10.0, score=0.890748, total= 2.2min\n",
      "[CV] C=1000.0 ........................................................\n",
      "[CV] C=1000.0 ........................................................\n",
      "[CV] ........................... C=10.0, score=0.909990, total= 2.1min\n",
      "[CV] C=1000.0 ........................................................\n",
      "[CV] ........................... C=10.0, score=0.920477, total= 2.1min\n",
      "[CV] C=10000.0 .......................................................\n"
     ]
    },
    {
     "name": "stderr",
     "output_type": "stream",
     "text": [
      "[Parallel(n_jobs=-1)]: Done  37 tasks      | elapsed:  4.3min\n"
     ]
    },
    {
     "name": "stdout",
     "output_type": "stream",
     "text": [
      "[CV] .......................... C=100.0, score=0.909180, total= 2.1min\n",
      "[CV] C=10000.0 .......................................................\n",
      "[CV] ........................... C=10.0, score=0.930624, total= 2.1min\n",
      "[CV] C=10000.0 .......................................................\n",
      "[CV] .......................... C=100.0, score=0.917323, total= 2.1min\n",
      "[CV] C=10000.0 .......................................................\n",
      "[CV] ........................... C=10.0, score=0.922619, total= 2.2min\n",
      "[CV] C=10000.0 .......................................................\n",
      "[CV] .......................... C=100.0, score=0.921722, total= 2.2min\n",
      "[CV] C=10000.0 .......................................................\n",
      "[CV] .......................... C=100.0, score=0.925490, total= 2.2min\n",
      "[CV] C=10000.0 .......................................................\n",
      "[CV] .......................... C=100.0, score=0.897638, total= 2.2min\n",
      "[CV] C=10000.0 .......................................................\n",
      "[CV] .......................... C=100.0, score=0.904055, total= 2.2min\n",
      "[CV] C=10000.0 .......................................................\n",
      "[CV] ........................... C=10.0, score=0.907371, total= 2.3min\n",
      "[CV] C=10000.0 .......................................................\n",
      "[CV] .......................... C=100.0, score=0.932607, total= 2.2min\n",
      "[CV] C=100000.0 ......................................................\n",
      "[CV] .......................... C=100.0, score=0.933532, total= 2.2min\n",
      "[CV] C=100000.0 ......................................................\n",
      "[CV] .......................... C=100.0, score=0.911531, total= 2.1min\n",
      "[CV] C=100000.0 ......................................................\n",
      "[CV] .......................... C=100.0, score=0.916335, total= 2.1min\n",
      "[CV] ......................... C=1000.0, score=0.888672, total= 2.1min\n",
      "[CV] C=100000.0 ......................................................\n",
      "[CV] C=100000.0 ......................................................\n"
     ]
    },
    {
     "name": "stderr",
     "output_type": "stream",
     "text": [
      "[Parallel(n_jobs=-1)]: Done  50 tasks      | elapsed:  6.2min\n"
     ]
    },
    {
     "name": "stdout",
     "output_type": "stream",
     "text": [
      "[CV] ......................... C=1000.0, score=0.919608, total= 2.1min\n",
      "[CV] C=100000.0 ......................................................\n",
      "[CV] ......................... C=1000.0, score=0.879921, total= 2.2min\n",
      "[CV] C=100000.0 ......................................................\n",
      "[CV] ......................... C=1000.0, score=0.912916, total= 2.2min\n",
      "[CV] C=100000.0 ......................................................\n",
      "[CV] ......................... C=1000.0, score=0.928150, total= 2.2min\n",
      "[CV] C=100000.0 ......................................................\n",
      "[CV] ......................... C=1000.0, score=0.887897, total= 2.1min\n",
      "[CV] C=100000.0 ......................................................\n",
      "[CV] ......................... C=1000.0, score=0.924303, total= 2.1min\n",
      "[CV] C=1000000.0 .....................................................\n",
      "[CV] ........................ C=10000.0, score=0.924510, total= 2.1min\n",
      "[CV] C=1000000.0 .....................................................\n",
      "[CV] ......................... C=1000.0, score=0.923459, total= 2.2min\n",
      "[CV] C=1000000.0 .....................................................\n",
      "[CV] ........................ C=10000.0, score=0.911133, total= 2.1min\n",
      "[CV] C=1000000.0 .....................................................\n",
      "[CV] ......................... C=1000.0, score=0.907023, total= 2.2min\n",
      "[CV] C=1000000.0 .....................................................\n",
      "[CV] ......................... C=1000.0, score=0.922696, total= 2.2min\n",
      "[CV] C=1000000.0 .....................................................\n",
      "[CV] ........................ C=10000.0, score=0.879921, total= 2.1min\n",
      "[CV] ........................ C=10000.0, score=0.912916, total= 2.2min\n",
      "[CV] C=1000000.0 .....................................................\n",
      "[CV] C=1000000.0 .....................................................\n",
      "[CV] ........................ C=10000.0, score=0.929134, total= 2.2min\n",
      "[CV] C=1000000.0 .....................................................\n"
     ]
    },
    {
     "name": "stderr",
     "output_type": "stream",
     "text": [
      "[Parallel(n_jobs=-1)]: Done  65 tasks      | elapsed:  6.6min\n"
     ]
    },
    {
     "name": "stdout",
     "output_type": "stream",
     "text": [
      "[CV] ........................ C=10000.0, score=0.894841, total= 2.2min\n",
      "[CV] C=1000000.0 .....................................................\n",
      "[CV] ........................ C=10000.0, score=0.908012, total= 2.2min\n",
      "[CV] C=10000000.0 ....................................................\n",
      "[CV] ........................ C=10000.0, score=0.922696, total= 2.2min\n",
      "[CV] C=10000000.0 ....................................................\n",
      "[CV] ........................ C=10000.0, score=0.923459, total= 2.2min\n",
      "[CV] C=10000000.0 ....................................................\n",
      "[CV] ....................... C=100000.0, score=0.911133, total= 2.1min\n",
      "[CV] C=10000000.0 ....................................................\n",
      "[CV] ........................ C=10000.0, score=0.914343, total= 2.3min\n",
      "[CV] C=10000000.0 ....................................................\n",
      "[CV] ....................... C=100000.0, score=0.912916, total= 2.2min\n",
      "[CV] C=10000000.0 ....................................................\n"
     ]
    }
   ],
   "source": [
    "# Training top_model\n",
    "C_range = np.logspace(-2, 10, 13)\n",
    "param_grid = dict(C=C_range)\n",
    "\n",
    "top_model = GridSearchCV(svm.LinearSVC(), param_grid=param_grid, cv=skf, verbose=10, n_jobs=-1)\n",
    "top_model.fit(bnfeatures,y)  # Training "
   ]
  },
  {
   "cell_type": "code",
   "execution_count": 15,
   "metadata": {},
   "outputs": [
    {
     "data": {
      "text/plain": [
       "{'mean_fit_time': array([115.3173564 , 129.08191085, 128.73255148, 129.56497047,\n",
       "        130.10511367, 129.4792789 , 129.71932068, 127.35410295,\n",
       "        121.47013018, 109.24742823,  77.60421741,  85.39110956,\n",
       "         53.00868065]),\n",
       " 'mean_score_time': array([0.03301179, 0.03239067, 0.02518015, 0.02128386, 0.01886697,\n",
       "        0.02005999, 0.01957543, 0.01820817, 0.01483808, 0.01480372,\n",
       "        0.01141346, 0.00817463, 0.00559726]),\n",
       " 'mean_test_score': array([0.92926204, 0.92058011, 0.91525257, 0.91643646, 0.91692976,\n",
       "        0.90943173, 0.9120955 , 0.90943173, 0.91436464, 0.91475927,\n",
       "        0.91268745, 0.91308208, 0.90765588]),\n",
       " 'mean_train_score': array([0.97523691, 0.97752866, 0.97381103, 0.97528203, 0.97751848,\n",
       "        0.96778137, 0.96931972, 0.96869306, 0.9743695 , 0.97492836,\n",
       "        0.9737033 , 0.97470001, 0.96353238]),\n",
       " 'param_C': masked_array(data=[0.01, 0.1, 1.0, 10.0, 100.0, 1000.0, 10000.0, 100000.0,\n",
       "                    1000000.0, 10000000.0, 100000000.0, 1000000000.0,\n",
       "                    10000000000.0],\n",
       "              mask=[False, False, False, False, False, False, False, False,\n",
       "                    False, False, False, False, False],\n",
       "        fill_value='?',\n",
       "             dtype=object),\n",
       " 'params': ({'C': 0.01},\n",
       "  {'C': 0.1},\n",
       "  {'C': 1.0},\n",
       "  {'C': 10.0},\n",
       "  {'C': 100.0},\n",
       "  {'C': 1000.0},\n",
       "  {'C': 10000.0},\n",
       "  {'C': 100000.0},\n",
       "  {'C': 1000000.0},\n",
       "  {'C': 10000000.0},\n",
       "  {'C': 100000000.0},\n",
       "  {'C': 1000000000.0},\n",
       "  {'C': 10000000000.0}),\n",
       " 'rank_test_score': array([ 1,  2,  5,  4,  3, 11, 10, 11,  7,  6,  9,  8, 13], dtype=int32),\n",
       " 'split0_test_score': array([0.91601562, 0.91113281, 0.90429688, 0.91113281, 0.90917969,\n",
       "        0.88867188, 0.91113281, 0.91113281, 0.90917969, 0.90039062,\n",
       "        0.91113281, 0.91113281, 0.90234375]),\n",
       " 'split0_train_score': array([0.97552678, 0.97936787, 0.97794118, 0.98375768, 0.9833187 ,\n",
       "        0.95588235, 0.98255048, 0.98255048, 0.97991659, 0.97519754,\n",
       "        0.97662423, 0.97662423, 0.97135645]),\n",
       " 'split1_test_score': array([0.9334638 , 0.92857143, 0.9334638 , 0.93444227, 0.92172211,\n",
       "        0.91291585, 0.91291585, 0.91291585, 0.93444227, 0.93444227,\n",
       "        0.9295499 , 0.9295499 , 0.9148728 ]),\n",
       " 'split1_train_score': array([0.97564187, 0.97860434, 0.9835418 , 0.98430985, 0.97575159,\n",
       "        0.96039061, 0.96039061, 0.96039061, 0.98255431, 0.97981128,\n",
       "        0.98409041, 0.98409041, 0.95117402]),\n",
       " 'split2_test_score': array([0.9245098 , 0.92254902, 0.90980392, 0.90784314, 0.9254902 ,\n",
       "        0.91960784, 0.9245098 , 0.91960784, 0.90392157, 0.92058824,\n",
       "        0.9127451 , 0.9127451 , 0.90588235]),\n",
       " 'split2_train_score': array([0.97531812, 0.98036419, 0.9800351 , 0.96259324, 0.98244844,\n",
       "        0.98442299, 0.97970601, 0.98266784, 0.9681878 , 0.98310663,\n",
       "        0.976086  , 0.976086  , 0.97180781]),\n",
       " 'split3_test_score': array([0.90649606, 0.90649606, 0.87795276, 0.89074803, 0.8976378 ,\n",
       "        0.87992126, 0.87992126, 0.8976378 , 0.8976378 , 0.89173228,\n",
       "        0.9015748 , 0.9015748 , 0.89862205]),\n",
       " 'split3_train_score': array([0.97532895, 0.98278509, 0.93815789, 0.97269737, 0.98475877,\n",
       "        0.96129386, 0.96129386, 0.97828947, 0.97828947, 0.97379386,\n",
       "        0.98453947, 0.98453947, 0.98201754]),\n",
       " 'split4_test_score': array([0.94389764, 0.93208661, 0.9242126 , 0.92913386, 0.91732283,\n",
       "        0.92814961, 0.92913386, 0.89074803, 0.89074803, 0.89370079,\n",
       "        0.89173228, 0.89173228, 0.92716535]),\n",
       " 'split4_train_score': array([0.97510965, 0.98015351, 0.96842105, 0.97269737, 0.96447368,\n",
       "        0.97609649, 0.97609649, 0.93629386, 0.93629386, 0.93859649,\n",
       "        0.94429825, 0.94429825, 0.97839912]),\n",
       " 'split5_test_score': array([0.92087043, 0.89713155, 0.90900099, 0.90999011, 0.90405539,\n",
       "        0.90702275, 0.90801187, 0.91196835, 0.90801187, 0.90999011,\n",
       "        0.90306627, 0.90306627, 0.86547972]),\n",
       " 'split5_train_score': array([0.97512329, 0.95736986, 0.97841096, 0.98312329, 0.97950685,\n",
       "        0.9820274 , 0.98191781, 0.98356164, 0.98312329, 0.98487671,\n",
       "        0.98093151, 0.98093151, 0.90969863]),\n",
       " 'split6_test_score': array([0.94549058, 0.9345887 , 0.92666006, 0.93062438, 0.93260654,\n",
       "        0.92269574, 0.92269574, 0.88800793, 0.93756194, 0.93062438,\n",
       "        0.92666006, 0.92666006, 0.92666006]),\n",
       " 'split6_train_score': array([0.97512874, 0.98049743, 0.97721047, 0.97677221, 0.9824696 ,\n",
       "        0.97140353, 0.97140353, 0.93031664, 0.9824696 , 0.97896351,\n",
       "        0.9752383 , 0.9752383 , 0.97666265]),\n",
       " 'split7_test_score': array([0.93849206, 0.92857143, 0.9265873 , 0.92261905, 0.93353175,\n",
       "        0.88789683, 0.89484127, 0.92361111, 0.92361111, 0.92162698,\n",
       "        0.92162698, 0.92162698, 0.92757937]),\n",
       " 'split7_train_score': array([0.97524102, 0.97973269, 0.98225241, 0.97359772, 0.98411481,\n",
       "        0.92473707, 0.93109115, 0.98028046, 0.98028046, 0.97228309,\n",
       "        0.97228309, 0.97228309, 0.98521034]),\n",
       " 'split8_test_score': array([0.9304175 , 0.91650099, 0.91451292, 0.92047714, 0.91153082,\n",
       "        0.92345924, 0.92345924, 0.92147117, 0.92147117, 0.92047714,\n",
       "        0.91451292, 0.91848907, 0.92246521]),\n",
       " 'split8_train_score': array([0.97491785, 0.97524644, 0.9686747 , 0.97787514, 0.97097481,\n",
       "        0.98017525, 0.98017525, 0.97864184, 0.97864184, 0.98050383,\n",
       "        0.97196057, 0.98192771, 0.98138007]),\n",
       " 'split9_test_score': array([0.93326693, 0.92828685, 0.92629482, 0.90737052, 0.91633466,\n",
       "        0.92430279, 0.91434263, 0.91733068, 0.91733068, 0.92430279,\n",
       "        0.91434263, 0.91434263, 0.88545817]),\n",
       " 'split9_train_score': array([0.97503285, 0.98116513, 0.98346474, 0.96539641, 0.9673675 ,\n",
       "        0.98138414, 0.96857205, 0.9739378 , 0.9739378 , 0.98215068,\n",
       "        0.97098117, 0.97098117, 0.92761717]),\n",
       " 'std_fit_time': array([ 2.58692098,  3.19366487,  3.36840669,  2.85526059,  3.16514163,\n",
       "         3.088833  ,  3.1742692 ,  4.05573934,  7.57429731, 21.41266338,\n",
       "        10.45433935,  3.02165384,  4.15530512]),\n",
       " 'std_score_time': array([0.01251257, 0.01358698, 0.01318718, 0.00922672, 0.00933522,\n",
       "        0.00856532, 0.00875161, 0.01000578, 0.00617004, 0.00719252,\n",
       "        0.00228967, 0.00336253, 0.00169793]),\n",
       " 'std_test_score': array([0.0117744 , 0.01171593, 0.01542135, 0.01276774, 0.01115415,\n",
       "        0.0168298 , 0.01429353, 0.01215576, 0.01450056, 0.01432558,\n",
       "        0.01106914, 0.01119732, 0.01944684]),\n",
       " 'std_train_score': array([0.0002115 , 0.00696836, 0.01293921, 0.00706185, 0.00708165,\n",
       "        0.01729713, 0.01488582, 0.01884842, 0.01340416, 0.01271845,\n",
       "        0.01082242, 0.01107212, 0.02448265])}"
      ]
     },
     "execution_count": 15,
     "metadata": {},
     "output_type": "execute_result"
    }
   ],
   "source": [
    "top_model.cv_results_"
   ]
  },
  {
   "cell_type": "code",
   "execution_count": 16,
   "metadata": {},
   "outputs": [
    {
     "name": "stderr",
     "output_type": "stream",
     "text": [
      "/usr/local/lib/python3.5/dist-packages/sklearn/model_selection/_search.py:667: DeprecationWarning: The grid_scores_ attribute was deprecated in version 0.18 in favor of the more elaborate cv_results_ attribute. The grid_scores_ attribute will not be available from 0.20\n",
      "  DeprecationWarning)\n"
     ]
    },
    {
     "data": {
      "text/plain": [
       "[mean: 0.92926, std: 0.01177, params: {'C': 0.01},\n",
       " mean: 0.92058, std: 0.01172, params: {'C': 0.1},\n",
       " mean: 0.91525, std: 0.01540, params: {'C': 1.0},\n",
       " mean: 0.91644, std: 0.01275, params: {'C': 10.0},\n",
       " mean: 0.91693, std: 0.01116, params: {'C': 100.0},\n",
       " mean: 0.90943, std: 0.01683, params: {'C': 1000.0},\n",
       " mean: 0.91210, std: 0.01429, params: {'C': 10000.0},\n",
       " mean: 0.90943, std: 0.01217, params: {'C': 100000.0},\n",
       " mean: 0.91436, std: 0.01449, params: {'C': 1000000.0},\n",
       " mean: 0.91476, std: 0.01431, params: {'C': 10000000.0},\n",
       " mean: 0.91269, std: 0.01106, params: {'C': 100000000.0},\n",
       " mean: 0.91308, std: 0.01119, params: {'C': 1000000000.0},\n",
       " mean: 0.90766, std: 0.01948, params: {'C': 10000000000.0}]"
      ]
     },
     "execution_count": 16,
     "metadata": {},
     "output_type": "execute_result"
    }
   ],
   "source": [
    "top_model.grid_scores_"
   ]
  },
  {
   "cell_type": "code",
   "execution_count": 17,
   "metadata": {},
   "outputs": [
    {
     "name": "stdout",
     "output_type": "stream",
     "text": [
      "Best parameters: {'C': 0.01} - score: 0.9293\n"
     ]
    }
   ],
   "source": [
    "print(\"Best parameters: %s - score: %0.4f\" % (top_model.best_params_, top_model.best_score_))"
   ]
  }
 ],
 "metadata": {
  "kernelspec": {
   "display_name": "Python 3",
   "language": "python",
   "name": "python3"
  },
  "language_info": {
   "codemirror_mode": {
    "name": "ipython",
    "version": 3
   },
   "file_extension": ".py",
   "mimetype": "text/x-python",
   "name": "python",
   "nbconvert_exporter": "python",
   "pygments_lexer": "ipython3",
   "version": "3.5.2"
  }
 },
 "nbformat": 4,
 "nbformat_minor": 2
}
