{
 "cells": [
  {
   "cell_type": "code",
   "execution_count": 1,
   "metadata": {},
   "outputs": [
    {
     "name": "stderr",
     "output_type": "stream",
     "text": [
      "Using TensorFlow backend.\n"
     ]
    }
   ],
   "source": [
    "import numpy as np\n",
    "np.random.seed(1)\n",
    "\n",
    "import os\n",
    "import os.path\n",
    "import glob\n",
    "import matplotlib.pyplot as plt\n",
    "\n",
    "from sklearn.model_selection import StratifiedKFold                                                                                                                       \n",
    "from sklearn.metrics import confusion_matrix,accuracy_score\n",
    "from sklearn.neighbors import KNeighborsClassifier\n",
    "\n",
    "from keras.preprocessing.image import img_to_array\n",
    "from keras.preprocessing import image\n",
    "\n",
    "from PIL import Image as pil_image"
   ]
  },
  {
   "cell_type": "code",
   "execution_count": 2,
   "metadata": {
    "collapsed": true
   },
   "outputs": [],
   "source": [
    "imagedir = \"Datasets/ByFamilyImagesWidth\""
   ]
  },
  {
   "cell_type": "code",
   "execution_count": 3,
   "metadata": {},
   "outputs": [
    {
     "name": "stdout",
     "output_type": "stream",
     "text": [
      "Label: 0\tFamily:         allaple\tNumber of images: 362\n",
      "Label: 1\tFamily:           alman\tNumber of images: 325\n",
      "Label: 2\tFamily:          autoit\tNumber of images: 261\n",
      "Label: 3\tFamily:            daws\tNumber of images: 466\n",
      "Label: 4\tFamily:            delf\tNumber of images: 359\n",
      "Label: 5\tFamily:         gamarue\tNumber of images: 259\n",
      "Label: 6\tFamily:          ibryte\tNumber of images: 347\n",
      "Label: 7\tFamily:          loring\tNumber of images: 285\n",
      "Label: 8\tFamily:          mydoom\tNumber of images: 578\n",
      "Label: 9\tFamily:          qukart\tNumber of images: 253\n",
      "Label:10\tFamily:          ramnit\tNumber of images: 506\n",
      "Label:11\tFamily:          sality\tNumber of images: 1401\n",
      "Label:12\tFamily:          simbot\tNumber of images: 1148\n",
      "Label:13\tFamily:       softpulse\tNumber of images: 912\n",
      "Label:14\tFamily:          viking\tNumber of images: 183\n",
      "Label:15\tFamily:         virlock\tNumber of images: 373\n",
      "Label:16\tFamily:          vobfus\tNumber of images: 405\n",
      "Label:17\tFamily:          wapomi\tNumber of images: 345\n",
      "Label:18\tFamily:            zbot\tNumber of images: 863\n",
      "Label:19\tFamily:          zegost\tNumber of images: 505\n",
      "Processing images ...\n",
      "Images processed: 10136\n"
     ]
    }
   ],
   "source": [
    "cur_dir = os.getcwd()\n",
    "os.chdir(imagedir)  # the parent folder with sub-folders\n",
    "\n",
    "# Get number of samples per family\n",
    "list_fams = sorted(os.listdir(os.getcwd()), key=str.lower)  # vector of strings with family names\n",
    "no_imgs = []  # No. of samples per family\n",
    "for i in range(len(list_fams)):\n",
    "    os.chdir(list_fams[i])\n",
    "    len1 = len(glob.glob('*.png'))  # assuming the images are stored as 'png'\n",
    "    no_imgs.append(len1)\n",
    "    os.chdir('..')\n",
    "num_samples = np.sum(no_imgs)  # total number of all samples\n",
    "\n",
    "# Compute the labels\n",
    "y = np.zeros(num_samples)\n",
    "pos = 0\n",
    "label = 0\n",
    "for i in no_imgs:\n",
    "    print (\"Label:%2d\\tFamily: %15s\\tNumber of images: %d\" % (label, list_fams[label], i))\n",
    "    for j in range(i):\n",
    "        y[pos] = label\n",
    "        pos += 1\n",
    "    label += 1\n",
    "num_classes = label\n",
    "\n",
    "# Compute the features\n",
    "width, height,channels = (224,224,3)\n",
    "X = np.zeros((num_samples, width, height, channels))\n",
    "cnt = 0\n",
    "print(\"Processing images ...\")\n",
    "for i in range(len(list_fams)):\n",
    "    for img_file in image.list_pictures(list_fams[i], ext='jpg|jpeg|bmp|png'):\n",
    "        #print(\"[%d] Processing image: %s\" % (cnt, img_file))\n",
    "        img = image.load_img(img_file, target_size=(224, 224))\n",
    "        x = image.img_to_array(img)\n",
    "        x = np.expand_dims(x, axis=0)\n",
    "        X[cnt] = x\n",
    "        cnt += 1\n",
    "print(\"Images processed: %d\" %(cnt))\n",
    "\n",
    "os.chdir(cur_dir)"
   ]
  },
  {
   "cell_type": "code",
   "execution_count": 4,
   "metadata": {},
   "outputs": [
    {
     "data": {
      "text/plain": [
       "(10136, 224, 224, 3)"
      ]
     },
     "execution_count": 4,
     "metadata": {},
     "output_type": "execute_result"
    }
   ],
   "source": [
    "X.shape"
   ]
  },
  {
   "cell_type": "code",
   "execution_count": 5,
   "metadata": {},
   "outputs": [
    {
     "data": {
      "text/plain": [
       "array([[[[  77.,   77.,   77.],\n",
       "         [  90.,   90.,   90.],\n",
       "         [ 144.,  144.,  144.],\n",
       "         ..., \n",
       "         [   0.,    0.,    0.],\n",
       "         [   0.,    0.,    0.],\n",
       "         [   0.,    0.,    0.]],\n",
       "\n",
       "        [[   0.,    0.,    0.],\n",
       "         [ 112.,  112.,  112.],\n",
       "         [   2.,    2.,    2.],\n",
       "         ..., \n",
       "         [   0.,    0.,    0.],\n",
       "         [   0.,    0.,    0.],\n",
       "         [   0.,    0.,    0.]],\n",
       "\n",
       "        [[   0.,    0.,    0.],\n",
       "         [  24.,   24.,   24.],\n",
       "         [   1.,    1.,    1.],\n",
       "         ..., \n",
       "         [   0.,    0.,    0.],\n",
       "         [   0.,    0.,    0.],\n",
       "         [   0.,    0.,    0.]],\n",
       "\n",
       "        ..., \n",
       "        [[ 161.,  161.,  161.],\n",
       "         [  32.,   32.,   32.],\n",
       "         [  82.,   82.,   82.],\n",
       "         ..., \n",
       "         [ 218.,  218.,  218.],\n",
       "         [   8.,    8.,    8.],\n",
       "         [ 230.,  230.,  230.]],\n",
       "\n",
       "        [[  49.,   49.,   49.],\n",
       "         [  22.,   22.,   22.],\n",
       "         [ 197.,  197.,  197.],\n",
       "         ..., \n",
       "         [ 179.,  179.,  179.],\n",
       "         [  65.,   65.,   65.],\n",
       "         [ 191.,  191.,  191.]],\n",
       "\n",
       "        [[  27.,   27.,   27.],\n",
       "         [ 167.,  167.,  167.],\n",
       "         [  77.,   77.,   77.],\n",
       "         ..., \n",
       "         [  30.,   30.,   30.],\n",
       "         [ 168.,  168.,  168.],\n",
       "         [ 195.,  195.,  195.]]],\n",
       "\n",
       "\n",
       "       [[[  77.,   77.,   77.],\n",
       "         [ 144.,  144.,  144.],\n",
       "         [   3.,    3.,    3.],\n",
       "         ..., \n",
       "         [   0.,    0.,    0.],\n",
       "         [   0.,    0.,    0.],\n",
       "         [   0.,    0.,    0.]],\n",
       "\n",
       "        [[   0.,    0.,    0.],\n",
       "         [   0.,    0.,    0.],\n",
       "         [   0.,    0.,    0.],\n",
       "         ..., \n",
       "         [  19.,   19.,   19.],\n",
       "         [ 224.,  224.,  224.],\n",
       "         [ 218.,  218.,  218.]],\n",
       "\n",
       "        [[ 189.,  189.,  189.],\n",
       "         [ 203.,  203.,  203.],\n",
       "         [  86.,   86.,   86.],\n",
       "         ..., \n",
       "         [  31.,   31.,   31.],\n",
       "         [  43.,   43.,   43.],\n",
       "         [ 253.,  253.,  253.]],\n",
       "\n",
       "        ..., \n",
       "        [[ 196.,  196.,  196.],\n",
       "         [  47.,   47.,   47.],\n",
       "         [ 136.,  136.,  136.],\n",
       "         ..., \n",
       "         [ 156.,  156.,  156.],\n",
       "         [ 246.,  246.,  246.],\n",
       "         [ 144.,  144.,  144.]],\n",
       "\n",
       "        [[ 225.,  225.,  225.],\n",
       "         [ 142.,  142.,  142.],\n",
       "         [  48.,   48.,   48.],\n",
       "         ..., \n",
       "         [ 252.,  252.,  252.],\n",
       "         [  45.,   45.,   45.],\n",
       "         [  46.,   46.,   46.]],\n",
       "\n",
       "        [[ 234.,  234.,  234.],\n",
       "         [   0.,    0.,    0.],\n",
       "         [  58.,   58.,   58.],\n",
       "         ..., \n",
       "         [  13.,   13.,   13.],\n",
       "         [ 243.,  243.,  243.],\n",
       "         [  76.,   76.,   76.]]],\n",
       "\n",
       "\n",
       "       [[[  77.,   77.,   77.],\n",
       "         [  90.,   90.,   90.],\n",
       "         [ 144.,  144.,  144.],\n",
       "         ..., \n",
       "         [   0.,    0.,    0.],\n",
       "         [   0.,    0.,    0.],\n",
       "         [   0.,    0.,    0.]],\n",
       "\n",
       "        [[   0.,    0.,    0.],\n",
       "         [ 112.,  112.,  112.],\n",
       "         [   2.,    2.,    2.],\n",
       "         ..., \n",
       "         [   0.,    0.,    0.],\n",
       "         [   0.,    0.,    0.],\n",
       "         [   0.,    0.,    0.]],\n",
       "\n",
       "        [[   0.,    0.,    0.],\n",
       "         [  24.,   24.,   24.],\n",
       "         [   1.,    1.,    1.],\n",
       "         ..., \n",
       "         [   0.,    0.,    0.],\n",
       "         [   0.,    0.,    0.],\n",
       "         [   0.,    0.,    0.]],\n",
       "\n",
       "        ..., \n",
       "        [[  82.,   82.,   82.],\n",
       "         [ 152.,  152.,  152.],\n",
       "         [ 178.,  178.,  178.],\n",
       "         ..., \n",
       "         [ 248.,  248.,  248.],\n",
       "         [  34.,   34.,   34.],\n",
       "         [ 191.,  191.,  191.]],\n",
       "\n",
       "        [[ 123.,  123.,  123.],\n",
       "         [ 242.,  242.,  242.],\n",
       "         [ 199.,  199.,  199.],\n",
       "         ..., \n",
       "         [ 163.,  163.,  163.],\n",
       "         [ 215.,  215.,  215.],\n",
       "         [  64.,   64.,   64.]],\n",
       "\n",
       "        [[ 162.,  162.,  162.],\n",
       "         [  98.,   98.,   98.],\n",
       "         [ 195.,  195.,  195.],\n",
       "         ..., \n",
       "         [  19.,   19.,   19.],\n",
       "         [ 232.,  232.,  232.],\n",
       "         [ 200.,  200.,  200.]]],\n",
       "\n",
       "\n",
       "       ..., \n",
       "       [[[   0.,    0.,    0.],\n",
       "         [   0.,    0.,    0.],\n",
       "         [   0.,    0.,    0.],\n",
       "         ..., \n",
       "         [   0.,    0.,    0.],\n",
       "         [   0.,    0.,    0.],\n",
       "         [   0.,    0.,    0.]],\n",
       "\n",
       "        [[   0.,    0.,    0.],\n",
       "         [   0.,    0.,    0.],\n",
       "         [   0.,    0.,    0.],\n",
       "         ..., \n",
       "         [  94.,   94.,   94.],\n",
       "         [   0.,    0.,    0.],\n",
       "         [  12.,   12.,   12.]],\n",
       "\n",
       "        [[ 118.,  118.,  118.],\n",
       "         [  21.,   21.,   21.],\n",
       "         [  70.,   70.,   70.],\n",
       "         ..., \n",
       "         [ 144.,  144.,  144.],\n",
       "         [ 144.,  144.,  144.],\n",
       "         [ 144.,  144.,  144.]],\n",
       "\n",
       "        ..., \n",
       "        [[  50.,   50.,   50.],\n",
       "         [  57.,   57.,   57.],\n",
       "         [  68.,   68.,   68.],\n",
       "         ..., \n",
       "         [  65.,   65.,   65.],\n",
       "         [ 103.,  103.,  103.],\n",
       "         [ 106.,  106.,  106.]],\n",
       "\n",
       "        [[  50.,   50.,   50.],\n",
       "         [  56.,   56.,   56.],\n",
       "         [  68.,   68.,   68.],\n",
       "         ..., \n",
       "         [  65.,   65.,   65.],\n",
       "         [ 103.,  103.,  103.],\n",
       "         [ 106.,  106.,  106.]],\n",
       "\n",
       "        [[ 101.,  101.,  101.],\n",
       "         [ 100.,  100.,  100.],\n",
       "         [  48.,   48.,   48.],\n",
       "         ..., \n",
       "         [  54.,   54.,   54.],\n",
       "         [  54.,   54.,   54.],\n",
       "         [ 103.,  103.,  103.]]],\n",
       "\n",
       "\n",
       "       [[[   0.,    0.,    0.],\n",
       "         [   0.,    0.,    0.],\n",
       "         [   0.,    0.,    0.],\n",
       "         ..., \n",
       "         [   0.,    0.,    0.],\n",
       "         [   0.,    0.,    0.],\n",
       "         [   0.,    0.,    0.]],\n",
       "\n",
       "        [[   0.,    0.,    0.],\n",
       "         [   0.,    0.,    0.],\n",
       "         [  11.,   11.,   11.],\n",
       "         ..., \n",
       "         [   0.,    0.,    0.],\n",
       "         [   0.,    0.,    0.],\n",
       "         [   0.,    0.,    0.]],\n",
       "\n",
       "        [[   7.,    7.,    7.],\n",
       "         [   7.,    7.,    7.],\n",
       "         [ 136.,  136.,  136.],\n",
       "         ..., \n",
       "         [   0.,    0.,    0.],\n",
       "         [ 204.,  204.,  204.],\n",
       "         [ 204.,  204.,  204.]],\n",
       "\n",
       "        ..., \n",
       "        [[ 103.,  103.,  103.],\n",
       "         [ 101.,  101.,  101.],\n",
       "         [  55.,   55.,   55.],\n",
       "         ..., \n",
       "         [  51.,   51.,   51.],\n",
       "         [  52.,   52.,   52.],\n",
       "         [ 115.,  115.,  115.]],\n",
       "\n",
       "        [[ 103.,  103.,  103.],\n",
       "         [ 101.,  101.,  101.],\n",
       "         [  49.,   49.,   49.],\n",
       "         ..., \n",
       "         [  52.,   52.,   52.],\n",
       "         [  49.,   49.,   49.],\n",
       "         [ 115.,  115.,  115.]],\n",
       "\n",
       "        [[ 103.,  103.,  103.],\n",
       "         [ 101.,  101.,  101.],\n",
       "         [  54.,   54.,   54.],\n",
       "         ..., \n",
       "         [  52.,   52.,   52.],\n",
       "         [  54.,   54.,   54.],\n",
       "         [ 115.,  115.,  115.]]],\n",
       "\n",
       "\n",
       "       [[[   0.,    0.,    0.],\n",
       "         [   0.,    0.,    0.],\n",
       "         [   0.,    0.,    0.],\n",
       "         ..., \n",
       "         [   0.,    0.,    0.],\n",
       "         [   0.,    0.,    0.],\n",
       "         [   0.,    0.,    0.]],\n",
       "\n",
       "        [[  64.,   64.,   64.],\n",
       "         [  88.,   88.,   88.],\n",
       "         [  93.,   93.,   93.],\n",
       "         ..., \n",
       "         [   0.,    0.,    0.],\n",
       "         [  10.,   10.,   10.],\n",
       "         [  10.,   10.,   10.]],\n",
       "\n",
       "        [[   0.,    0.,    0.],\n",
       "         [   0.,    0.,    0.],\n",
       "         [  32.,   32.,   32.],\n",
       "         ..., \n",
       "         [   0.,    0.,    0.],\n",
       "         [   5.,    5.,    5.],\n",
       "         [   5.,    5.,    5.]],\n",
       "\n",
       "        ..., \n",
       "        [[  48.,   48.,   48.],\n",
       "         [ 103.,  103.,  103.],\n",
       "         [ 112.,  112.,  112.],\n",
       "         ..., \n",
       "         [ 103.,  103.,  103.],\n",
       "         [ 100.,  100.,  100.],\n",
       "         [  51.,   51.,   51.]],\n",
       "\n",
       "        [[  57.,   57.,   57.],\n",
       "         [ 103.,  103.,  103.],\n",
       "         [ 112.,  112.,  112.],\n",
       "         ..., \n",
       "         [ 103.,  103.,  103.],\n",
       "         [ 100.,  100.,  100.],\n",
       "         [  54.,   54.,   54.]],\n",
       "\n",
       "        [[  49.,   49.,   49.],\n",
       "         [ 103.,  103.,  103.],\n",
       "         [ 112.,  112.,  112.],\n",
       "         ..., \n",
       "         [ 103.,  103.,  103.],\n",
       "         [ 100.,  100.,  100.],\n",
       "         [  57.,   57.,   57.]]]])"
      ]
     },
     "execution_count": 5,
     "metadata": {},
     "output_type": "execute_result"
    }
   ],
   "source": [
    "X"
   ]
  },
  {
   "cell_type": "code",
   "execution_count": 6,
   "metadata": {
    "collapsed": true
   },
   "outputs": [],
   "source": [
    "X = np.reshape(X,(X.shape[0],-1))"
   ]
  },
  {
   "cell_type": "code",
   "execution_count": 7,
   "metadata": {},
   "outputs": [
    {
     "data": {
      "text/plain": [
       "(10136, 150528)"
      ]
     },
     "execution_count": 7,
     "metadata": {},
     "output_type": "execute_result"
    }
   ],
   "source": [
    "X.shape"
   ]
  },
  {
   "cell_type": "code",
   "execution_count": 8,
   "metadata": {},
   "outputs": [
    {
     "data": {
      "text/plain": [
       "array([[  77.,   77.,   77., ...,  195.,  195.,  195.],\n",
       "       [  77.,   77.,   77., ...,   76.,   76.,   76.],\n",
       "       [  77.,   77.,   77., ...,  200.,  200.,  200.],\n",
       "       ..., \n",
       "       [   0.,    0.,    0., ...,  103.,  103.,  103.],\n",
       "       [   0.,    0.,    0., ...,  115.,  115.,  115.],\n",
       "       [   0.,    0.,    0., ...,   57.,   57.,   57.]])"
      ]
     },
     "execution_count": 8,
     "metadata": {},
     "output_type": "execute_result"
    }
   ],
   "source": [
    "X"
   ]
  },
  {
   "cell_type": "code",
   "execution_count": 9,
   "metadata": {
    "collapsed": true
   },
   "outputs": [],
   "source": [
    "# Create stratified k-fold subsets                                                                                                                                        \n",
    "kfold = 10  # no. of folds                                                                 \n",
    "skf = StratifiedKFold(kfold, shuffle=True,random_state=1)\n",
    "skfind = [None] * kfold  # skfind[i][0] -> train indices, skfind[i][1] -> test indices\n",
    "cnt = 0                                              \n",
    "for index in skf.split(X, y):         \n",
    "    skfind[cnt] = index                                                 \n",
    "    cnt += 1 "
   ]
  },
  {
   "cell_type": "code",
   "execution_count": 10,
   "metadata": {},
   "outputs": [
    {
     "name": "stdout",
     "output_type": "stream",
     "text": [
      "[0] Test acurracy: 0.6768\n",
      "[1] Test acurracy: 0.6869\n",
      "[2] Test acurracy: 0.6814\n",
      "[3] Test acurracy: 0.6585\n",
      "[4] Test acurracy: 0.6919\n",
      "[5] Test acurracy: 0.6677\n",
      "[6] Test acurracy: 0.6720\n",
      "[7] Test acurracy: 0.6726\n",
      "[8] Test acurracy: 0.6909\n",
      "[9] Test acurracy: 0.6733\n"
     ]
    }
   ],
   "source": [
    "# Training top_model and saving min training loss weights\n",
    "n_neighbors = 1\n",
    "conf_mat = np.zeros((len(list_fams),len(list_fams))) # Initializing the Confusion Matrix\n",
    "for i in range(kfold):\n",
    "    train_indices = skfind[i][0]\n",
    "    test_indices = skfind[i][1]\n",
    "    X_train = X[train_indices]\n",
    "    y_train = y[train_indices]\n",
    "    X_test = X[test_indices]\n",
    "    y_test = y[test_indices]\n",
    "    \n",
    "    top_model = KNeighborsClassifier(n_neighbors, weights='distance',n_jobs=-1)\n",
    "    top_model.fit(X_train,y_train)  # Training\n",
    "    y_pred = top_model.predict(X_test)  # Testing\n",
    "    print(\"[%d] Test acurracy: %.4f\" %(i,accuracy_score(y_test,y_pred)))\n",
    "    cm = confusion_matrix(y_test,y_pred)  # Compute confusion matrix for this fold\n",
    "    conf_mat = conf_mat + cm  # Compute global confusion matrix"
   ]
  },
  {
   "cell_type": "code",
   "execution_count": 11,
   "metadata": {},
   "outputs": [
    {
     "name": "stdout",
     "output_type": "stream",
     "text": [
      "Average acurracy: 0.6772\n"
     ]
    }
   ],
   "source": [
    "# Computing the average accuracy\n",
    "avg_acc = np.trace(conf_mat)/sum(no_imgs)\n",
    "print(\"Average acurracy: %.4f\" %(avg_acc))"
   ]
  },
  {
   "cell_type": "code",
   "execution_count": 12,
   "metadata": {
    "collapsed": true
   },
   "outputs": [],
   "source": [
    "# Viewing the confusion matrix\n",
    "conf_mat = conf_mat.T  # since rows and cols are interchangeable\n",
    "conf_mat_norm = conf_mat/no_imgs  # Normalizing the confusion matrix"
   ]
  },
  {
   "cell_type": "code",
   "execution_count": 13,
   "metadata": {},
   "outputs": [
    {
     "name": "stdout",
     "output_type": "stream",
     "text": [
      "Plotting the confusion matrix\n"
     ]
    },
    {
     "data": {
      "image/png": "[encoded data removed]",
      "text/plain": [
       "<matplotlib.figure.Figure at 0x7fd804ed96d0>"
      ]
     },
     "metadata": {},
     "output_type": "display_data"
    }
   ],
   "source": [
    "print(\"Plotting the confusion matrix\")\n",
    "conf_mat = np.around(conf_mat_norm,decimals=2)  # rounding to display in figure\n",
    "figure = plt.gcf()\n",
    "figure.set_size_inches(24, 18)\n",
    "plt.imshow(conf_mat,interpolation='nearest')\n",
    "for row in range(len(list_fams)):\n",
    "    for col in range(len(list_fams)):\n",
    "        plt.annotate(str(conf_mat[row][col]),xy=(col,row),ha='center',va='center')\n",
    "plt.xticks(range(len(list_fams)),list_fams,rotation=90,fontsize=10)\n",
    "plt.yticks(range(len(list_fams)),list_fams,fontsize=10)\n",
    "plt.title('Confusion matrix')\n",
    "plt.colorbar()\n",
    "plt.show()"
   ]
  }
 ],
 "metadata": {
  "kernelspec": {
   "display_name": "Python 2",
   "language": "python",
   "name": "python2"
  },
  "language_info": {
   "codemirror_mode": {
    "name": "ipython",
    "version": 2
   },
   "file_extension": ".py",
   "mimetype": "text/x-python",
   "name": "python",
   "nbconvert_exporter": "python",
   "pygments_lexer": "ipython2",
   "version": "2.7.12"
  }
 },
 "nbformat": 4,
 "nbformat_minor": 2
}
