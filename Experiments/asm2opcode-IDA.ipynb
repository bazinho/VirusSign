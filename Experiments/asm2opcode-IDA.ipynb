{
 "cells": [
  {
   "cell_type": "code",
   "execution_count": null,
   "metadata": {
    "collapsed": true
   },
   "outputs": [],
   "source": [
    "import glob\n",
    "import csv\n",
    "import os\n",
    "import nltk\n",
    "\n",
    "import numpy as np\n",
    "from numpy.random import RandomState\n",
    "np.random.seed(1)"
   ]
  },
  {
   "cell_type": "code",
   "execution_count": null,
   "metadata": {
    "collapsed": true
   },
   "outputs": [],
   "source": [
    "asmdir = \"Datasets/ByFamilyAsm\""
   ]
  },
  {
   "cell_type": "code",
   "execution_count": null,
   "metadata": {
    "collapsed": true,
    "scrolled": false
   },
   "outputs": [],
   "source": [
    "cur_dir = os.getcwd()\n",
    "os.chdir(asmdir)  # the parent folder with sub-folders\n",
    "\n",
    "# Get number of samples per family\n",
    "list_fams = sorted(os.listdir(os.getcwd()), key=str.lower)  # vector of strings with family names\n",
    "no_asms = []  # No. of samples per family\n",
    "for i in range(len(list_fams)):\n",
    "    os.chdir(list_fams[i])\n",
    "    len1 = len(glob.glob('*.asm'))  # assuming the asms are stored as 'asm'\n",
    "    no_asms.append(len1)\n",
    "    os.chdir('..')\n",
    "num_samples = np.sum(no_asms)  # total number of all samples\n",
    "\n",
    "# Compute the labels\n",
    "y = np.zeros(num_samples)\n",
    "pos = 0\n",
    "label = 0\n",
    "for i in no_asms:\n",
    "    print (\"Label:%2d\\tFamily: %15s\\tNumber of asm: %d\" % (label, list_fams[label], i))\n",
    "    for j in range(i):\n",
    "        y[pos] = label\n",
    "        pos += 1\n",
    "    label += 1\n",
    "num_classes = label\n",
    "\n",
    "# Compute the features\n",
    "width, height,channels = (224,224,3)\n",
    "X = np.zeros((num_samples, width, height, channels))\n",
    "cnt = 0\n",
    "flist = [] # List of asm paths\n",
    "print(\"Processing asm ...\")\n",
    "for i in range(len(list_fams)):\n",
    "    for asm_file in glob.glob(list_fams[i]+'/*.asm'):\n",
    "        #print(\"[%d] Processing asm: %s\" % (cnt, asm_file))\n",
    "        flist.append(os.path.join(os.getcwd(),asm_file))\n",
    "        cnt += 1\n",
    "print(\"Asm processed: %d\" %(cnt))\n",
    "\n",
    "os.chdir(cur_dir)"
   ]
  },
  {
   "cell_type": "code",
   "execution_count": null,
   "metadata": {
    "collapsed": true
   },
   "outputs": [],
   "source": [
    "num_samples = len(flist)\n",
    "print(\"Number of samples: %i\" %(num_samples))"
   ]
  },
  {
   "cell_type": "code",
   "execution_count": null,
   "metadata": {
    "collapsed": true
   },
   "outputs": [],
   "source": [
    "flist"
   ]
  },
  {
   "cell_type": "code",
   "execution_count": null,
   "metadata": {
    "collapsed": true
   },
   "outputs": [],
   "source": [
    "count = 0\n",
    "for fname in flist:\n",
    "    print(\"[%i] Converting file: %s\" %(count,fname))\n",
    "    opcodefile = fname.replace('ByFamilyAsm','ByFamilyAsmOpcode').replace('asm','opcode')\n",
    "    if not os.path.exists(opcodefile):\n",
    "        with open(fname,\"r\",encoding='latin1') as fin:\n",
    "            with open(opcodefile,\"w\") as fout:\n",
    "                fout.write(\" \".join(w for w in nltk.wordpunct_tokenize(fin.read()) if w.lower() in x86instructions))\n",
    "    count += 1\n",
    "        \n",
    "print(\"Converted files: %i\" %(count))\n"
   ]
  }
 ],
 "metadata": {
  "kernelspec": {
   "display_name": "Python 3",
   "language": "python",
   "name": "python3"
  },
  "language_info": {
   "codemirror_mode": {
    "name": "ipython",
    "version": 3
   },
   "file_extension": ".py",
   "mimetype": "text/x-python",
   "name": "python",
   "nbconvert_exporter": "python",
   "pygments_lexer": "ipython3",
   "version": "3.5.2"
  }
 },
 "nbformat": 4,
 "nbformat_minor": 2
}
