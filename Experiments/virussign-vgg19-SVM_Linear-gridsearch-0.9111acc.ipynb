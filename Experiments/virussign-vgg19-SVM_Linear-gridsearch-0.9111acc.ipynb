{
 "cells": [
  {
   "cell_type": "code",
   "execution_count": 1,
   "metadata": {},
   "outputs": [
    {
     "name": "stderr",
     "output_type": "stream",
     "text": [
      "Using TensorFlow backend.\n"
     ]
    }
   ],
   "source": [
    "import os\n",
    "import os.path\n",
    "import glob\n",
    "from sklearn.preprocessing import LabelEncoder\n",
    "from sklearn.model_selection import StratifiedKFold                                                                                                                       \n",
    "from sklearn.metrics import confusion_matrix,accuracy_score\n",
    "from sklearn.model_selection import StratifiedShuffleSplit\n",
    "from sklearn.model_selection import GridSearchCV\n",
    "import sklearn_evaluation.plot as skplot\n",
    "from sklearn.model_selection import learning_curve\n",
    "from sklearn import svm\n",
    "\n",
    "import matplotlib.pyplot as plt\n",
    "import matplotlib.cm as colormap\n",
    "plt.rcParams['image.cmap'] = 'Paired'\n",
    "\n",
    "import numpy as np\n",
    "np.random.seed(1)\n",
    "\n",
    "from keras.preprocessing.image import img_to_array\n",
    "from keras.utils import np_utils\n",
    "from keras.preprocessing import image\n",
    "from keras.applications.vgg19 import VGG19\n",
    "from keras.applications.imagenet_utils import preprocess_input"
   ]
  },
  {
   "cell_type": "code",
   "execution_count": 2,
   "metadata": {
    "collapsed": true
   },
   "outputs": [],
   "source": [
    "imagedir = \"Datasets/ByFamilyImagesWidth\""
   ]
  },
  {
   "cell_type": "code",
   "execution_count": 3,
   "metadata": {},
   "outputs": [
    {
     "name": "stdout",
     "output_type": "stream",
     "text": [
      "Label: 0\tFamily:         allaple\tNumber of images: 362\n",
      "Label: 1\tFamily:           alman\tNumber of images: 325\n",
      "Label: 2\tFamily:          autoit\tNumber of images: 261\n",
      "Label: 3\tFamily:            daws\tNumber of images: 466\n",
      "Label: 4\tFamily:            delf\tNumber of images: 359\n",
      "Label: 5\tFamily:         gamarue\tNumber of images: 259\n",
      "Label: 6\tFamily:          ibryte\tNumber of images: 347\n",
      "Label: 7\tFamily:          loring\tNumber of images: 285\n",
      "Label: 8\tFamily:          mydoom\tNumber of images: 578\n",
      "Label: 9\tFamily:          qukart\tNumber of images: 253\n",
      "Label:10\tFamily:          ramnit\tNumber of images: 506\n",
      "Label:11\tFamily:          sality\tNumber of images: 1401\n",
      "Label:12\tFamily:          simbot\tNumber of images: 1148\n",
      "Label:13\tFamily:       softpulse\tNumber of images: 912\n",
      "Label:14\tFamily:          viking\tNumber of images: 183\n",
      "Label:15\tFamily:         virlock\tNumber of images: 373\n",
      "Label:16\tFamily:          vobfus\tNumber of images: 405\n",
      "Label:17\tFamily:          wapomi\tNumber of images: 345\n",
      "Label:18\tFamily:            zbot\tNumber of images: 863\n",
      "Label:19\tFamily:          zegost\tNumber of images: 505\n",
      "Processing images ...\n",
      "Images processed: 10136\n"
     ]
    }
   ],
   "source": [
    "cur_dir = os.getcwd()\n",
    "os.chdir(imagedir)  # the parent folder with sub-folders\n",
    "\n",
    "# Get number of samples per family\n",
    "list_fams = sorted(os.listdir(os.getcwd()), key=str.lower)  # vector of strings with family names\n",
    "no_imgs = []  # No. of samples per family\n",
    "for i in range(len(list_fams)):\n",
    "    os.chdir(list_fams[i])\n",
    "    len1 = len(glob.glob('*.png'))  # assuming the images are stored as 'png'\n",
    "    no_imgs.append(len1)\n",
    "    os.chdir('..')\n",
    "num_samples = np.sum(no_imgs)  # total number of all samples\n",
    "\n",
    "# Compute the labels\n",
    "y = np.zeros(num_samples)\n",
    "pos = 0\n",
    "label = 0\n",
    "for i in no_imgs:\n",
    "    print (\"Label:%2d\\tFamily: %15s\\tNumber of images: %d\" % (label, list_fams[label], i))\n",
    "    for j in range(i):\n",
    "        y[pos] = label\n",
    "        pos += 1\n",
    "    label += 1\n",
    "num_classes = label\n",
    "\n",
    "# Compute the features\n",
    "width, height,channels = (224,224,3)\n",
    "X = np.zeros((num_samples, width, height, channels))\n",
    "cnt = 0\n",
    "list_paths = [] # List of image paths\n",
    "print(\"Processing images ...\")\n",
    "for i in range(len(list_fams)):\n",
    "    for img_file in glob.glob(list_fams[i]+'/*.png'):\n",
    "        #print(\"[%d] Processing image: %s\" % (cnt, img_file))\n",
    "        list_paths.append(os.path.join(os.getcwd(),img_file))\n",
    "        img = image.load_img(img_file, target_size=(224, 224))\n",
    "        x = image.img_to_array(img)\n",
    "        x = np.expand_dims(x, axis=0)\n",
    "        x = preprocess_input(x)\n",
    "        X[cnt] = x\n",
    "        cnt += 1\n",
    "print(\"Images processed: %d\" %(cnt))\n",
    "\n",
    "os.chdir(cur_dir)"
   ]
  },
  {
   "cell_type": "code",
   "execution_count": 4,
   "metadata": {},
   "outputs": [
    {
     "data": {
      "text/plain": [
       "(10136, 224, 224, 3)"
      ]
     },
     "execution_count": 4,
     "metadata": {},
     "output_type": "execute_result"
    }
   ],
   "source": [
    "X.shape"
   ]
  },
  {
   "cell_type": "code",
   "execution_count": 5,
   "metadata": {
    "collapsed": true
   },
   "outputs": [],
   "source": [
    "# Encoding classes (y) into integers (y_encoded) and then generating one-hot-encoding (Y)\n",
    "encoder = LabelEncoder()\n",
    "encoder.fit(y)\n",
    "y_encoded = encoder.transform(y)\n",
    "Y = np_utils.to_categorical(y_encoded)"
   ]
  },
  {
   "cell_type": "code",
   "execution_count": 6,
   "metadata": {
    "collapsed": true
   },
   "outputs": [],
   "source": [
    "# Creating base_model (VGG19 notop)\n",
    "image_shape = (224, 224, 3)                                                                                                                                                                                                                                                                                            \n",
    "base_model = VGG19(weights='imagenet', input_shape=image_shape, include_top=False)"
   ]
  },
  {
   "cell_type": "code",
   "execution_count": 7,
   "metadata": {},
   "outputs": [
    {
     "name": "stdout",
     "output_type": "stream",
     "text": [
      "Loading VGG19 extracted features from virussign-vgg19features.npy ...\n"
     ]
    }
   ],
   "source": [
    "filename = 'virussign-vgg19features.npy'\n",
    "if os.path.exists(filename):\n",
    "    print(\"Loading VGG19 extracted features from %s ...\" %(filename))\n",
    "    vgg19features = np.load(filename)\n",
    "else:\n",
    "    print(\"Extracting features from VGG19 layers ...\")\n",
    "    vgg19features = base_model.predict(X)\n",
    "    print(\"Saving VGG19 extracted features into %s ...\" %(filename))\n",
    "    np.save(filename, vgg19features)"
   ]
  },
  {
   "cell_type": "code",
   "execution_count": 8,
   "metadata": {},
   "outputs": [
    {
     "data": {
      "text/plain": [
       "(10136, 7, 7, 512)"
      ]
     },
     "execution_count": 8,
     "metadata": {},
     "output_type": "execute_result"
    }
   ],
   "source": [
    "vgg19features.shape"
   ]
  },
  {
   "cell_type": "code",
   "execution_count": 9,
   "metadata": {
    "collapsed": true
   },
   "outputs": [],
   "source": [
    "vgg19features = np.reshape(vgg19features,(vgg19features.shape[0],-1))"
   ]
  },
  {
   "cell_type": "code",
   "execution_count": 10,
   "metadata": {},
   "outputs": [
    {
     "data": {
      "text/plain": [
       "(10136, 25088)"
      ]
     },
     "execution_count": 10,
     "metadata": {},
     "output_type": "execute_result"
    }
   ],
   "source": [
    "vgg19features.shape"
   ]
  },
  {
   "cell_type": "code",
   "execution_count": 11,
   "metadata": {},
   "outputs": [
    {
     "name": "stdout",
     "output_type": "stream",
     "text": [
      "Fitting 5 folds for each of 13 candidates, totalling 65 fits\n",
      "[CV] C=0.01 ..........................................................\n",
      "[CV] C=0.01 ..........................................................\n",
      "[CV] C=0.01 ..........................................................\n",
      "[CV] C=0.01 ..........................................................\n",
      "[CV] C=0.01 ..........................................................\n",
      "[CV] C=0.1 ...........................................................\n",
      "[CV] C=0.1 ...........................................................\n",
      "[CV] C=0.1 ...........................................................\n",
      "[CV] C=0.1 ...........................................................\n",
      "[CV] C=0.1 ...........................................................\n",
      "[CV] ........................... C=0.01, score=0.913708, total= 5.5min\n",
      "[CV] C=1.0 ...........................................................\n",
      "[CV] ........................... C=0.01, score=0.906312, total= 6.1min\n",
      "[CV] C=1.0 ...........................................................\n",
      "[CV] ........................... C=0.01, score=0.910256, total= 6.2min\n",
      "[CV] C=1.0 ...........................................................\n",
      "[CV] ........................... C=0.01, score=0.920611, total= 6.4min\n",
      "[CV] C=1.0 ...........................................................\n",
      "[CV] ............................ C=0.1, score=0.914201, total= 6.1min\n",
      "[CV] C=1.0 ...........................................................\n"
     ]
    },
    {
     "name": "stderr",
     "output_type": "stream",
     "text": [
      "[Parallel(n_jobs=10)]: Done   5 tasks      | elapsed:  6.6min\n"
     ]
    },
    {
     "name": "stdout",
     "output_type": "stream",
     "text": [
      "[CV] ............................ C=0.1, score=0.903846, total= 6.1min\n",
      "[CV] ........................... C=0.01, score=0.903846, total= 6.4min\n",
      "[CV] C=10.0 ..........................................................\n",
      "[CV] C=10.0 ..........................................................\n",
      "[CV] ............................ C=0.1, score=0.909270, total= 6.4min\n",
      "[CV] C=10.0 ..........................................................\n",
      "[CV] ............................ C=0.1, score=0.920611, total= 6.4min\n",
      "[CV] C=10.0 ..........................................................\n",
      "[CV] ............................ C=0.1, score=0.906805, total= 6.6min\n",
      "[CV] C=10.0 ..........................................................\n",
      "[CV] ............................ C=1.0, score=0.921105, total= 5.2min\n",
      "[CV] C=100.0 .........................................................\n",
      "[CV] ............................ C=1.0, score=0.914201, total= 5.6min\n",
      "[CV] C=100.0 .........................................................\n"
     ]
    },
    {
     "name": "stderr",
     "output_type": "stream",
     "text": [
      "[Parallel(n_jobs=10)]: Done  12 tasks      | elapsed: 12.2min\n"
     ]
    },
    {
     "name": "stdout",
     "output_type": "stream",
     "text": [
      "[CV] ........................... C=10.0, score=0.921105, total= 5.6min\n",
      "[CV] C=100.0 .........................................................\n",
      "[CV] ........................... C=10.0, score=0.909270, total= 5.3min\n",
      "[CV] C=100.0 .........................................................\n",
      "[CV] ........................... C=10.0, score=0.914201, total= 5.6min\n",
      "[CV] C=100.0 .........................................................\n",
      "[CV] ............................ C=1.0, score=0.909763, total= 6.1min\n",
      "[CV] C=1000.0 ........................................................\n",
      "[CV] ............................ C=1.0, score=0.903846, total= 6.3min\n",
      "[CV] C=1000.0 ........................................................\n",
      "[CV] ............................ C=1.0, score=0.906805, total= 6.2min\n",
      "[CV] C=1000.0 ........................................................\n",
      "[CV] ........................... C=10.0, score=0.906312, total= 5.7min\n",
      "[CV] C=1000.0 ........................................................\n",
      "[CV] ........................... C=10.0, score=0.903846, total= 6.3min\n",
      "[CV] C=1000.0 ........................................................\n",
      "[CV] .......................... C=100.0, score=0.921105, total= 5.4min\n",
      "[CV] C=10000.0 .......................................................\n"
     ]
    },
    {
     "name": "stderr",
     "output_type": "stream",
     "text": [
      "[Parallel(n_jobs=10)]: Done  21 tasks      | elapsed: 17.0min\n"
     ]
    },
    {
     "name": "stdout",
     "output_type": "stream",
     "text": [
      "[CV] .......................... C=100.0, score=0.903846, total= 6.0min\n",
      "[CV] C=10000.0 .......................................................\n",
      "[CV] .......................... C=100.0, score=0.909270, total= 6.3min\n",
      "[CV] C=10000.0 .......................................................\n",
      "[CV] .......................... C=100.0, score=0.913708, total= 6.6min\n",
      "[CV] C=10000.0 .......................................................\n",
      "[CV] ......................... C=1000.0, score=0.913708, total= 6.3min\n",
      "[CV] C=10000.0 .......................................................\n",
      "[CV] ......................... C=1000.0, score=0.921105, total= 6.6min\n",
      "[CV] C=100000.0 ......................................................\n",
      "[CV] .......................... C=100.0, score=0.906805, total= 6.8min\n",
      "[CV] ......................... C=1000.0, score=0.909270, total= 6.5min\n",
      "[CV] C=100000.0 ......................................................\n",
      "[CV] ......................... C=1000.0, score=0.903846, total= 6.2min\n",
      "[CV] C=100000.0 ......................................................\n",
      "[CV] C=100000.0 ......................................................\n",
      "[CV] ......................... C=1000.0, score=0.906805, total= 7.0min\n"
     ]
    },
    {
     "name": "stderr",
     "output_type": "stream",
     "text": [
      "[Parallel(n_jobs=10)]: Done  30 tasks      | elapsed: 20.3min\n"
     ]
    },
    {
     "name": "stdout",
     "output_type": "stream",
     "text": [
      "[CV] C=100000.0 ......................................................\n",
      "[CV] ........................ C=10000.0, score=0.921105, total= 6.3min\n",
      "[CV] C=1000000.0 .....................................................\n",
      "[CV] ........................ C=10000.0, score=0.903846, total= 5.9min\n",
      "[CV] C=1000000.0 .....................................................\n",
      "[CV] ........................ C=10000.0, score=0.908284, total= 6.4min\n",
      "[CV] C=1000000.0 .....................................................\n",
      "[CV] ........................ C=10000.0, score=0.914201, total= 6.3min\n",
      "[CV] C=1000000.0 .....................................................\n",
      "[CV] ....................... C=100000.0, score=0.921105, total= 5.6min\n",
      "[CV] C=1000000.0 .....................................................\n",
      "[CV] ....................... C=100000.0, score=0.908284, total= 6.3min\n",
      "[CV] C=10000000.0 ....................................................\n",
      "[CV] ........................ C=10000.0, score=0.906805, total= 6.5min\n",
      "[CV] C=10000000.0 ....................................................\n",
      "[CV] ....................... C=100000.0, score=0.914201, total= 6.4min\n",
      "[CV] C=10000000.0 ....................................................\n",
      "[CV] ....................... C=100000.0, score=0.903846, total= 6.8min\n",
      "[CV] C=10000000.0 ....................................................\n",
      "[CV] ....................... C=100000.0, score=0.906312, total= 6.3min\n",
      "[CV] C=10000000.0 ....................................................\n",
      "[CV] ...................... C=1000000.0, score=0.920611, total= 6.7min\n",
      "[CV] C=100000000.0 ...................................................\n"
     ]
    },
    {
     "name": "stderr",
     "output_type": "stream",
     "text": [
      "[Parallel(n_jobs=10)]: Done  41 tasks      | elapsed: 30.4min\n"
     ]
    },
    {
     "name": "stdout",
     "output_type": "stream",
     "text": [
      "[CV] ...................... C=1000000.0, score=0.909270, total= 6.0min\n",
      "[CV] C=100000000.0 ...................................................\n",
      "[CV] ...................... C=1000000.0, score=0.914694, total= 5.9min\n",
      "[CV] C=100000000.0 ...................................................\n",
      "[CV] ...................... C=1000000.0, score=0.903846, total= 6.2min\n",
      "[CV] C=100000000.0 ...................................................\n",
      "[CV] ...................... C=1000000.0, score=0.905819, total= 6.3min\n",
      "[CV] C=100000000.0 ...................................................\n",
      "[CV] ..................... C=10000000.0, score=0.909270, total= 5.9min\n",
      "[CV] C=1000000000.0 ..................................................\n",
      "[CV] ..................... C=10000000.0, score=0.920611, total= 6.0min\n",
      "[CV] C=1000000000.0 ..................................................\n",
      "[CV] ..................... C=10000000.0, score=0.914694, total= 5.9min\n",
      "[CV] C=1000000000.0 ..................................................\n",
      "[CV] ..................... C=10000000.0, score=0.903846, total= 5.8min\n",
      "[CV] C=1000000000.0 ..................................................\n",
      "[CV] ..................... C=10000000.0, score=0.905819, total= 6.1min\n",
      "[CV] C=1000000000.0 ..................................................\n",
      "[CV] .................... C=100000000.0, score=0.921105, total= 6.3min\n",
      "[CV] C=10000000000.0 .................................................\n",
      "[CV] .................... C=100000000.0, score=0.914694, total= 5.8min\n",
      "[CV] C=10000000000.0 .................................................\n",
      "[CV] .................... C=100000000.0, score=0.909763, total= 6.3min\n",
      "[CV] C=10000000000.0 .................................................\n"
     ]
    },
    {
     "name": "stderr",
     "output_type": "stream",
     "text": [
      "[Parallel(n_jobs=10)]: Done  53 out of  65 | elapsed: 37.3min remaining:  8.5min\n"
     ]
    },
    {
     "name": "stdout",
     "output_type": "stream",
     "text": [
      "[CV] .................... C=100000000.0, score=0.903846, total= 6.5min\n",
      "[CV] C=10000000000.0 .................................................\n",
      "[CV] ................... C=1000000000.0, score=0.921105, total= 6.3min\n",
      "[CV] ................... C=1000000000.0, score=0.909763, total= 6.3min\n",
      "[CV] C=10000000000.0 .................................................\n",
      "[CV] ................... C=1000000000.0, score=0.903846, total= 5.9min\n",
      "[CV] ................... C=1000000000.0, score=0.914694, total= 6.3min\n",
      "[CV] .................... C=100000000.0, score=0.906312, total= 7.0min\n",
      "[CV] ................... C=1000000000.0, score=0.906312, total= 6.2min\n"
     ]
    },
    {
     "name": "stderr",
     "output_type": "stream",
     "text": [
      "[Parallel(n_jobs=10)]: Done  60 out of  65 | elapsed: 39.4min remaining:  3.3min\n"
     ]
    },
    {
     "name": "stdout",
     "output_type": "stream",
     "text": [
      "[CV] .................. C=10000000000.0, score=0.921105, total= 5.2min\n",
      "[CV] .................. C=10000000000.0, score=0.909763, total= 5.3min\n",
      "[CV] .................. C=10000000000.0, score=0.914694, total= 5.2min\n",
      "[CV] .................. C=10000000000.0, score=0.906312, total= 5.0min\n",
      "[CV] .................. C=10000000000.0, score=0.903846, total= 5.2min\n"
     ]
    },
    {
     "name": "stderr",
     "output_type": "stream",
     "text": [
      "[Parallel(n_jobs=10)]: Done  65 out of  65 | elapsed: 43.4min finished\n"
     ]
    },
    {
     "data": {
      "text/plain": [
       "GridSearchCV(cv=StratifiedShuffleSplit(n_splits=5, random_state=1, test_size=0.2,\n",
       "            train_size=None),\n",
       "       error_score='raise',\n",
       "       estimator=LinearSVC(C=1.0, class_weight=None, dual=True, fit_intercept=True,\n",
       "     intercept_scaling=1, loss='squared_hinge', max_iter=1000,\n",
       "     multi_class='ovr', penalty='l2', random_state=None, tol=0.0001,\n",
       "     verbose=0),\n",
       "       fit_params={}, iid=True, n_jobs=10,\n",
       "       param_grid={'C': array([  1.00000e-02,   1.00000e-01,   1.00000e+00,   1.00000e+01,\n",
       "         1.00000e+02,   1.00000e+03,   1.00000e+04,   1.00000e+05,\n",
       "         1.00000e+06,   1.00000e+07,   1.00000e+08,   1.00000e+09,\n",
       "         1.00000e+10])},\n",
       "       pre_dispatch='2*n_jobs', refit=True, return_train_score=True,\n",
       "       scoring=None, verbose=10)"
      ]
     },
     "execution_count": 11,
     "metadata": {},
     "output_type": "execute_result"
    }
   ],
   "source": [
    "# Training top_model\n",
    "C_range = np.logspace(-2, 10, 13)\n",
    "param_grid = dict(C=C_range)\n",
    "cv = StratifiedShuffleSplit(n_splits=5, test_size=0.2, random_state=1)\n",
    "\n",
    "top_model = GridSearchCV(svm.LinearSVC(), param_grid=param_grid, cv=cv, verbose=10, n_jobs=10)\n",
    "top_model.fit(vgg19features,y)  # Training "
   ]
  },
  {
   "cell_type": "code",
   "execution_count": 12,
   "metadata": {},
   "outputs": [
    {
     "name": "stdout",
     "output_type": "stream",
     "text": [
      "Best parameters: {'C': 1.0} - score: 0.9111\n"
     ]
    }
   ],
   "source": [
    "print(\"Best parameters: %s - score: %0.4f\" % (top_model.best_params_, top_model.best_score_))"
   ]
  },
  {
   "cell_type": "code",
   "execution_count": 13,
   "metadata": {},
   "outputs": [
    {
     "data": {
      "text/plain": [
       "{'mean_fit_time': array([ 365.32295604,  378.42473655,  352.49658737,  340.45966234,\n",
       "         371.48877883,  389.83241568,  374.19438581,  373.87254763,\n",
       "         372.04780335,  355.28152642,  380.65334244,  371.24019985,\n",
       "         309.31269398]),\n",
       " 'mean_score_time': array([ 1.28146462,  1.45254102,  1.01391478,  1.63533816,  1.55459919,\n",
       "         1.15395489,  1.63930259,  1.12694521,  1.64622626,  1.10436621,\n",
       "         1.06382093,  0.78966298,  0.61246595]),\n",
       " 'mean_test_score': array([ 0.91094675,  0.91094675,  0.91114398,  0.91094675,  0.91094675,\n",
       "         0.91094675,  0.91084813,  0.91074951,  0.91084813,  0.91084813,\n",
       "         0.91114398,  0.91114398,  0.91114398]),\n",
       " 'mean_train_score': array([ 0.99982733,  0.99982733,  0.99982733,  0.99982733,  0.99982733,\n",
       "         0.99982733,  0.99982733,  0.99982733,  0.99982733,  0.99982733,\n",
       "         0.99982733,  0.99982733,  0.99982733]),\n",
       " 'param_C': masked_array(data = [0.01 0.10000000000000001 1.0 10.0 100.0 1000.0 10000.0 100000.0 1000000.0\n",
       "  10000000.0 100000000.0 1000000000.0 10000000000.0],\n",
       "              mask = [False False False False False False False False False False False False\n",
       "  False],\n",
       "        fill_value = ?),\n",
       " 'params': ({'C': 0.01},\n",
       "  {'C': 0.10000000000000001},\n",
       "  {'C': 1.0},\n",
       "  {'C': 10.0},\n",
       "  {'C': 100.0},\n",
       "  {'C': 1000.0},\n",
       "  {'C': 10000.0},\n",
       "  {'C': 100000.0},\n",
       "  {'C': 1000000.0},\n",
       "  {'C': 10000000.0},\n",
       "  {'C': 100000000.0},\n",
       "  {'C': 1000000000.0},\n",
       "  {'C': 10000000000.0}),\n",
       " 'rank_test_score': array([ 5,  5,  1,  5,  5,  5, 10, 13, 10, 10,  1,  1,  1], dtype=int32),\n",
       " 'split0_test_score': array([ 0.92061144,  0.92061144,  0.92110454,  0.92110454,  0.92110454,\n",
       "         0.92110454,  0.92110454,  0.92110454,  0.92061144,  0.92061144,\n",
       "         0.92110454,  0.92110454,  0.92110454]),\n",
       " 'split0_train_score': array([ 0.99975333,  0.99975333,  0.99975333,  0.99975333,  0.99975333,\n",
       "         0.99975333,  0.99975333,  0.99975333,  0.99975333,  0.99975333,\n",
       "         0.99975333,  0.99975333,  0.99975333]),\n",
       " 'split1_test_score': array([ 0.91025641,  0.90927022,  0.90976331,  0.90927022,  0.90927022,\n",
       "         0.90927022,  0.90828402,  0.90828402,  0.90927022,  0.90927022,\n",
       "         0.90976331,  0.90976331,  0.90976331]),\n",
       " 'split1_train_score': array([ 0.99975333,  0.99975333,  0.99975333,  0.99975333,  0.99975333,\n",
       "         0.99975333,  0.99975333,  0.99975333,  0.99975333,  0.99975333,\n",
       "         0.99975333,  0.99975333,  0.99975333]),\n",
       " 'split2_test_score': array([ 0.91370809,  0.91420118,  0.91420118,  0.91420118,  0.91370809,\n",
       "         0.91370809,  0.91420118,  0.91420118,  0.91469428,  0.91469428,\n",
       "         0.91469428,  0.91469428,  0.91469428]),\n",
       " 'split2_train_score': array([ 0.99987667,  0.99987667,  0.99987667,  0.99987667,  0.99987667,\n",
       "         0.99987667,  0.99987667,  0.99987667,  0.99987667,  0.99987667,\n",
       "         0.99987667,  0.99987667,  0.99987667]),\n",
       " 'split3_test_score': array([ 0.90384615,  0.90384615,  0.90384615,  0.90384615,  0.90384615,\n",
       "         0.90384615,  0.90384615,  0.90384615,  0.90384615,  0.90384615,\n",
       "         0.90384615,  0.90384615,  0.90384615]),\n",
       " 'split3_train_score': array([ 1.,  1.,  1.,  1.,  1.,  1.,  1.,  1.,  1.,  1.,  1.,  1.,  1.]),\n",
       " 'split4_test_score': array([ 0.90631164,  0.90680473,  0.90680473,  0.90631164,  0.90680473,\n",
       "         0.90680473,  0.90680473,  0.90631164,  0.90581854,  0.90581854,\n",
       "         0.90631164,  0.90631164,  0.90631164]),\n",
       " 'split4_train_score': array([ 0.99975333,  0.99975333,  0.99975333,  0.99975333,  0.99975333,\n",
       "         0.99975333,  0.99975333,  0.99975333,  0.99975333,  0.99975333,\n",
       "         0.99975333,  0.99975333,  0.99975333]),\n",
       " 'std_fit_time': array([ 19.42761748,  11.35270144,  25.11748167,  18.98036814,\n",
       "         30.66310978,  17.12717064,  11.20737535,  23.00337582,\n",
       "         17.47103977,   5.99036114,  22.6578509 ,  10.80150776,   6.75942163]),\n",
       " 'std_score_time': array([ 0.67011053,  0.38914135,  0.31722797,  0.74321308,  0.84512074,\n",
       "         0.61376447,  1.10059243,  0.66566624,  0.93612268,  0.74869627,\n",
       "         0.63821702,  0.17111051,  0.0529671 ]),\n",
       " 'std_test_score': array([ 0.00588915,  0.00590564,  0.0060424 ,  0.0061398 ,  0.00601982,\n",
       "         0.00601982,  0.00613821,  0.00620597,  0.0061144 ,  0.0061144 ,\n",
       "         0.00616982,  0.00616982,  0.00616982]),\n",
       " 'std_train_score': array([  9.86679822e-05,   9.86679822e-05,   9.86679822e-05,\n",
       "          9.86679822e-05,   9.86679822e-05,   9.86679822e-05,\n",
       "          9.86679822e-05,   9.86679822e-05,   9.86679822e-05,\n",
       "          9.86679822e-05,   9.86679822e-05,   9.86679822e-05,\n",
       "          9.86679822e-05])}"
      ]
     },
     "execution_count": 13,
     "metadata": {},
     "output_type": "execute_result"
    }
   ],
   "source": [
    "top_model.cv_results_"
   ]
  },
  {
   "cell_type": "code",
   "execution_count": 14,
   "metadata": {},
   "outputs": [
    {
     "name": "stderr",
     "output_type": "stream",
     "text": [
      "/usr/local/lib/python2.7/dist-packages/sklearn/model_selection/_search.py:667: DeprecationWarning: The grid_scores_ attribute was deprecated in version 0.18 in favor of the more elaborate cv_results_ attribute. The grid_scores_ attribute will not be available from 0.20\n",
      "  DeprecationWarning)\n"
     ]
    },
    {
     "data": {
      "text/plain": [
       "[mean: 0.91095, std: 0.00589, params: {'C': 0.01},\n",
       " mean: 0.91095, std: 0.00591, params: {'C': 0.10000000000000001},\n",
       " mean: 0.91114, std: 0.00604, params: {'C': 1.0},\n",
       " mean: 0.91095, std: 0.00614, params: {'C': 10.0},\n",
       " mean: 0.91095, std: 0.00602, params: {'C': 100.0},\n",
       " mean: 0.91095, std: 0.00602, params: {'C': 1000.0},\n",
       " mean: 0.91085, std: 0.00614, params: {'C': 10000.0},\n",
       " mean: 0.91075, std: 0.00621, params: {'C': 100000.0},\n",
       " mean: 0.91085, std: 0.00611, params: {'C': 1000000.0},\n",
       " mean: 0.91085, std: 0.00611, params: {'C': 10000000.0},\n",
       " mean: 0.91114, std: 0.00617, params: {'C': 100000000.0},\n",
       " mean: 0.91114, std: 0.00617, params: {'C': 1000000000.0},\n",
       " mean: 0.91114, std: 0.00617, params: {'C': 10000000000.0}]"
      ]
     },
     "execution_count": 14,
     "metadata": {},
     "output_type": "execute_result"
    }
   ],
   "source": [
    "top_model.grid_scores_"
   ]
  },
  {
   "cell_type": "code",
   "execution_count": 15,
   "metadata": {
    "collapsed": true
   },
   "outputs": [],
   "source": [
    "cv = StratifiedShuffleSplit(n_splits=5, test_size=0.2, random_state=1)\n",
    "svm_model = svm.LinearSVC(C=top_model.best_params_['C'])\n",
    "train_sizes = np.linspace(.1, 1.0, 10)\n",
    "train_sizes, train_scores, test_scores = learning_curve(svm_model, vgg19features, y, cv=cv, n_jobs=10, train_sizes=train_sizes)"
   ]
  },
  {
   "cell_type": "code",
   "execution_count": 16,
   "metadata": {},
   "outputs": [
    {
     "data": {
      "image/png": "[encoded data removed]",
      "text/plain": [
       "<matplotlib.figure.Figure at 0x7efbca6c6c10>"
      ]
     },
     "metadata": {},
     "output_type": "display_data"
    }
   ],
   "source": [
    "figure = plt.gcf()\n",
    "figure.set_size_inches(24, 9)\n",
    "skplot.learning_curve(train_scores, test_scores, train_sizes)\n",
    "plt.show()"
   ]
  }
 ],
 "metadata": {
  "kernelspec": {
   "display_name": "Python 2",
   "language": "python",
   "name": "python2"
  },
  "language_info": {
   "codemirror_mode": {
    "name": "ipython",
    "version": 2
   },
   "file_extension": ".py",
   "mimetype": "text/x-python",
   "name": "python",
   "nbconvert_exporter": "python",
   "pygments_lexer": "ipython2",
   "version": "2.7.12"
  }
 },
 "nbformat": 4,
 "nbformat_minor": 2
}
